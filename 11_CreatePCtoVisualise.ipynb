{
 "cells": [
  {
   "cell_type": "code",
   "execution_count": 1,
   "metadata": {},
   "outputs": [],
   "source": [
    "# This creates my point cloud that I will later visualise in CloudCompare "
   ]
  },
  {
   "cell_type": "code",
   "execution_count": 6,
   "metadata": {},
   "outputs": [],
   "source": [
    "import pandas as pd\n",
    "import os\n",
    "import numpy as np\n",
    "import sklearn \n",
    "import time\n",
    "from sklearn.externals import joblib\n",
    "from sklearn.ensemble import RandomForestClassifier\n",
    "from sklearn.metrics import f1_score\n",
    "from sklearn.metrics import precision_score\n",
    "from sklearn.metrics import recall_score\n",
    "from sklearn.metrics import classification_report\n",
    "from sklearn.metrics import confusion_matrix"
   ]
  },
  {
   "cell_type": "code",
   "execution_count": 2,
   "metadata": {},
   "outputs": [],
   "source": [
    "# Define a data frame with all my data  \n",
    "FILE_PATH = r\"../DATA\"\n",
    "FILE_PATH_ScenarioB = r\"../DATA/ML_datasets/ScenarioB\"\n",
    "\n",
    "y_test = np.loadtxt(FILE_PATH_ScenarioB+'/y_test_withXYZ.txt', delimiter=',')\n",
    "X_test = np.loadtxt(FILE_PATH_ScenarioB+'/X_test_withXYZ.txt', delimiter=',')"
   ]
  },
  {
   "cell_type": "code",
   "execution_count": 3,
   "metadata": {},
   "outputs": [],
   "source": [
    "y_train = np.loadtxt(FILE_PATH_ScenarioB+'/y_train_3000samples.txt', delimiter=',')\n",
    "X_train = np.loadtxt(FILE_PATH_ScenarioB+'/X_train_3000samples.txt', delimiter=',')"
   ]
  },
  {
   "cell_type": "code",
   "execution_count": 13,
   "metadata": {},
   "outputs": [
    {
     "name": "stdout",
     "output_type": "stream",
     "text": [
      "[ 1.89761597e+03  2.12569121e+04  4.07478256e+01  3.54852114e-01\n",
      "  6.40880415e-01  4.26747087e-03  2.05213294e-04  9.95732529e-01\n",
      "  1.62097985e-02  2.41504694e-03  2.58726273e-03  4.40212969e+04\n",
      "  5.60086000e-01  1.00110000e+00 -3.32971600e+00  9.94356151e-01\n",
      "  4.69195382e-03  9.51895540e-04  5.15583348e-06  9.99048104e-01\n",
      "  2.41984698e-03  2.96323256e-04  9.45658220e-04  1.02817553e+05\n",
      "  1.00110000e+00  2.67118663e-01  7.30064067e-01  2.81727012e-03\n",
      "  3.62335310e-04  9.97182730e-01  2.96471388e-02  4.93890785e-03\n",
      "  1.62313325e-03  2.23624635e+04  1.00110000e+00]\n",
      "[ 3.54852114e-01  6.40880415e-01  4.26747087e-03  2.05213294e-04\n",
      "  9.95732529e-01  1.62097985e-02  2.41504694e-03  2.58726273e-03\n",
      "  4.40212969e+04  5.60086000e-01  1.00110000e+00 -3.32971600e+00\n",
      "  9.94356151e-01  4.69195382e-03  9.51895540e-04  5.15583348e-06\n",
      "  9.99048104e-01  2.41984698e-03  2.96323256e-04  9.45658220e-04\n",
      "  1.02817553e+05  1.00110000e+00  2.67118663e-01  7.30064067e-01\n",
      "  2.81727012e-03  3.62335310e-04  9.97182730e-01  2.96471388e-02\n",
      "  4.93890785e-03  1.62313325e-03  2.23624635e+04  1.00110000e+00]\n"
     ]
    }
   ],
   "source": [
    "X_test_classifier = X_test[:,3:]\n",
    "print X_test[0]\n",
    "print X_test_classifier[0]"
   ]
  },
  {
   "cell_type": "code",
   "execution_count": 14,
   "metadata": {},
   "outputs": [
    {
     "name": "stdout",
     "output_type": "stream",
     "text": [
      "Created Random Forest in: 0.000262022018433 seconds\n",
      "Fit model in: 17.0284371376 seconds\n"
     ]
    }
   ],
   "source": [
    "start = time.time()\n",
    "clf = RandomForestClassifier(max_depth=12, random_state=42, n_estimators=100, criterion='gini')\n",
    "print 'Created Random Forest in:', float(time.time()-start), 'seconds'\n",
    "start = time.time()\n",
    "clf.fit(X_train, y_train)\n",
    "print 'Fit model in:', float(time.time()-start), 'seconds'"
   ]
  },
  {
   "cell_type": "code",
   "execution_count": 15,
   "metadata": {},
   "outputs": [],
   "source": [
    "# Make predictions for the unseen dataset \n",
    "predictions = clf.predict(X_test_classifier)"
   ]
  },
  {
   "cell_type": "code",
   "execution_count": 17,
   "metadata": {},
   "outputs": [
    {
     "data": {
      "text/plain": [
       "(2210459,)"
      ]
     },
     "execution_count": 17,
     "metadata": {},
     "output_type": "execute_result"
    }
   ],
   "source": [
    "predictions.shape"
   ]
  },
  {
   "cell_type": "code",
   "execution_count": 18,
   "metadata": {},
   "outputs": [
    {
     "data": {
      "text/plain": [
       "(2210459,)"
      ]
     },
     "execution_count": 18,
     "metadata": {},
     "output_type": "execute_result"
    }
   ],
   "source": [
    "y_test.shape"
   ]
  },
  {
   "cell_type": "code",
   "execution_count": 19,
   "metadata": {},
   "outputs": [],
   "source": [
    "f1 = f1_score(y_test, predictions, average=\"weighted\")"
   ]
  },
  {
   "cell_type": "code",
   "execution_count": 20,
   "metadata": {},
   "outputs": [
    {
     "data": {
      "text/plain": [
       "0.9059708449682049"
      ]
     },
     "execution_count": 20,
     "metadata": {},
     "output_type": "execute_result"
    }
   ],
   "source": [
    "f1"
   ]
  },
  {
   "cell_type": "code",
   "execution_count": 21,
   "metadata": {},
   "outputs": [],
   "source": [
    "# Now I want to export the true test labels y_test and the predictions together\n",
    "# with the (xyz) coordinates"
   ]
  },
  {
   "cell_type": "code",
   "execution_count": 22,
   "metadata": {},
   "outputs": [],
   "source": [
    "coordinates = X_test[:,0:3]"
   ]
  },
  {
   "cell_type": "code",
   "execution_count": 23,
   "metadata": {},
   "outputs": [
    {
     "data": {
      "text/plain": [
       "array([ 1897.6159668 , 21256.91210938,    40.74782562])"
      ]
     },
     "execution_count": 23,
     "metadata": {},
     "output_type": "execute_result"
    }
   ],
   "source": [
    "coordinates[0]"
   ]
  },
  {
   "cell_type": "code",
   "execution_count": 29,
   "metadata": {},
   "outputs": [],
   "source": [
    "d = pd.DataFrame({'X':coordinates[:,0],'Y':coordinates[:,1],'Z':coordinates[:,2],\n",
    "                 'true_labels':y_test, 'predictions':predictions})"
   ]
  },
  {
   "cell_type": "code",
   "execution_count": 31,
   "metadata": {},
   "outputs": [
    {
     "data": {
      "text/plain": [
       "(2210459, 5)"
      ]
     },
     "execution_count": 31,
     "metadata": {},
     "output_type": "execute_result"
    }
   ],
   "source": [
    "d.shape"
   ]
  },
  {
   "cell_type": "code",
   "execution_count": 32,
   "metadata": {},
   "outputs": [],
   "source": [
    "# Now export datadrame \n",
    "# Save file\n",
    "d.to_csv(FILE_PATH_ScenarioB+'/VisualisePCdataset.txt', index=False)"
   ]
  },
  {
   "cell_type": "code",
   "execution_count": null,
   "metadata": {},
   "outputs": [],
   "source": []
  }
 ],
 "metadata": {
  "kernelspec": {
   "display_name": "Python 2",
   "language": "python",
   "name": "python2"
  },
  "language_info": {
   "codemirror_mode": {
    "name": "ipython",
    "version": 2
   },
   "file_extension": ".py",
   "mimetype": "text/x-python",
   "name": "python",
   "nbconvert_exporter": "python",
   "pygments_lexer": "ipython2",
   "version": "2.7.15rc1"
  }
 },
 "nbformat": 4,
 "nbformat_minor": 2
}
