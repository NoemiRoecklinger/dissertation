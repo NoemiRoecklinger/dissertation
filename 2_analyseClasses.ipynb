{
 "cells": [
  {
   "cell_type": "markdown",
   "metadata": {},
   "source": [
    "# Analyse classes and class labels \n",
    "This is the next file to: \n",
    "1) get_relative_heights File (read in file and then determine the relative heights and save it)\n",
    "\n",
    "Now: read in the file including the relative heights and analyse the classes"
   ]
  },
  {
   "cell_type": "code",
   "execution_count": 65,
   "metadata": {},
   "outputs": [],
   "source": [
    "import numpy as np\n",
    "import pandas as pd\n",
    "import os\n",
    "import matplotlib.pyplot as plt"
   ]
  },
  {
   "cell_type": "code",
   "execution_count": 135,
   "metadata": {},
   "outputs": [],
   "source": [
    "%matplotlib inline"
   ]
  },
  {
   "cell_type": "markdown",
   "metadata": {},
   "source": [
    "## Read file in and prepare to use "
   ]
  },
  {
   "cell_type": "code",
   "execution_count": 66,
   "metadata": {},
   "outputs": [
    {
     "data": {
      "text/html": [
       "<div>\n",
       "<style scoped>\n",
       "    .dataframe tbody tr th:only-of-type {\n",
       "        vertical-align: middle;\n",
       "    }\n",
       "\n",
       "    .dataframe tbody tr th {\n",
       "        vertical-align: top;\n",
       "    }\n",
       "\n",
       "    .dataframe thead th {\n",
       "        text-align: right;\n",
       "    }\n",
       "</style>\n",
       "<table border=\"1\" class=\"dataframe\">\n",
       "  <thead>\n",
       "    <tr style=\"text-align: right;\">\n",
       "      <th></th>\n",
       "      <th>Unnamed: 0</th>\n",
       "      <th>X</th>\n",
       "      <th>Y</th>\n",
       "      <th>Z</th>\n",
       "      <th>x_origin</th>\n",
       "      <th>y_origin</th>\n",
       "      <th>z_origin</th>\n",
       "      <th>reflectance</th>\n",
       "      <th>theta</th>\n",
       "      <th>id</th>\n",
       "      <th>class</th>\n",
       "      <th>range</th>\n",
       "      <th>relative_height</th>\n",
       "    </tr>\n",
       "  </thead>\n",
       "  <tbody>\n",
       "    <tr>\n",
       "      <th>0</th>\n",
       "      <td>1</td>\n",
       "      <td>1903.382935</td>\n",
       "      <td>21122.490234</td>\n",
       "      <td>38.991180</td>\n",
       "      <td>1907.911133</td>\n",
       "      <td>21121.59375</td>\n",
       "      <td>41.325581</td>\n",
       "      <td>-10.139493</td>\n",
       "      <td>-1.063594</td>\n",
       "      <td>0.0</td>\n",
       "      <td>303040192.0</td>\n",
       "      <td>5.17300</td>\n",
       "      <td>-2.334401</td>\n",
       "    </tr>\n",
       "    <tr>\n",
       "      <th>1</th>\n",
       "      <td>2</td>\n",
       "      <td>1903.404541</td>\n",
       "      <td>21122.486328</td>\n",
       "      <td>38.990284</td>\n",
       "      <td>1907.911011</td>\n",
       "      <td>21121.59375</td>\n",
       "      <td>41.325989</td>\n",
       "      <td>-9.909495</td>\n",
       "      <td>-1.061419</td>\n",
       "      <td>0.0</td>\n",
       "      <td>303040192.0</td>\n",
       "      <td>5.15375</td>\n",
       "      <td>-2.335705</td>\n",
       "    </tr>\n",
       "    <tr>\n",
       "      <th>2</th>\n",
       "      <td>3</td>\n",
       "      <td>1903.428223</td>\n",
       "      <td>21122.480469</td>\n",
       "      <td>38.990547</td>\n",
       "      <td>1907.910767</td>\n",
       "      <td>21121.59375</td>\n",
       "      <td>41.326397</td>\n",
       "      <td>-9.559498</td>\n",
       "      <td>-1.059231</td>\n",
       "      <td>0.0</td>\n",
       "      <td>303040192.0</td>\n",
       "      <td>5.13200</td>\n",
       "      <td>-2.335850</td>\n",
       "    </tr>\n",
       "    <tr>\n",
       "      <th>3</th>\n",
       "      <td>4</td>\n",
       "      <td>1903.451538</td>\n",
       "      <td>21122.476562</td>\n",
       "      <td>38.991211</td>\n",
       "      <td>1907.910645</td>\n",
       "      <td>21121.59375</td>\n",
       "      <td>41.326786</td>\n",
       "      <td>-10.209500</td>\n",
       "      <td>-1.057138</td>\n",
       "      <td>0.0</td>\n",
       "      <td>303040192.0</td>\n",
       "      <td>5.11050</td>\n",
       "      <td>-2.335575</td>\n",
       "    </tr>\n",
       "    <tr>\n",
       "      <th>4</th>\n",
       "      <td>5</td>\n",
       "      <td>1903.474854</td>\n",
       "      <td>21122.470703</td>\n",
       "      <td>38.991467</td>\n",
       "      <td>1907.910400</td>\n",
       "      <td>21121.59375</td>\n",
       "      <td>41.327194</td>\n",
       "      <td>-10.499502</td>\n",
       "      <td>-1.054956</td>\n",
       "      <td>0.0</td>\n",
       "      <td>303040192.0</td>\n",
       "      <td>5.08925</td>\n",
       "      <td>-2.335727</td>\n",
       "    </tr>\n",
       "  </tbody>\n",
       "</table>\n",
       "</div>"
      ],
      "text/plain": [
       "   Unnamed: 0            X             Y          Z     x_origin     y_origin  \\\n",
       "0           1  1903.382935  21122.490234  38.991180  1907.911133  21121.59375   \n",
       "1           2  1903.404541  21122.486328  38.990284  1907.911011  21121.59375   \n",
       "2           3  1903.428223  21122.480469  38.990547  1907.910767  21121.59375   \n",
       "3           4  1903.451538  21122.476562  38.991211  1907.910645  21121.59375   \n",
       "4           5  1903.474854  21122.470703  38.991467  1907.910400  21121.59375   \n",
       "\n",
       "    z_origin  reflectance     theta   id        class    range  \\\n",
       "0  41.325581   -10.139493 -1.063594  0.0  303040192.0  5.17300   \n",
       "1  41.325989    -9.909495 -1.061419  0.0  303040192.0  5.15375   \n",
       "2  41.326397    -9.559498 -1.059231  0.0  303040192.0  5.13200   \n",
       "3  41.326786   -10.209500 -1.057138  0.0  303040192.0  5.11050   \n",
       "4  41.327194   -10.499502 -1.054956  0.0  303040192.0  5.08925   \n",
       "\n",
       "   relative_height  \n",
       "0        -2.334401  \n",
       "1        -2.335705  \n",
       "2        -2.335850  \n",
       "3        -2.335575  \n",
       "4        -2.335727  "
      ]
     },
     "execution_count": 66,
     "metadata": {},
     "output_type": "execute_result"
    }
   ],
   "source": [
    "# Define a data frame with all my data# Define  \n",
    "FILE_PATH = r\"../DATA\"\n",
    "FILE_NAME = r\"/Cassette_relativeHeight.csv\"\n",
    "df = pd.read_csv(FILE_PATH+FILE_NAME, delimiter=',')\n",
    "df.head()"
   ]
  },
  {
   "cell_type": "code",
   "execution_count": 67,
   "metadata": {},
   "outputs": [
    {
     "data": {
      "text/html": [
       "<div>\n",
       "<style scoped>\n",
       "    .dataframe tbody tr th:only-of-type {\n",
       "        vertical-align: middle;\n",
       "    }\n",
       "\n",
       "    .dataframe tbody tr th {\n",
       "        vertical-align: top;\n",
       "    }\n",
       "\n",
       "    .dataframe thead th {\n",
       "        text-align: right;\n",
       "    }\n",
       "</style>\n",
       "<table border=\"1\" class=\"dataframe\">\n",
       "  <thead>\n",
       "    <tr style=\"text-align: right;\">\n",
       "      <th></th>\n",
       "      <th>X</th>\n",
       "      <th>Y</th>\n",
       "      <th>Z</th>\n",
       "      <th>x_origin</th>\n",
       "      <th>y_origin</th>\n",
       "      <th>z_origin</th>\n",
       "      <th>reflectance</th>\n",
       "      <th>theta</th>\n",
       "      <th>id</th>\n",
       "      <th>class</th>\n",
       "      <th>range</th>\n",
       "      <th>relative_height</th>\n",
       "    </tr>\n",
       "  </thead>\n",
       "  <tbody>\n",
       "    <tr>\n",
       "      <th>0</th>\n",
       "      <td>1903.382935</td>\n",
       "      <td>21122.490234</td>\n",
       "      <td>38.991180</td>\n",
       "      <td>1907.911133</td>\n",
       "      <td>21121.59375</td>\n",
       "      <td>41.325581</td>\n",
       "      <td>-10.139493</td>\n",
       "      <td>-1.063594</td>\n",
       "      <td>0.0</td>\n",
       "      <td>303040192.0</td>\n",
       "      <td>5.17300</td>\n",
       "      <td>-2.334401</td>\n",
       "    </tr>\n",
       "    <tr>\n",
       "      <th>1</th>\n",
       "      <td>1903.404541</td>\n",
       "      <td>21122.486328</td>\n",
       "      <td>38.990284</td>\n",
       "      <td>1907.911011</td>\n",
       "      <td>21121.59375</td>\n",
       "      <td>41.325989</td>\n",
       "      <td>-9.909495</td>\n",
       "      <td>-1.061419</td>\n",
       "      <td>0.0</td>\n",
       "      <td>303040192.0</td>\n",
       "      <td>5.15375</td>\n",
       "      <td>-2.335705</td>\n",
       "    </tr>\n",
       "    <tr>\n",
       "      <th>2</th>\n",
       "      <td>1903.428223</td>\n",
       "      <td>21122.480469</td>\n",
       "      <td>38.990547</td>\n",
       "      <td>1907.910767</td>\n",
       "      <td>21121.59375</td>\n",
       "      <td>41.326397</td>\n",
       "      <td>-9.559498</td>\n",
       "      <td>-1.059231</td>\n",
       "      <td>0.0</td>\n",
       "      <td>303040192.0</td>\n",
       "      <td>5.13200</td>\n",
       "      <td>-2.335850</td>\n",
       "    </tr>\n",
       "    <tr>\n",
       "      <th>3</th>\n",
       "      <td>1903.451538</td>\n",
       "      <td>21122.476562</td>\n",
       "      <td>38.991211</td>\n",
       "      <td>1907.910645</td>\n",
       "      <td>21121.59375</td>\n",
       "      <td>41.326786</td>\n",
       "      <td>-10.209500</td>\n",
       "      <td>-1.057138</td>\n",
       "      <td>0.0</td>\n",
       "      <td>303040192.0</td>\n",
       "      <td>5.11050</td>\n",
       "      <td>-2.335575</td>\n",
       "    </tr>\n",
       "    <tr>\n",
       "      <th>4</th>\n",
       "      <td>1903.474854</td>\n",
       "      <td>21122.470703</td>\n",
       "      <td>38.991467</td>\n",
       "      <td>1907.910400</td>\n",
       "      <td>21121.59375</td>\n",
       "      <td>41.327194</td>\n",
       "      <td>-10.499502</td>\n",
       "      <td>-1.054956</td>\n",
       "      <td>0.0</td>\n",
       "      <td>303040192.0</td>\n",
       "      <td>5.08925</td>\n",
       "      <td>-2.335727</td>\n",
       "    </tr>\n",
       "  </tbody>\n",
       "</table>\n",
       "</div>"
      ],
      "text/plain": [
       "             X             Y          Z     x_origin     y_origin   z_origin  \\\n",
       "0  1903.382935  21122.490234  38.991180  1907.911133  21121.59375  41.325581   \n",
       "1  1903.404541  21122.486328  38.990284  1907.911011  21121.59375  41.325989   \n",
       "2  1903.428223  21122.480469  38.990547  1907.910767  21121.59375  41.326397   \n",
       "3  1903.451538  21122.476562  38.991211  1907.910645  21121.59375  41.326786   \n",
       "4  1903.474854  21122.470703  38.991467  1907.910400  21121.59375  41.327194   \n",
       "\n",
       "   reflectance     theta   id        class    range  relative_height  \n",
       "0   -10.139493 -1.063594  0.0  303040192.0  5.17300        -2.334401  \n",
       "1    -9.909495 -1.061419  0.0  303040192.0  5.15375        -2.335705  \n",
       "2    -9.559498 -1.059231  0.0  303040192.0  5.13200        -2.335850  \n",
       "3   -10.209500 -1.057138  0.0  303040192.0  5.11050        -2.335575  \n",
       "4   -10.499502 -1.054956  0.0  303040192.0  5.08925        -2.335727  "
      ]
     },
     "execution_count": 67,
     "metadata": {},
     "output_type": "execute_result"
    }
   ],
   "source": [
    "# Get rid of first column (was ID-created by Python I assume)\n",
    "df = df.drop(['Unnamed: 0'], axis=1)\n",
    "df.head()"
   ]
  },
  {
   "cell_type": "code",
   "execution_count": 68,
   "metadata": {},
   "outputs": [
    {
     "data": {
      "text/html": [
       "<div>\n",
       "<style scoped>\n",
       "    .dataframe tbody tr th:only-of-type {\n",
       "        vertical-align: middle;\n",
       "    }\n",
       "\n",
       "    .dataframe tbody tr th {\n",
       "        vertical-align: top;\n",
       "    }\n",
       "\n",
       "    .dataframe thead th {\n",
       "        text-align: right;\n",
       "    }\n",
       "</style>\n",
       "<table border=\"1\" class=\"dataframe\">\n",
       "  <thead>\n",
       "    <tr style=\"text-align: right;\">\n",
       "      <th></th>\n",
       "      <th>X</th>\n",
       "      <th>Y</th>\n",
       "      <th>Z</th>\n",
       "      <th>x_origin</th>\n",
       "      <th>y_origin</th>\n",
       "      <th>z_origin</th>\n",
       "      <th>reflectance</th>\n",
       "      <th>theta</th>\n",
       "      <th>id</th>\n",
       "      <th>class</th>\n",
       "      <th>range</th>\n",
       "      <th>relative_height</th>\n",
       "    </tr>\n",
       "  </thead>\n",
       "  <tbody>\n",
       "    <tr>\n",
       "      <th>0</th>\n",
       "      <td>1903.382935</td>\n",
       "      <td>21122.490234</td>\n",
       "      <td>38.991180</td>\n",
       "      <td>1907.911133</td>\n",
       "      <td>21121.59375</td>\n",
       "      <td>41.325581</td>\n",
       "      <td>-10.139493</td>\n",
       "      <td>-1.063594</td>\n",
       "      <td>0</td>\n",
       "      <td>303040192</td>\n",
       "      <td>5.17300</td>\n",
       "      <td>-2.334401</td>\n",
       "    </tr>\n",
       "    <tr>\n",
       "      <th>1</th>\n",
       "      <td>1903.404541</td>\n",
       "      <td>21122.486328</td>\n",
       "      <td>38.990284</td>\n",
       "      <td>1907.911011</td>\n",
       "      <td>21121.59375</td>\n",
       "      <td>41.325989</td>\n",
       "      <td>-9.909495</td>\n",
       "      <td>-1.061419</td>\n",
       "      <td>0</td>\n",
       "      <td>303040192</td>\n",
       "      <td>5.15375</td>\n",
       "      <td>-2.335705</td>\n",
       "    </tr>\n",
       "    <tr>\n",
       "      <th>2</th>\n",
       "      <td>1903.428223</td>\n",
       "      <td>21122.480469</td>\n",
       "      <td>38.990547</td>\n",
       "      <td>1907.910767</td>\n",
       "      <td>21121.59375</td>\n",
       "      <td>41.326397</td>\n",
       "      <td>-9.559498</td>\n",
       "      <td>-1.059231</td>\n",
       "      <td>0</td>\n",
       "      <td>303040192</td>\n",
       "      <td>5.13200</td>\n",
       "      <td>-2.335850</td>\n",
       "    </tr>\n",
       "    <tr>\n",
       "      <th>3</th>\n",
       "      <td>1903.451538</td>\n",
       "      <td>21122.476562</td>\n",
       "      <td>38.991211</td>\n",
       "      <td>1907.910645</td>\n",
       "      <td>21121.59375</td>\n",
       "      <td>41.326786</td>\n",
       "      <td>-10.209500</td>\n",
       "      <td>-1.057138</td>\n",
       "      <td>0</td>\n",
       "      <td>303040192</td>\n",
       "      <td>5.11050</td>\n",
       "      <td>-2.335575</td>\n",
       "    </tr>\n",
       "    <tr>\n",
       "      <th>4</th>\n",
       "      <td>1903.474854</td>\n",
       "      <td>21122.470703</td>\n",
       "      <td>38.991467</td>\n",
       "      <td>1907.910400</td>\n",
       "      <td>21121.59375</td>\n",
       "      <td>41.327194</td>\n",
       "      <td>-10.499502</td>\n",
       "      <td>-1.054956</td>\n",
       "      <td>0</td>\n",
       "      <td>303040192</td>\n",
       "      <td>5.08925</td>\n",
       "      <td>-2.335727</td>\n",
       "    </tr>\n",
       "  </tbody>\n",
       "</table>\n",
       "</div>"
      ],
      "text/plain": [
       "             X             Y          Z     x_origin     y_origin   z_origin  \\\n",
       "0  1903.382935  21122.490234  38.991180  1907.911133  21121.59375  41.325581   \n",
       "1  1903.404541  21122.486328  38.990284  1907.911011  21121.59375  41.325989   \n",
       "2  1903.428223  21122.480469  38.990547  1907.910767  21121.59375  41.326397   \n",
       "3  1903.451538  21122.476562  38.991211  1907.910645  21121.59375  41.326786   \n",
       "4  1903.474854  21122.470703  38.991467  1907.910400  21121.59375  41.327194   \n",
       "\n",
       "   reflectance     theta  id      class    range  relative_height  \n",
       "0   -10.139493 -1.063594   0  303040192  5.17300        -2.334401  \n",
       "1    -9.909495 -1.061419   0  303040192  5.15375        -2.335705  \n",
       "2    -9.559498 -1.059231   0  303040192  5.13200        -2.335850  \n",
       "3   -10.209500 -1.057138   0  303040192  5.11050        -2.335575  \n",
       "4   -10.499502 -1.054956   0  303040192  5.08925        -2.335727  "
      ]
     },
     "execution_count": 68,
     "metadata": {},
     "output_type": "execute_result"
    }
   ],
   "source": [
    "# Convert the two columns ID and CLASS into integer values\n",
    "df = df.astype({\"id\": 'int64', \"class\": 'int64'})\n",
    "df.head()"
   ]
  },
  {
   "cell_type": "code",
   "execution_count": 75,
   "metadata": {},
   "outputs": [],
   "source": [
    "# Create a subsample to continue working with during the day so Dave can work on his computer \n",
    "df = df[:10000]"
   ]
  },
  {
   "cell_type": "markdown",
   "metadata": {},
   "source": [
    "## Now analyse the classes"
   ]
  },
  {
   "cell_type": "code",
   "execution_count": 76,
   "metadata": {},
   "outputs": [
    {
     "name": "stdout",
     "output_type": "stream",
     "text": [
      "Number of points: 10000\n",
      "Number of attributes: 12\n",
      "Number of different class labels in the column: class: 5\n"
     ]
    }
   ],
   "source": [
    "rows, columns = df.shape\n",
    "n_classes = df[\"class\"].value_counts().shape[0]\n",
    "print \"Number of points:\", rows\n",
    "print \"Number of attributes:\", columns\n",
    "print \"Number of different class labels in the column: class:\", n_classes"
   ]
  },
  {
   "cell_type": "code",
   "execution_count": 77,
   "metadata": {},
   "outputs": [
    {
     "data": {
      "text/plain": [
       "203000000    4744\n",
       "202020000    4025\n",
       "303040192    1110\n",
       "202030000      84\n",
       "202040000      37\n",
       "Name: class, dtype: int64"
      ]
     },
     "execution_count": 77,
     "metadata": {},
     "output_type": "execute_result"
    }
   ],
   "source": [
    "# Returns the classes and how often each value occurs, in descending order for the frequency \n",
    "df[\"class\"].value_counts()"
   ]
  },
  {
   "cell_type": "code",
   "execution_count": 78,
   "metadata": {},
   "outputs": [
    {
     "data": {
      "text/plain": [
       "class\n",
       "202020000    4025\n",
       "202030000      84\n",
       "202040000      37\n",
       "203000000    4744\n",
       "303040192    1110\n",
       "dtype: int64"
      ]
     },
     "execution_count": 78,
     "metadata": {},
     "output_type": "execute_result"
    }
   ],
   "source": [
    "# Returns the classes and how often they occur, sorted by the class name \n",
    "df.groupby('class').size()"
   ]
  },
  {
   "cell_type": "code",
   "execution_count": 79,
   "metadata": {},
   "outputs": [
    {
     "data": {
      "text/plain": [
       "X                  float64\n",
       "Y                  float64\n",
       "Z                  float64\n",
       "x_origin           float64\n",
       "y_origin           float64\n",
       "z_origin           float64\n",
       "reflectance        float64\n",
       "theta              float64\n",
       "id                   int64\n",
       "class                int64\n",
       "range              float64\n",
       "relative_height    float64\n",
       "dtype: object"
      ]
     },
     "execution_count": 79,
     "metadata": {},
     "output_type": "execute_result"
    }
   ],
   "source": [
    "# Gives me the data types that occur \n",
    "df.dtypes"
   ]
  },
  {
   "cell_type": "markdown",
   "metadata": {},
   "source": [
    "## Introduce categorial values so that it is easier to visualise \n",
    "For each class, give it the categorial name "
   ]
  },
  {
   "cell_type": "code",
   "execution_count": 122,
   "metadata": {},
   "outputs": [
    {
     "data": {
      "text/plain": [
       "[4744, 4025, 1110, 84, 37]"
      ]
     },
     "execution_count": 122,
     "metadata": {},
     "output_type": "execute_result"
    }
   ],
   "source": [
    "# This is just to visualise how many points there are for each class \n",
    "df['class'].value_counts().tolist()"
   ]
  },
  {
   "cell_type": "code",
   "execution_count": 123,
   "metadata": {},
   "outputs": [
    {
     "name": "stdout",
     "output_type": "stream",
     "text": [
      "<type 'list'>\n",
      "[202020000, 202030000, 202040000, 203000000, 303040192]\n"
     ]
    }
   ],
   "source": [
    "# Create a LookUpTable with all class codes that are in the class column (e.g. 0: unclassified)\n",
    "lut_classCodes = df['class'].unique().tolist()\n",
    "lut_classCodes.sort()\n",
    "print type(lut_classCodes)\n",
    "print lut_classCodes"
   ]
  },
  {
   "cell_type": "code",
   "execution_count": 124,
   "metadata": {},
   "outputs": [],
   "source": [
    "# Create a new column in the dataframe and now fill it with categorial data \n",
    "df[\"class_category\"] = df[\"class\"]\n",
    "\n",
    "# This is the whole LUT to use later when I actually process the full data set \n",
    "lut_classnames = [\"unclassified\", \"other_ground\", \"road\", \"sidewalk\", \"curb\", \"building\", \"other_object\", \n",
    "                  \"x1\", \"x2\", \"x3\", \"x4\", \"x5\", \"grid\", \"pedestrian\", \"x6\", \"x7\", \"x8\", \"x9\", \"x10\", \n",
    "                  \"x11\", \"tree\", \"potted_plant\"]\n",
    "lut_subset_10000 = [\"road\", \"sidewalk\", \"curb\", \"building\", \"x\"]\n",
    "\n",
    "##########\n",
    "# IMPORTANT: change that later to run with full dataset  \n",
    "\n",
    "# Modify that column to visualise it \n",
    "if len(lut_classCodes) == len(lut_subset_10000):\n",
    "    for count, elem in enumerate(lut_classCodes):\n",
    "        df[\"class_category\"].where(df[\"class_category\"] != elem, lut_subset_10000[count], inplace=True)     \n",
    "else:\n",
    "    print(\"LUT must have same length\")"
   ]
  },
  {
   "cell_type": "code",
   "execution_count": 125,
   "metadata": {},
   "outputs": [
    {
     "data": {
      "text/html": [
       "<div>\n",
       "<style scoped>\n",
       "    .dataframe tbody tr th:only-of-type {\n",
       "        vertical-align: middle;\n",
       "    }\n",
       "\n",
       "    .dataframe tbody tr th {\n",
       "        vertical-align: top;\n",
       "    }\n",
       "\n",
       "    .dataframe thead th {\n",
       "        text-align: right;\n",
       "    }\n",
       "</style>\n",
       "<table border=\"1\" class=\"dataframe\">\n",
       "  <thead>\n",
       "    <tr style=\"text-align: right;\">\n",
       "      <th></th>\n",
       "      <th>X</th>\n",
       "      <th>Y</th>\n",
       "      <th>Z</th>\n",
       "      <th>x_origin</th>\n",
       "      <th>y_origin</th>\n",
       "      <th>z_origin</th>\n",
       "      <th>reflectance</th>\n",
       "      <th>theta</th>\n",
       "      <th>id</th>\n",
       "      <th>class</th>\n",
       "      <th>range</th>\n",
       "      <th>relative_height</th>\n",
       "      <th>class_category</th>\n",
       "    </tr>\n",
       "  </thead>\n",
       "  <tbody>\n",
       "    <tr>\n",
       "      <th>0</th>\n",
       "      <td>1903.382935</td>\n",
       "      <td>21122.490234</td>\n",
       "      <td>38.991180</td>\n",
       "      <td>1907.911133</td>\n",
       "      <td>21121.59375</td>\n",
       "      <td>41.325581</td>\n",
       "      <td>-10.139493</td>\n",
       "      <td>-1.063594</td>\n",
       "      <td>0</td>\n",
       "      <td>303040192</td>\n",
       "      <td>5.17300</td>\n",
       "      <td>-2.334401</td>\n",
       "      <td>x</td>\n",
       "    </tr>\n",
       "    <tr>\n",
       "      <th>1</th>\n",
       "      <td>1903.404541</td>\n",
       "      <td>21122.486328</td>\n",
       "      <td>38.990284</td>\n",
       "      <td>1907.911011</td>\n",
       "      <td>21121.59375</td>\n",
       "      <td>41.325989</td>\n",
       "      <td>-9.909495</td>\n",
       "      <td>-1.061419</td>\n",
       "      <td>0</td>\n",
       "      <td>303040192</td>\n",
       "      <td>5.15375</td>\n",
       "      <td>-2.335705</td>\n",
       "      <td>x</td>\n",
       "    </tr>\n",
       "    <tr>\n",
       "      <th>2</th>\n",
       "      <td>1903.428223</td>\n",
       "      <td>21122.480469</td>\n",
       "      <td>38.990547</td>\n",
       "      <td>1907.910767</td>\n",
       "      <td>21121.59375</td>\n",
       "      <td>41.326397</td>\n",
       "      <td>-9.559498</td>\n",
       "      <td>-1.059231</td>\n",
       "      <td>0</td>\n",
       "      <td>303040192</td>\n",
       "      <td>5.13200</td>\n",
       "      <td>-2.335850</td>\n",
       "      <td>x</td>\n",
       "    </tr>\n",
       "    <tr>\n",
       "      <th>3</th>\n",
       "      <td>1903.451538</td>\n",
       "      <td>21122.476562</td>\n",
       "      <td>38.991211</td>\n",
       "      <td>1907.910645</td>\n",
       "      <td>21121.59375</td>\n",
       "      <td>41.326786</td>\n",
       "      <td>-10.209500</td>\n",
       "      <td>-1.057138</td>\n",
       "      <td>0</td>\n",
       "      <td>303040192</td>\n",
       "      <td>5.11050</td>\n",
       "      <td>-2.335575</td>\n",
       "      <td>x</td>\n",
       "    </tr>\n",
       "    <tr>\n",
       "      <th>4</th>\n",
       "      <td>1903.474854</td>\n",
       "      <td>21122.470703</td>\n",
       "      <td>38.991467</td>\n",
       "      <td>1907.910400</td>\n",
       "      <td>21121.59375</td>\n",
       "      <td>41.327194</td>\n",
       "      <td>-10.499502</td>\n",
       "      <td>-1.054956</td>\n",
       "      <td>0</td>\n",
       "      <td>303040192</td>\n",
       "      <td>5.08925</td>\n",
       "      <td>-2.335727</td>\n",
       "      <td>x</td>\n",
       "    </tr>\n",
       "  </tbody>\n",
       "</table>\n",
       "</div>"
      ],
      "text/plain": [
       "             X             Y          Z     x_origin     y_origin   z_origin  \\\n",
       "0  1903.382935  21122.490234  38.991180  1907.911133  21121.59375  41.325581   \n",
       "1  1903.404541  21122.486328  38.990284  1907.911011  21121.59375  41.325989   \n",
       "2  1903.428223  21122.480469  38.990547  1907.910767  21121.59375  41.326397   \n",
       "3  1903.451538  21122.476562  38.991211  1907.910645  21121.59375  41.326786   \n",
       "4  1903.474854  21122.470703  38.991467  1907.910400  21121.59375  41.327194   \n",
       "\n",
       "   reflectance     theta  id      class    range  relative_height  \\\n",
       "0   -10.139493 -1.063594   0  303040192  5.17300        -2.334401   \n",
       "1    -9.909495 -1.061419   0  303040192  5.15375        -2.335705   \n",
       "2    -9.559498 -1.059231   0  303040192  5.13200        -2.335850   \n",
       "3   -10.209500 -1.057138   0  303040192  5.11050        -2.335575   \n",
       "4   -10.499502 -1.054956   0  303040192  5.08925        -2.335727   \n",
       "\n",
       "  class_category  \n",
       "0              x  \n",
       "1              x  \n",
       "2              x  \n",
       "3              x  \n",
       "4              x  "
      ]
     },
     "execution_count": 125,
     "metadata": {},
     "output_type": "execute_result"
    }
   ],
   "source": [
    "df.head()"
   ]
  },
  {
   "cell_type": "code",
   "execution_count": 126,
   "metadata": {},
   "outputs": [
    {
     "data": {
      "text/plain": [
       "building    4744\n",
       "road        4025\n",
       "x           1110\n",
       "sidewalk      84\n",
       "curb          37\n",
       "Name: class_category, dtype: int64"
      ]
     },
     "execution_count": 126,
     "metadata": {},
     "output_type": "execute_result"
    }
   ],
   "source": [
    "df['class_category'].value_counts()"
   ]
  },
  {
   "cell_type": "code",
   "execution_count": 145,
   "metadata": {},
   "outputs": [
    {
     "data": {
      "image/png": "[encoded data removed]",
      "text/plain": [
       "<Figure size 648x648 with 2 Axes>"
      ]
     },
     "metadata": {},
     "output_type": "display_data"
    }
   ],
   "source": [
    "plt.figure(figsize=(9,9))\n",
    "plt.subplot(221), df['class_category'].value_counts().plot(kind='bar', logy=False, \n",
    "                                                           title=\"Histogram of existing classes\")\n",
    "plt.subplot(222), df['class_category'].value_counts().plot(kind='bar', logy=True, \n",
    "                                                           title=\"Histogram of existing classes (logarithmic)\"), plt.show();"
   ]
  }
 ],
 "metadata": {
  "kernelspec": {
   "display_name": "Python 2",
   "language": "python",
   "name": "python2"
  },
  "language_info": {
   "codemirror_mode": {
    "name": "ipython",
    "version": 2
   },
   "file_extension": ".py",
   "mimetype": "text/x-python",
   "name": "python",
   "nbconvert_exporter": "python",
   "pygments_lexer": "ipython2",
   "version": "2.7.12"
  }
 },
 "nbformat": 4,
 "nbformat_minor": 2
}
