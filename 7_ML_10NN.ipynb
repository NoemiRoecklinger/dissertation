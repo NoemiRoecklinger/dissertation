{
 "cells": [
  {
   "cell_type": "code",
   "execution_count": 3,
   "metadata": {},
   "outputs": [],
   "source": [
    "import numpy as np\n",
    "import sklearn \n",
    "from sklearn.neighbors import KDTree\n",
    "from sklearn.ensemble import RandomForestClassifier\n",
    "import time\n",
    "from sklearn import metrics\n",
    "from sklearn.externals import joblib"
   ]
  },
  {
   "cell_type": "code",
   "execution_count": 254,
   "metadata": {},
   "outputs": [],
   "source": [
    "# Define a data frame with all my data# Define  \n",
    "FILE_PATH = r\"../DATA/ML_datasets/Initial_setup\"\n",
    "META_FILE_PATH = \"../DATA/META\"\n",
    "IMAGE_FILE_PATH = r\"images\"\n",
    "\n",
    "y_train = np.loadtxt(FILE_PATH+'/y_train_10NN.txt', delimiter=',')\n",
    "X_train = np.loadtxt(FILE_PATH+'/X_train_10NN.txt', delimiter=',')"
   ]
  },
  {
   "cell_type": "code",
   "execution_count": 255,
   "metadata": {},
   "outputs": [],
   "source": [
    "# For RF classifier \n",
    "y_train = y_train.astype('float32')\n",
    "X_train = X_train.astype('float32')"
   ]
  },
  {
   "cell_type": "markdown",
   "metadata": {},
   "source": [
    "### Downsampling\n",
    "Here, the smallest class is determined and all other classes are downsampled accordingly "
   ]
  },
  {
   "cell_type": "code",
   "execution_count": 297,
   "metadata": {},
   "outputs": [],
   "source": [
    "# Create an empty matrix and fill it with the features and then label at the end \n",
    "M = np.zeros((X_train.shape[0], X_train.shape[1]+1))\n",
    "M[:,-1]=y_train\n",
    "M[:,:11] = X_train"
   ]
  },
  {
   "cell_type": "code",
   "execution_count": 298,
   "metadata": {},
   "outputs": [],
   "source": [
    "LOT_classes = range(1,12)\n",
    "smallest_class_value = 3842"
   ]
  },
  {
   "cell_type": "code",
   "execution_count": 299,
   "metadata": {},
   "outputs": [],
   "source": [
    "data = []\n",
    "for class_label in LOT_classes:\n",
    "    N = M[np.where(M[:,-1]==class_label)]\n",
    "    S = N[:smallest_class_value,:]\n",
    "    data.append(S)"
   ]
  },
  {
   "cell_type": "code",
   "execution_count": 300,
   "metadata": {},
   "outputs": [
    {
     "name": "stdout",
     "output_type": "stream",
     "text": [
      "(11, 10, 12)\n"
     ]
    }
   ],
   "source": [
    "data_array = np.array(data)\n",
    "print \"Dimensions of array of all data\", data_array.shape"
   ]
  },
  {
   "cell_type": "code",
   "execution_count": 301,
   "metadata": {},
   "outputs": [],
   "source": [
    "data = data_array.reshape((data_array.shape[0] *smallest_class_value, data_array.shape[2]))"
   ]
  },
  {
   "cell_type": "code",
   "execution_count": 302,
   "metadata": {},
   "outputs": [
    {
     "data": {
      "text/plain": [
       "(110, 12)"
      ]
     },
     "execution_count": 302,
     "metadata": {},
     "output_type": "execute_result"
    }
   ],
   "source": [
    "print \"Real shape for the training data\", data.shape"
   ]
  },
  {
   "cell_type": "code",
   "execution_count": null,
   "metadata": {},
   "outputs": [],
   "source": [
    "print \"Before shuffling:\", data[0]"
   ]
  },
  {
   "cell_type": "code",
   "execution_count": 305,
   "metadata": {},
   "outputs": [],
   "source": [
    "np.random.shuffle(data)"
   ]
  },
  {
   "cell_type": "code",
   "execution_count": 306,
   "metadata": {},
   "outputs": [
    {
     "data": {
      "text/plain": [
       "array([ 6.11725211e-01,  3.87576818e-01,  6.97948737e-04,  3.42751446e-05,\n",
       "        9.99302030e-01,  5.74664213e-03,  7.35674053e-04,  5.02492767e-04,\n",
       "        2.48341680e+04, -2.33920288e+00,  1.98399997e-03,  2.00000000e+00])"
      ]
     },
     "execution_count": 306,
     "metadata": {},
     "output_type": "execute_result"
    }
   ],
   "source": [
    "print \"After shuffling:\", data[0]"
   ]
  },
  {
   "cell_type": "code",
   "execution_count": null,
   "metadata": {},
   "outputs": [],
   "source": [
    "# Save all my data as NUMPY arrays\n",
    "# To load them later\n",
    "# np.loadtxt()\n",
    "np.savetxt(FILE_PATH+'/y_train_10NN_3842samples.txt', data[:,-1], delimiter=',')\n",
    "np.savetxt(FILE_PATH+'/X_train_10NN_3842samples.txt', data[:,:11], delimiter=',')"
   ]
  },
  {
   "cell_type": "code",
   "execution_count": null,
   "metadata": {},
   "outputs": [],
   "source": [
    "X_train_downsample = data[:,:11]\n",
    "y_train_downsample = data[:,-1]"
   ]
  },
  {
   "cell_type": "markdown",
   "metadata": {},
   "source": [
    "### From here on for real again\n",
    "keep that "
   ]
  },
  {
   "cell_type": "code",
   "execution_count": 14,
   "metadata": {},
   "outputs": [
    {
     "name": "stdout",
     "output_type": "stream",
     "text": [
      "Created Random Forest in: 0.000552892684937 seconds\n",
      "Fit model in: 0.318332910538 seconds\n"
     ]
    }
   ],
   "source": [
    "start = time.time()\n",
    "clf = RandomForestClassifier(max_depth=4, random_state=42, n_estimators=100, criterion='gini')\n",
    "print 'Created Random Forest in:', float(time.time()-start), 'seconds'\n",
    "start = time.time()\n",
    "clf.fit(X_train_downsample, y_train_downsample)\n",
    "print 'Fit model in:', float(time.time()-start), 'seconds'"
   ]
  },
  {
   "cell_type": "code",
   "execution_count": 15,
   "metadata": {},
   "outputs": [
    {
     "data": {
      "text/plain": [
       "['../DATA/ML_datasets/Initial_setup/randomforest_model_10NN.sav']"
      ]
     },
     "execution_count": 15,
     "metadata": {},
     "output_type": "execute_result"
    }
   ],
   "source": [
    "# saving a classifier\n",
    "filename = FILE_PATH+'/randomforest_model_10NN_downsample.sav'\n",
    "# instead of classifier, rename based on your file\n",
    "joblib.dump(clf, filename)"
   ]
  }
 ],
 "metadata": {
  "kernelspec": {
   "display_name": "Python 2",
   "language": "python",
   "name": "python2"
  },
  "language_info": {
   "codemirror_mode": {
    "name": "ipython",
    "version": 2
   },
   "file_extension": ".py",
   "mimetype": "text/x-python",
   "name": "python",
   "nbconvert_exporter": "python",
   "pygments_lexer": "ipython2",
   "version": "2.7.15rc1"
  }
 },
 "nbformat": 4,
 "nbformat_minor": 2
}
