{
 "cells": [
  {
   "cell_type": "markdown",
   "metadata": {},
   "source": [
    "# Create new classifiers\n",
    "\n",
    "So i initially tried everything with the classifier as proposed by Weinmann \n",
    "depth = 4, number = 100\n",
    "\n",
    "Really bad results (excel spreadsheet, 58 percent accuracy for NN10)\n",
    "\n",
    "Now after trying different thing: scaling provided worse results, like 9 percent, really bad \n",
    "Now play around with different settings, try different scenarios \n",
    "\n",
    "This will only be done for NN10, and then take the best option "
   ]
  },
  {
   "cell_type": "code",
   "execution_count": 2,
   "metadata": {},
   "outputs": [],
   "source": [
    "import numpy as np\n",
    "import sklearn \n",
    "from sklearn.neighbors import KDTree\n",
    "import time\n",
    "from sklearn import metrics\n",
    "import pandas as pd\n",
    "from sklearn.externals import joblib\n",
    "from sklearn.ensemble import RandomForestClassifier"
   ]
  },
  {
   "cell_type": "code",
   "execution_count": 3,
   "metadata": {},
   "outputs": [],
   "source": [
    "NN = 10"
   ]
  },
  {
   "cell_type": "code",
   "execution_count": 4,
   "metadata": {},
   "outputs": [],
   "source": [
    "# Uploadng my datasets\n",
    "# Define a data frame with all my data  \n",
    "FILE_PATH = r\"../DATA/ML_datasets/Initial_setup\"\n",
    "META_FILE_PATH = \"../DATA/META\"\n",
    "IMAGE_FILE_PATH = r\"images\"\n",
    "\n",
    "# Training data\n",
    "y_train = np.loadtxt(FILE_PATH+'/y_train_'+ str(NN) +'NN_3842samples.txt', delimiter=',')\n",
    "X_train = np.loadtxt(FILE_PATH+'/X_train_'+ str(NN) +'NN_3842samples.txt', delimiter=',')\n",
    "\n",
    "# Testing data\n",
    "y_test = np.loadtxt(FILE_PATH+'/y_test_'+ str(NN) +'NN.txt', delimiter=',')\n",
    "X_test = np.loadtxt(FILE_PATH+'/X_test_'+ str(NN) +'NN.txt', delimiter=',')"
   ]
  },
  {
   "cell_type": "code",
   "execution_count": 5,
   "metadata": {},
   "outputs": [],
   "source": [
    "# For RF classifier: cast as float32 \n",
    "y_train = y_train.astype('float32')\n",
    "X_train = X_train.astype('float32')\n",
    "y_test = y_test.astype('float32')\n",
    "X_test = X_test.astype('float32')"
   ]
  },
  {
   "cell_type": "markdown",
   "metadata": {},
   "source": [
    "## Now train RF with many different settings \n",
    "\n",
    "As tried before with Dave, try different hyperparameters "
   ]
  },
  {
   "cell_type": "code",
   "execution_count": 46,
   "metadata": {},
   "outputs": [
    {
     "name": "stdout",
     "output_type": "stream",
     "text": [
      "Score on training dataset: 0.885090909090909\n"
     ]
    }
   ],
   "source": [
    "clf_dave = RandomForestClassifier(max_depth=12, random_state=42, n_estimators=1000, criterion='gini')\n",
    "clf_dave.fit(X_train, y_train)\n",
    "\n",
    "score_train = clf_dave.score(X_train, y_train)\n",
    "#score_train = clf.score(X_train, y_train)\n",
    "print \"Score on training dataset:\", score_train"
   ]
  },
  {
   "cell_type": "code",
   "execution_count": null,
   "metadata": {},
   "outputs": [],
   "source": [
    "results_train = []\n",
    "results_test = []\n",
    "# maxDepth\n",
    "for md in range(4, 14, 2):\n",
    "    # number of estimators (trees)\n",
    "    for ne in range(100, 1100, 200):\n",
    "        clf_eval = RandomForestClassifier(max_depth=md, random_state=42, n_estimators=ne, criterion='gini')\n",
    "        clf_eval.fit(X_train, y_train)\n",
    "        score_train = clf_eval.score(X_train, y_train)\n",
    "        score_test = clf_eval.score(X_test, y_test)\n",
    "        results.append([md, ne, score_train])"
   ]
  },
  {
   "cell_type": "code",
   "execution_count": null,
   "metadata": {},
   "outputs": [],
   "source": []
  },
  {
   "cell_type": "code",
   "execution_count": null,
   "metadata": {},
   "outputs": [],
   "source": []
  },
  {
   "cell_type": "code",
   "execution_count": null,
   "metadata": {},
   "outputs": [],
   "source": []
  },
  {
   "cell_type": "code",
   "execution_count": null,
   "metadata": {},
   "outputs": [],
   "source": [
    "results = []\n",
    "for md in range(4, 22, 2):\n",
    "    for ne in range(100, 1100, 100):\n",
    "        clf_dave = RandomForestClassifier(max_depth=12, random_state=42, n_estimators=1000, criterion='gini')\n",
    "        clf_dave.fit(X_train, y_train)\n",
    "        score_train = clf_dave.score(X_test, y_test) \n",
    "        results.append([md, ne, score_train])"
   ]
  },
  {
   "cell_type": "code",
   "execution_count": null,
   "metadata": {},
   "outputs": [],
   "source": []
  },
  {
   "cell_type": "code",
   "execution_count": null,
   "metadata": {},
   "outputs": [],
   "source": []
  },
  {
   "cell_type": "code",
   "execution_count": null,
   "metadata": {},
   "outputs": [],
   "source": []
  }
 ],
 "metadata": {
  "kernelspec": {
   "display_name": "Python 2",
   "language": "python",
   "name": "python2"
  },
  "language_info": {
   "codemirror_mode": {
    "name": "ipython",
    "version": 2
   },
   "file_extension": ".py",
   "mimetype": "text/x-python",
   "name": "python",
   "nbconvert_exporter": "python",
   "pygments_lexer": "ipython2",
   "version": "2.7.15rc1"
  }
 },
 "nbformat": 4,
 "nbformat_minor": 2
}
