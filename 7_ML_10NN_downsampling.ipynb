{
 "cells": [
  {
   "cell_type": "code",
   "execution_count": 1,
   "metadata": {},
   "outputs": [],
   "source": [
    "import numpy as np\n",
    "import sklearn \n",
    "from sklearn.neighbors import KDTree\n",
    "from sklearn.ensemble import RandomForestClassifier\n",
    "import time\n",
    "from sklearn import metrics\n",
    "from sklearn.externals import joblib"
   ]
  },
  {
   "cell_type": "code",
   "execution_count": 2,
   "metadata": {},
   "outputs": [],
   "source": [
    "# Define a data frame with all my data# Define  \n",
    "FILE_PATH = r\"../DATA/ML_datasets/Initial_setup\"\n",
    "META_FILE_PATH = \"../DATA/META\"\n",
    "IMAGE_FILE_PATH = r\"images\"\n",
    "\n",
    "y_train = np.loadtxt(FILE_PATH+'/y_train_10NN.txt', delimiter=',')\n",
    "X_train = np.loadtxt(FILE_PATH+'/X_train_10NN.txt', delimiter=',')"
   ]
  },
  {
   "cell_type": "code",
   "execution_count": 3,
   "metadata": {},
   "outputs": [],
   "source": [
    "# For RF classifier \n",
    "y_train = y_train.astype('float32')\n",
    "X_train = X_train.astype('float32')"
   ]
  },
  {
   "cell_type": "markdown",
   "metadata": {},
   "source": [
    "### Downsampling\n",
    "Here, the smallest class is determined and all other classes are downsampled accordingly "
   ]
  },
  {
   "cell_type": "code",
   "execution_count": 4,
   "metadata": {},
   "outputs": [],
   "source": [
    "# Create an empty matrix and fill it with the features and then label at the end \n",
    "M = np.zeros((X_train.shape[0], X_train.shape[1]+1))\n",
    "M[:,-1]=y_train\n",
    "M[:,:11] = X_train"
   ]
  },
  {
   "cell_type": "code",
   "execution_count": 14,
   "metadata": {},
   "outputs": [],
   "source": [
    "LOT_classes = range(1,12)\n",
    "smallest_class_value = 3000"
   ]
  },
  {
   "cell_type": "code",
   "execution_count": 15,
   "metadata": {},
   "outputs": [],
   "source": [
    "data = []\n",
    "for class_label in LOT_classes:\n",
    "    N = M[np.where(M[:,-1]==class_label)]\n",
    "    S = N[:smallest_class_value,:]\n",
    "    data.append(S)"
   ]
  },
  {
   "cell_type": "code",
   "execution_count": 16,
   "metadata": {},
   "outputs": [
    {
     "name": "stdout",
     "output_type": "stream",
     "text": [
      "Dimensions of array of all data (11, 3000, 12)\n"
     ]
    }
   ],
   "source": [
    "data_array = np.array(data)\n",
    "print \"Dimensions of array of all data\", data_array.shape"
   ]
  },
  {
   "cell_type": "code",
   "execution_count": 17,
   "metadata": {},
   "outputs": [],
   "source": [
    "data = data_array.reshape((data_array.shape[0] *smallest_class_value, data_array.shape[2]))"
   ]
  },
  {
   "cell_type": "code",
   "execution_count": 18,
   "metadata": {},
   "outputs": [
    {
     "name": "stdout",
     "output_type": "stream",
     "text": [
      "Real shape for the training data (33000, 12)\n"
     ]
    }
   ],
   "source": [
    "print \"Real shape for the training data\", data.shape"
   ]
  },
  {
   "cell_type": "code",
   "execution_count": 19,
   "metadata": {},
   "outputs": [
    {
     "name": "stdout",
     "output_type": "stream",
     "text": [
      "First instance before shuffling: [ 9.94913757e-01  4.18876624e-03  8.97496298e-04  3.12984275e-06\n",
      "  9.99102533e-01  1.63390953e-03  1.89802973e-04  8.92157841e-04\n",
      "  1.91216891e+05 -2.42687893e+00  6.59000012e-04  1.00000000e+00]\n"
     ]
    }
   ],
   "source": [
    "print \"First instance before shuffling:\", data[0]"
   ]
  },
  {
   "cell_type": "code",
   "execution_count": 20,
   "metadata": {},
   "outputs": [],
   "source": [
    "np.random.shuffle(data)"
   ]
  },
  {
   "cell_type": "code",
   "execution_count": 21,
   "metadata": {},
   "outputs": [
    {
     "name": "stdout",
     "output_type": "stream",
     "text": [
      "First instance after shuffling: [ 3.46096575e-01  6.03488147e-01  5.04152589e-02  1.82839183e-04\n",
      "  9.49584723e-01  7.50342244e-03  9.71840229e-04  2.95808893e-02\n",
      "  2.85957988e+04 -1.04183996e+00  1.99722397e+00  1.10000000e+01]\n"
     ]
    }
   ],
   "source": [
    "print \"First instance after shuffling:\", data[0]"
   ]
  },
  {
   "cell_type": "code",
   "execution_count": 22,
   "metadata": {},
   "outputs": [],
   "source": [
    "# Save all my data as NUMPY arrays\n",
    "# To load them later\n",
    "# np.loadtxt()\n",
    "np.savetxt(FILE_PATH+'/y_train_10NN_3842samples.txt', data[:,-1], delimiter=',')\n",
    "np.savetxt(FILE_PATH+'/X_train_10NN_3842samples.txt', data[:,:11], delimiter=',')"
   ]
  },
  {
   "cell_type": "code",
   "execution_count": 23,
   "metadata": {},
   "outputs": [],
   "source": [
    "X_train_downsample = data[:,:11]\n",
    "y_train_downsample = data[:,-1]"
   ]
  },
  {
   "cell_type": "markdown",
   "metadata": {},
   "source": [
    "### From here on for real again\n",
    "keep that "
   ]
  },
  {
   "cell_type": "code",
   "execution_count": 24,
   "metadata": {},
   "outputs": [
    {
     "name": "stdout",
     "output_type": "stream",
     "text": [
      "Created Random Forest in: 0.000558137893677 seconds\n",
      "Fit model in: 4.28620100021 seconds\n"
     ]
    }
   ],
   "source": [
    "start = time.time()\n",
    "clf = RandomForestClassifier(max_depth=4, random_state=42, n_estimators=100, criterion='gini')\n",
    "print 'Created Random Forest in:', float(time.time()-start), 'seconds'\n",
    "start = time.time()\n",
    "clf.fit(X_train_downsample, y_train_downsample)\n",
    "print 'Fit model in:', float(time.time()-start), 'seconds'"
   ]
  },
  {
   "cell_type": "code",
   "execution_count": 25,
   "metadata": {},
   "outputs": [
    {
     "data": {
      "text/plain": [
       "['../DATA/ML_datasets/Initial_setup/randomforest_model_10NN_downsample.sav']"
      ]
     },
     "execution_count": 25,
     "metadata": {},
     "output_type": "execute_result"
    }
   ],
   "source": [
    "# saving a classifier\n",
    "filename = FILE_PATH+'/randomforest_model_10NN_downsample.sav'\n",
    "# instead of classifier, rename based on your file\n",
    "joblib.dump(clf, filename)"
   ]
  },
  {
   "cell_type": "code",
   "execution_count": null,
   "metadata": {},
   "outputs": [],
   "source": []
  }
 ],
 "metadata": {
  "kernelspec": {
   "display_name": "Python 2",
   "language": "python",
   "name": "python2"
  },
  "language_info": {
   "codemirror_mode": {
    "name": "ipython",
    "version": 2
   },
   "file_extension": ".py",
   "mimetype": "text/x-python",
   "name": "python",
   "nbconvert_exporter": "python",
   "pygments_lexer": "ipython2",
   "version": "2.7.15rc1"
  }
 },
 "nbformat": 4,
 "nbformat_minor": 2
}
