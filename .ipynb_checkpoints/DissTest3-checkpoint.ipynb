{
 "cells": [
  {
   "cell_type": "markdown",
   "metadata": {},
   "source": [
    "# Updated version "
   ]
  },
  {
   "cell_type": "code",
   "execution_count": 1,
   "metadata": {
    "collapsed": true
   },
   "outputs": [],
   "source": [
    "import numpy as np\n",
    "import pylab as plt\n",
    "from sklearn.neighbors import KDTree\n",
    "import scipy.linalg as scplinag\n",
    "import matplotlib as mpl\n",
    "from mpl_toolkits.mplot3d import Axes3D"
   ]
  },
  {
   "cell_type": "code",
   "execution_count": 2,
   "metadata": {
    "collapsed": true
   },
   "outputs": [],
   "source": [
    "# Import the data as txt files and then cut them off so we only work with a subset \n",
    "dataset = r\"C:\\Users\\noemi\\Noemi\\UCL Master 2017 2018\\Dissertation\\CODE\\DATA\\IQ Mulus\\Cassette_idclass\\Cassette_GT.txt\"\n",
    "data_whole = np.loadtxt(dataset, delimiter=\",\", skiprows= 2)"
   ]
  },
  {
   "cell_type": "code",
   "execution_count": 19,
   "metadata": {
    "collapsed": true
   },
   "outputs": [],
   "source": [
    "# Only use a subset of the whole dataset to speed up testing \n",
    "data = data_whole[0:10000]"
   ]
  },
  {
   "cell_type": "code",
   "execution_count": 20,
   "metadata": {
    "collapsed": true
   },
   "outputs": [],
   "source": [
    "# Define all the columns we have\n",
    "# As we cut it off at 100: all these arrays are 1D arrays with the shape: (100) (really it would be (1,100))\n",
    "x = data[:,0]\n",
    "y = data[:,1]\n",
    "z = data[:,2]\n",
    "inst_id = data[:,3]\n",
    "obj_class = data[:,4]\n",
    "# If we want to access one element, we just write: x[0]\n",
    "\n",
    "# This is the dataset but only with the coordinates (3D)\n",
    "dataxyz = data[:,0:3]"
   ]
  },
  {
   "cell_type": "code",
   "execution_count": 21,
   "metadata": {
    "collapsed": true
   },
   "outputs": [],
   "source": [
    "def calcCovarianceMatrix(data):\n",
    "    \"\"\"\n",
    "    Function to compute the covariance matrix.\n",
    "    \n",
    "    Input: Dataset of 3D points; i.e. array of dimension: #points x 3 \n",
    "    Output: 3x3 covariance matrix (np.array)\n",
    "    \"\"\"\n",
    "    # Create covariance matrix and array to store the mean values for x_mean, y_mean, z_mean\n",
    "    C = np.zeros((data.shape[1], data.shape[1]))\n",
    "    mean_xyz = []\n",
    "    # Calculate all mean values\n",
    "    for i in range(0, dataxyz.shape[1]):\n",
    "        mean_xyz.append(dataxyz[:,i].mean())\n",
    "    mean_xyz = np.array(mean_xyz)\n",
    "    # Check whether dimensions agree \n",
    "    if dataxyz[:,0].size != dataxyz[:,1].size or dataxyz[:,0].size != dataxyz[:,2].size:\n",
    "        print \"X, Y and Z must be of same dimensions.\"\n",
    "    else:\n",
    "        # For each row in covariance matrix C\n",
    "        for i in range(0, C.shape[0]):\n",
    "            # For each column in covariance matrix C\n",
    "            for j in range(0, C.shape[1]):\n",
    "                C[i,j] = 0\n",
    "                # For each point in the dataset, access x, y, z-values\n",
    "                for point in dataxyz:\n",
    "                    # For each point, access x,y and z in all combinations (xx, xy, xz, yx, yy, yz etc)\n",
    "                    C[i][j] = C[i][j] + (point[i]-mean_xyz[i])*(point[j]-mean_xyz[j])\n",
    "    # Divide by the total number of points                \n",
    "    C = (1.0/dataxyz.shape[0]) * C\n",
    "    return C "
   ]
  },
  {
   "cell_type": "code",
   "execution_count": 22,
   "metadata": {
    "collapsed": true
   },
   "outputs": [],
   "source": [
    "# Get eight parameters for each point\n",
    "\n",
    "def calcFeatureDescr(covarianceMatrix):\n",
    "    \"\"\"\n",
    "    Function to compute the 8 feature descriptors for each point.\n",
    "    \n",
    "    Input: 3x3 Covariance matrix of a point and its neighbourhood \n",
    "    \n",
    "    Output: Array with feature descriptors as described by Weinmann et al. (1D array with 8 elements)\n",
    "    \n",
    "    \"\"\"\n",
    "    D, V = scplinag.eigh(C)\n",
    "    # We sort the array with eigenvalues by size (from smallest to largest value)\n",
    "    D.sort()\n",
    "    # Get eigenvectors\n",
    "    e1 = V[2] # eigenvector in direction of largest variance\n",
    "    e2 = V[1] # second eigenvector, perpend. to e1\n",
    "    e3 = V[0]\n",
    "    # Find the eigenvalues\n",
    "    evalue1 = D[2] # largest\n",
    "    evalue2 = D[1]\n",
    "    evalue3 = D[0] # smallest\n",
    "\n",
    "    # Linearity\n",
    "    lambda1 = (evalue1 - evalue2) / evalue1\n",
    "    # Planarity\n",
    "    lambda2 = (evalue2 - evalue3) / evalue1\n",
    "    # Scattering\n",
    "    lambda3 = evalue3 / evalue1\n",
    "    # Omnivariance\n",
    "    lambda4 = pow(evalue1*evalue2*evalue3, 1/3.0)\n",
    "    # Anisotropy\n",
    "    lambda5 = (evalue1 - evalue3) / evalue1\n",
    "    # Eigentropy\n",
    "    s = 0\n",
    "    for elem in D:\n",
    "        s = s + (elem*np.log(elem))\n",
    "    lambda6 = (-1)*s  \n",
    "    # Sum of eigenvalues\n",
    "    lambda7 = sum(D)\n",
    "    # Change of curvature\n",
    "    lambda8 = evalue3/sum(D) \n",
    "    \n",
    "    featureDescriptor = np.array([lambda1, lambda2, lambda3, lambda4, lambda5, lambda6, lambda7, lambda8])\n",
    "    return featureDescriptor"
   ]
  },
  {
   "cell_type": "code",
   "execution_count": 23,
   "metadata": {
    "collapsed": true
   },
   "outputs": [],
   "source": [
    "def dominantDim(feature_descriptor, dataset_xyz, particular_point):\n",
    "    \"\"\"\n",
    "    Function to determine\n",
    "    \n",
    "    Input:  Feature descriptor (as computed above, F: calcFeatureDescr) with dimensions: (1, 8) \n",
    "            Original dataset used to compute the covariance matrix and feature desc, only with x,y,z coordinates\n",
    "    \n",
    "    Output: Matrix identical to dataset_xyz but one column added; i.e. dominant class (#points x 4)\n",
    "            0: Linear\n",
    "            1: Planar\n",
    "            2: Scattered (Volumetric)\n",
    "    \"\"\"\n",
    "    # Get index of highest value\n",
    "    domDim = np.argmax(feature_descriptor)\n",
    "    if domDim == 0:\n",
    "        #print \"Linear feature\"\n",
    "        pass\n",
    "    elif domDim == 1:\n",
    "        print \"Planar feature\"\n",
    "    else: \n",
    "        print \"Volumetric feature\"\n",
    "\n",
    "    row_with_additional_col = np.append(dataset_xyz[particular_point], domDim)\n",
    "    \n",
    "    return row_with_additional_col"
   ]
  },
  {
   "cell_type": "code",
   "execution_count": 24,
   "metadata": {
    "collapsed": true
   },
   "outputs": [],
   "source": [
    "# 1: Compute covariance matrix\n",
    "C = calcCovarianceMatrix(dataxyz)\n",
    "# 2: Compute the feature descriptor for that point in the neighbourhood \n",
    "feat = calcFeatureDescr(C)\n",
    "# 3: Only look at first 3 features for now (Following Demantke)\n",
    "feat_123 = feat[0:3]\n",
    "# 4: Find dominant dimension (i.e. linear, planar, scattered)\n",
    "# The zero I just add for testing, in reality: add only to row \n",
    "additionalCol = dominantDim(feat_123, dataxyz, 0)"
   ]
  },
  {
   "cell_type": "code",
   "execution_count": 25,
   "metadata": {
    "collapsed": true
   },
   "outputs": [],
   "source": [
    "# Create kd-tree\n",
    "kdt = KDTree(dataxyz, leaf_size=30, metric='euclidean')\n",
    "# Get list with indices, the first value is always the point itself\n",
    "idx_list = kdt.query(dataxyz, k=10, return_distance=False)\n",
    "store = []\n",
    "for j in range(0, dataxyz.shape[0]):\n",
    "    # Look at all points now\n",
    "    neighbourhood = []\n",
    "    for i in idx_list[j]:\n",
    "        neighbourhood.append(dataxyz[i])\n",
    "    neighbourhood = np.array(neighbourhood)\n",
    "    # Everything we did before with dataset, we do now with the neighbourhood only\n",
    "    C = calcCovarianceMatrix(neighbourhood)\n",
    "    feat = calcFeatureDescr(C)\n",
    "    feat_123 = feat[0:3]\n",
    "    # Potentially change that later to include it in function\n",
    "    additionalCol = dominantDim(feat_123, dataxyz, idx_list[j][0])\n",
    "    store.append(additionalCol)\n",
    "store = np.array(store)"
   ]
  },
  {
   "cell_type": "code",
   "execution_count": 26,
   "metadata": {},
   "outputs": [
    {
     "name": "stdout",
     "output_type": "stream",
     "text": [
      "(10000L, 4L)\n"
     ]
    }
   ],
   "source": [
    "# This is the output array, the original xyz coordinates but with a label \n",
    "print store.shape"
   ]
  },
  {
   "cell_type": "code",
   "execution_count": 27,
   "metadata": {},
   "outputs": [
    {
     "data": {
      "image/png": "[encoded data removed]",
      "text/plain": [
       "<matplotlib.figure.Figure at 0xbdec240>"
      ]
     },
     "metadata": {},
     "output_type": "display_data"
    }
   ],
   "source": [
    "# Visualise the data \n",
    "fig = plt.figure()\n",
    "ax = fig.gca(projection='3d')\n",
    "ax.scatter3D(x,y,z,zdir='z')\n",
    "ax.plot(x, y, z)\n",
    "plt.title('Data for first '+ str(data.shape[0]) +' points')\n",
    "plt.show()"
   ]
  },
  {
   "cell_type": "code",
   "execution_count": 28,
   "metadata": {
    "collapsed": true
   },
   "outputs": [],
   "source": [
    "np.savetxt('TestSave.txt', store, delimiter=' ', header='Test')"
   ]
  },
  {
   "cell_type": "code",
   "execution_count": null,
   "metadata": {
    "collapsed": true
   },
   "outputs": [],
   "source": []
  }
 ],
 "metadata": {
  "kernelspec": {
   "display_name": "Python 2",
   "language": "python",
   "name": "python2"
  },
  "language_info": {
   "codemirror_mode": {
    "name": "ipython",
    "version": 2
   },
   "file_extension": ".py",
   "mimetype": "text/x-python",
   "name": "python",
   "nbconvert_exporter": "python",
   "pygments_lexer": "ipython2",
   "version": "2.7.14"
  }
 },
 "nbformat": 4,
 "nbformat_minor": 2
}
