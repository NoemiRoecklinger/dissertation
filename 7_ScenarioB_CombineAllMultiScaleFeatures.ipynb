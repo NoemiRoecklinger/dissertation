{
 "cells": [
  {
   "cell_type": "markdown",
   "metadata": {},
   "source": [
    "# Machine Learning now"
   ]
  },
  {
   "cell_type": "code",
   "execution_count": 5,
   "metadata": {},
   "outputs": [],
   "source": [
    "import pandas as pd\n",
    "import os\n",
    "import numpy as np\n",
    "import sklearn \n",
    "import scipy.linalg as scplinag\n",
    "from sklearn.neighbors import KDTree\n",
    "from scipy.spatial import distance"
   ]
  },
  {
   "cell_type": "markdown",
   "metadata": {},
   "source": [
    "# Scenario B\n",
    "\n",
    "Take the same features as in Scenario 1, add all of them in the same high-dim vector and add the reflectance as well. So we can see if that changes anything. \n",
    "\n",
    "Here, we just create the feature vector, wait for new optimised results for RF. "
   ]
  },
  {
   "cell_type": "code",
   "execution_count": 6,
   "metadata": {},
   "outputs": [],
   "source": [
    "# Define a data frame with all my data# Define  \n",
    "FILE_PATH = r\"../DATA\"\n",
    "FILE_PATH_ScenarioB = r\"../DATA/ML_datasets/ScenarioB\"\n",
    "\n",
    "FILE_NAME_50_ref = r\"/ML_dataset_50NN_reflectance_withXYZ.txt\"\n",
    "FILE_NAME_10 = r\"/ScenarioB_10NNFeatures.txt\"\n",
    "FILE_NAME_100 = r\"/ScenarioB_100NNFeatures.txt\"\n",
    "\n",
    "# Read in file with 50NN and reflectance this will be the base file\n",
    "# call it df1\n",
    "df_main = pd.read_csv(FILE_PATH_ScenarioB+FILE_NAME_50_ref, delimiter=',')"
   ]
  },
  {
   "cell_type": "code",
   "execution_count": 9,
   "metadata": {},
   "outputs": [],
   "source": [
    "# Now read in the files for 10 and 100 NN features  \n",
    "df_10 = pd.read_csv(FILE_PATH_ScenarioB+FILE_NAME_10, delimiter=',')\n",
    "df_100 = pd.read_csv(FILE_PATH_ScenarioB+FILE_NAME_100, delimiter=',')"
   ]
  },
  {
   "cell_type": "markdown",
   "metadata": {},
   "source": [
    "# Need to rename the attributes according to their NN size\n",
    "Here, we do it manually because each set is very different, all we do is indicate the attributes whether they belong to 10NN or other NN"
   ]
  },
  {
   "cell_type": "markdown",
   "metadata": {},
   "source": [
    "### Rename for 50 NN "
   ]
  },
  {
   "cell_type": "code",
   "execution_count": 10,
   "metadata": {},
   "outputs": [
    {
     "data": {
      "text/html": [
       "<div>\n",
       "<style scoped>\n",
       "    .dataframe tbody tr th:only-of-type {\n",
       "        vertical-align: middle;\n",
       "    }\n",
       "\n",
       "    .dataframe tbody tr th {\n",
       "        vertical-align: top;\n",
       "    }\n",
       "\n",
       "    .dataframe thead th {\n",
       "        text-align: right;\n",
       "    }\n",
       "</style>\n",
       "<table border=\"1\" class=\"dataframe\">\n",
       "  <thead>\n",
       "    <tr style=\"text-align: right;\">\n",
       "      <th></th>\n",
       "      <th>X</th>\n",
       "      <th>Y</th>\n",
       "      <th>Z</th>\n",
       "      <th>class</th>\n",
       "      <th>lambda1_50NN</th>\n",
       "      <th>lambda2_50NN</th>\n",
       "      <th>lambda3_50NN</th>\n",
       "      <th>lambda4_50NN</th>\n",
       "      <th>lambda5_50NN</th>\n",
       "      <th>lambda6_50NN</th>\n",
       "      <th>lambda7_50NN</th>\n",
       "      <th>lambda8_50NN</th>\n",
       "      <th>local_density_50NN</th>\n",
       "      <th>relative_height</th>\n",
       "      <th>verticality_50NN</th>\n",
       "      <th>reflectance</th>\n",
       "    </tr>\n",
       "  </thead>\n",
       "  <tbody>\n",
       "    <tr>\n",
       "      <th>0</th>\n",
       "      <td>1905.494751</td>\n",
       "      <td>21122.037109</td>\n",
       "      <td>38.884586</td>\n",
       "      <td>1</td>\n",
       "      <td>0.091891</td>\n",
       "      <td>0.906582</td>\n",
       "      <td>0.001527</td>\n",
       "      <td>0.000143</td>\n",
       "      <td>0.998473</td>\n",
       "      <td>0.016431</td>\n",
       "      <td>0.002449</td>\n",
       "      <td>0.000799</td>\n",
       "      <td>5026.894441</td>\n",
       "      <td>-2.497189</td>\n",
       "      <td>0.000847</td>\n",
       "      <td>-13.679660</td>\n",
       "    </tr>\n",
       "    <tr>\n",
       "      <th>1</th>\n",
       "      <td>1905.502930</td>\n",
       "      <td>21122.035156</td>\n",
       "      <td>38.883110</td>\n",
       "      <td>1</td>\n",
       "      <td>0.091891</td>\n",
       "      <td>0.906582</td>\n",
       "      <td>0.001527</td>\n",
       "      <td>0.000143</td>\n",
       "      <td>0.998473</td>\n",
       "      <td>0.016431</td>\n",
       "      <td>0.002449</td>\n",
       "      <td>0.000799</td>\n",
       "      <td>5919.450657</td>\n",
       "      <td>-2.498982</td>\n",
       "      <td>0.000847</td>\n",
       "      <td>-10.869660</td>\n",
       "    </tr>\n",
       "    <tr>\n",
       "      <th>2</th>\n",
       "      <td>1905.512939</td>\n",
       "      <td>21122.033203</td>\n",
       "      <td>38.883949</td>\n",
       "      <td>1</td>\n",
       "      <td>0.091891</td>\n",
       "      <td>0.906582</td>\n",
       "      <td>0.001527</td>\n",
       "      <td>0.000143</td>\n",
       "      <td>0.998473</td>\n",
       "      <td>0.016431</td>\n",
       "      <td>0.002449</td>\n",
       "      <td>0.000799</td>\n",
       "      <td>6452.219916</td>\n",
       "      <td>-2.498448</td>\n",
       "      <td>0.000847</td>\n",
       "      <td>-13.969661</td>\n",
       "    </tr>\n",
       "    <tr>\n",
       "      <th>3</th>\n",
       "      <td>1905.520874</td>\n",
       "      <td>21122.031250</td>\n",
       "      <td>38.882137</td>\n",
       "      <td>1</td>\n",
       "      <td>0.303962</td>\n",
       "      <td>0.694588</td>\n",
       "      <td>0.001450</td>\n",
       "      <td>0.000140</td>\n",
       "      <td>0.998550</td>\n",
       "      <td>0.015981</td>\n",
       "      <td>0.002376</td>\n",
       "      <td>0.000854</td>\n",
       "      <td>7348.980491</td>\n",
       "      <td>-2.500576</td>\n",
       "      <td>0.000847</td>\n",
       "      <td>-10.199661</td>\n",
       "    </tr>\n",
       "    <tr>\n",
       "      <th>4</th>\n",
       "      <td>1905.531128</td>\n",
       "      <td>21122.029297</td>\n",
       "      <td>38.882839</td>\n",
       "      <td>1</td>\n",
       "      <td>0.329116</td>\n",
       "      <td>0.669345</td>\n",
       "      <td>0.001539</td>\n",
       "      <td>0.000147</td>\n",
       "      <td>0.998461</td>\n",
       "      <td>0.016326</td>\n",
       "      <td>0.002438</td>\n",
       "      <td>0.000920</td>\n",
       "      <td>9432.417831</td>\n",
       "      <td>-2.500191</td>\n",
       "      <td>0.000902</td>\n",
       "      <td>-10.459662</td>\n",
       "    </tr>\n",
       "  </tbody>\n",
       "</table>\n",
       "</div>"
      ],
      "text/plain": [
       "             X             Y          Z  class  lambda1_50NN  lambda2_50NN  \\\n",
       "0  1905.494751  21122.037109  38.884586      1      0.091891      0.906582   \n",
       "1  1905.502930  21122.035156  38.883110      1      0.091891      0.906582   \n",
       "2  1905.512939  21122.033203  38.883949      1      0.091891      0.906582   \n",
       "3  1905.520874  21122.031250  38.882137      1      0.303962      0.694588   \n",
       "4  1905.531128  21122.029297  38.882839      1      0.329116      0.669345   \n",
       "\n",
       "   lambda3_50NN  lambda4_50NN  lambda5_50NN  lambda6_50NN  lambda7_50NN  \\\n",
       "0      0.001527      0.000143      0.998473      0.016431      0.002449   \n",
       "1      0.001527      0.000143      0.998473      0.016431      0.002449   \n",
       "2      0.001527      0.000143      0.998473      0.016431      0.002449   \n",
       "3      0.001450      0.000140      0.998550      0.015981      0.002376   \n",
       "4      0.001539      0.000147      0.998461      0.016326      0.002438   \n",
       "\n",
       "   lambda8_50NN  local_density_50NN  relative_height  verticality_50NN  \\\n",
       "0      0.000799         5026.894441        -2.497189          0.000847   \n",
       "1      0.000799         5919.450657        -2.498982          0.000847   \n",
       "2      0.000799         6452.219916        -2.498448          0.000847   \n",
       "3      0.000854         7348.980491        -2.500576          0.000847   \n",
       "4      0.000920         9432.417831        -2.500191          0.000902   \n",
       "\n",
       "   reflectance  \n",
       "0   -13.679660  \n",
       "1   -10.869660  \n",
       "2   -13.969661  \n",
       "3   -10.199661  \n",
       "4   -10.459662  "
      ]
     },
     "execution_count": 10,
     "metadata": {},
     "output_type": "execute_result"
    }
   ],
   "source": [
    "# Rename the column \n",
    "df_main = df_main.rename(index=str, columns={\"lambda1\": \"lambda1_50NN\"})\n",
    "df_main = df_main.rename(index=str, columns={\"lambda2\": \"lambda2_50NN\"})\n",
    "df_main = df_main.rename(index=str, columns={\"lambda3\": \"lambda3_50NN\"})\n",
    "df_main = df_main.rename(index=str, columns={\"lambda4\": \"lambda4_50NN\"})\n",
    "df_main = df_main.rename(index=str, columns={\"lambda5\": \"lambda5_50NN\"})\n",
    "df_main = df_main.rename(index=str, columns={\"lambda6\": \"lambda6_50NN\"})\n",
    "df_main = df_main.rename(index=str, columns={\"lambda7\": \"lambda7_50NN\"})\n",
    "df_main = df_main.rename(index=str, columns={\"lambda8\": \"lambda8_50NN\"})\n",
    "df_main = df_main.rename(index=str, columns={\"local_density\": \"local_density_50NN\"})\n",
    "df_main = df_main.rename(index=str, columns={\"verticality\": \"verticality_50NN\"})\n",
    "\n",
    "df_main.head()"
   ]
  },
  {
   "cell_type": "code",
   "execution_count": 13,
   "metadata": {},
   "outputs": [
    {
     "name": "stdout",
     "output_type": "stream",
     "text": [
      "['lambda1_100NN', 'lambda2_100NN', 'lambda3_100NN', 'lambda4_100NN', 'lambda5_100NN', 'lambda6_100NN', 'lambda7_100NN', 'lambda8_100NN', 'local_density_100NN', 'verticality_100NN']\n"
     ]
    }
   ],
   "source": [
    "list_10 = list(df_10.columns.values)\n",
    "list_100 = list(df_100.columns.values)\n",
    "print list_100"
   ]
  },
  {
   "cell_type": "code",
   "execution_count": 16,
   "metadata": {},
   "outputs": [],
   "source": [
    "df_main['lambda1_10NN'] = df_10.iloc[:,0].values"
   ]
  },
  {
   "cell_type": "code",
   "execution_count": 18,
   "metadata": {},
   "outputs": [],
   "source": [
    "for count, elem in enumerate(list_10):\n",
    "    df_main[elem] = df_10.iloc[:,count].values"
   ]
  },
  {
   "cell_type": "code",
   "execution_count": 20,
   "metadata": {},
   "outputs": [],
   "source": [
    "for count, elem in enumerate(list_100):\n",
    "    df_main[elem] = df_100.iloc[:,count].values"
   ]
  },
  {
   "cell_type": "markdown",
   "metadata": {},
   "source": [
    "I just created my scenario B file with all attributes, this is the size: (11052294, 33)"
   ]
  },
  {
   "cell_type": "code",
   "execution_count": 21,
   "metadata": {},
   "outputs": [],
   "source": [
    "df_10 = None\n",
    "df_100 = None"
   ]
  },
  {
   "cell_type": "markdown",
   "metadata": {},
   "source": [
    "# Testing and training "
   ]
  },
  {
   "cell_type": "code",
   "execution_count": 22,
   "metadata": {},
   "outputs": [],
   "source": [
    "from sklearn.model_selection import StratifiedShuffleSplit"
   ]
  },
  {
   "cell_type": "code",
   "execution_count": 48,
   "metadata": {},
   "outputs": [
    {
     "name": "stdout",
     "output_type": "stream",
     "text": [
      "(11052294, 35)\n",
      "(11052294, 35)\n",
      "(11052294,)\n"
     ]
    }
   ],
   "source": [
    "data = df_main.drop(columns=[\"class\"])\n",
    "X = data.values\n",
    "y = df_main[\"class\"].values\n",
    "\n",
    "print data.shape\n",
    "print X.shape\n",
    "print y.shape"
   ]
  },
  {
   "cell_type": "code",
   "execution_count": 49,
   "metadata": {},
   "outputs": [],
   "source": [
    "split = StratifiedShuffleSplit(n_splits=10, test_size=0.2, random_state=42)\n",
    "for train_index, test_index in split.split(X, y):\n",
    "    # Do that here\n",
    "    X_train, X_test = X[train_index], X[test_index]\n",
    "    y_train, y_test = y[train_index], y[test_index]"
   ]
  },
  {
   "cell_type": "code",
   "execution_count": 51,
   "metadata": {},
   "outputs": [
    {
     "name": "stdout",
     "output_type": "stream",
     "text": [
      "Size X training data (8841835, 35)\n",
      "Size y training data (8841835,)\n",
      "Size X testing data (2210459, 35)\n",
      "Size y testing data (2210459,)\n"
     ]
    }
   ],
   "source": [
    "print \"Size X training data\", X_train.shape\n",
    "print \"Size y training data\", y_train.shape\n",
    "print \"Size X testing data\", X_test.shape\n",
    "print \"Size y testing data\", y_test.shape"
   ]
  },
  {
   "cell_type": "code",
   "execution_count": 51,
   "metadata": {},
   "outputs": [],
   "source": [
    "# Now save everything"
   ]
  },
  {
   "cell_type": "code",
   "execution_count": 52,
   "metadata": {},
   "outputs": [],
   "source": [
    "# Save all my data as NUMPY arrays\n",
    "# To load them later\n",
    "# np.loadtxt()\n",
    "#np.savetxt(FILE_PATH_ScenarioB+'/y_train.txt', y_train, delimiter=',')\n",
    "np.savetxt(FILE_PATH_ScenarioB+'/y_test_withXYZ.txt', y_test, delimiter=',')\n",
    "#np.savetxt(FILE_PATH_ScenarioB+'/X_train.txt', X_train, delimiter=',')\n",
    "np.savetxt(FILE_PATH_ScenarioB+'/X_test_withXYZ.txt', X_test, delimiter=',')"
   ]
  },
  {
   "cell_type": "code",
   "execution_count": 53,
   "metadata": {},
   "outputs": [],
   "source": [
    "# Clean variables I domnt need right now\n",
    "df = None\n",
    "corr_matrix = None\n",
    "X = None\n",
    "y = None\n",
    "data = None \n",
    "df_main = None\n",
    "df_10 = None"
   ]
  }
 ],
 "metadata": {
  "kernelspec": {
   "display_name": "Python 2",
   "language": "python",
   "name": "python2"
  },
  "language_info": {
   "codemirror_mode": {
    "name": "ipython",
    "version": 2
   },
   "file_extension": ".py",
   "mimetype": "text/x-python",
   "name": "python",
   "nbconvert_exporter": "python",
   "pygments_lexer": "ipython2",
   "version": "2.7.15rc1"
  }
 },
 "nbformat": 4,
 "nbformat_minor": 2
}
