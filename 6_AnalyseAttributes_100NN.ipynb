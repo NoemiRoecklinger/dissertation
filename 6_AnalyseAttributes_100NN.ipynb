{
 "cells": [
  {
   "cell_type": "markdown",
   "metadata": {},
   "source": [
    "# Machine Learning now"
   ]
  },
  {
   "cell_type": "code",
   "execution_count": 3,
   "metadata": {},
   "outputs": [],
   "source": [
    "import pandas as pd\n",
    "import os\n",
    "import numpy as np\n",
    "import sklearn \n",
    "import scipy.linalg as scplinag\n",
    "from sklearn.neighbors import KDTree\n",
    "from scipy.spatial import distance\n",
    "import matplotlib.pyplot as plt\n",
    "from pandas.plotting import scatter_matrix"
   ]
  },
  {
   "cell_type": "code",
   "execution_count": 4,
   "metadata": {},
   "outputs": [],
   "source": [
    "%matplotlib inline"
   ]
  },
  {
   "cell_type": "markdown",
   "metadata": {},
   "source": [
    "# Whole dataset and 100 NN \n",
    "\n",
    "Attributes as in Weinmann, 2013, plus relative height (Weinmann, 2014) "
   ]
  },
  {
   "cell_type": "code",
   "execution_count": 5,
   "metadata": {},
   "outputs": [
    {
     "data": {
      "text/html": [
       "<div>\n",
       "<style scoped>\n",
       "    .dataframe tbody tr th:only-of-type {\n",
       "        vertical-align: middle;\n",
       "    }\n",
       "\n",
       "    .dataframe tbody tr th {\n",
       "        vertical-align: top;\n",
       "    }\n",
       "\n",
       "    .dataframe thead th {\n",
       "        text-align: right;\n",
       "    }\n",
       "</style>\n",
       "<table border=\"1\" class=\"dataframe\">\n",
       "  <thead>\n",
       "    <tr style=\"text-align: right;\">\n",
       "      <th></th>\n",
       "      <th>X</th>\n",
       "      <th>Y</th>\n",
       "      <th>Z</th>\n",
       "      <th>class</th>\n",
       "      <th>lambda1</th>\n",
       "      <th>lambda2</th>\n",
       "      <th>lambda3</th>\n",
       "      <th>lambda4</th>\n",
       "      <th>lambda5</th>\n",
       "      <th>lambda6</th>\n",
       "      <th>lambda7</th>\n",
       "      <th>lambda8</th>\n",
       "      <th>local_density</th>\n",
       "      <th>radius_neighbourhood</th>\n",
       "      <th>relative_height</th>\n",
       "      <th>verticality</th>\n",
       "    </tr>\n",
       "  </thead>\n",
       "  <tbody>\n",
       "    <tr>\n",
       "      <th>0</th>\n",
       "      <td>1905.494751</td>\n",
       "      <td>21122.037109</td>\n",
       "      <td>38.884586</td>\n",
       "      <td>2</td>\n",
       "      <td>0.102637</td>\n",
       "      <td>0.896414</td>\n",
       "      <td>0.000949</td>\n",
       "      <td>0.000250</td>\n",
       "      <td>0.999051</td>\n",
       "      <td>0.030035</td>\n",
       "      <td>0.005013</td>\n",
       "      <td>0.000500</td>\n",
       "      <td>2939.715359</td>\n",
       "      <td>0.201671</td>\n",
       "      <td>-2.497189</td>\n",
       "      <td>0.000847</td>\n",
       "    </tr>\n",
       "    <tr>\n",
       "      <th>1</th>\n",
       "      <td>1905.502930</td>\n",
       "      <td>21122.035156</td>\n",
       "      <td>38.883110</td>\n",
       "      <td>2</td>\n",
       "      <td>0.090709</td>\n",
       "      <td>0.908312</td>\n",
       "      <td>0.000979</td>\n",
       "      <td>0.000255</td>\n",
       "      <td>0.999021</td>\n",
       "      <td>0.030308</td>\n",
       "      <td>0.005067</td>\n",
       "      <td>0.000512</td>\n",
       "      <td>3304.676763</td>\n",
       "      <td>0.193955</td>\n",
       "      <td>-2.498982</td>\n",
       "      <td>0.000847</td>\n",
       "    </tr>\n",
       "    <tr>\n",
       "      <th>2</th>\n",
       "      <td>1905.512939</td>\n",
       "      <td>21122.033203</td>\n",
       "      <td>38.883949</td>\n",
       "      <td>2</td>\n",
       "      <td>0.124330</td>\n",
       "      <td>0.874710</td>\n",
       "      <td>0.000960</td>\n",
       "      <td>0.000248</td>\n",
       "      <td>0.999040</td>\n",
       "      <td>0.029584</td>\n",
       "      <td>0.004924</td>\n",
       "      <td>0.000512</td>\n",
       "      <td>3681.928229</td>\n",
       "      <td>0.187091</td>\n",
       "      <td>-2.498448</td>\n",
       "      <td>0.000847</td>\n",
       "    </tr>\n",
       "    <tr>\n",
       "      <th>3</th>\n",
       "      <td>1905.520874</td>\n",
       "      <td>21122.031250</td>\n",
       "      <td>38.882137</td>\n",
       "      <td>2</td>\n",
       "      <td>0.180508</td>\n",
       "      <td>0.818550</td>\n",
       "      <td>0.000941</td>\n",
       "      <td>0.000248</td>\n",
       "      <td>0.999059</td>\n",
       "      <td>0.029577</td>\n",
       "      <td>0.004925</td>\n",
       "      <td>0.000517</td>\n",
       "      <td>4059.958026</td>\n",
       "      <td>0.181094</td>\n",
       "      <td>-2.500576</td>\n",
       "      <td>0.000847</td>\n",
       "    </tr>\n",
       "    <tr>\n",
       "      <th>4</th>\n",
       "      <td>1905.531128</td>\n",
       "      <td>21122.029297</td>\n",
       "      <td>38.882839</td>\n",
       "      <td>2</td>\n",
       "      <td>0.220828</td>\n",
       "      <td>0.778263</td>\n",
       "      <td>0.000909</td>\n",
       "      <td>0.000249</td>\n",
       "      <td>0.999091</td>\n",
       "      <td>0.029796</td>\n",
       "      <td>0.004971</td>\n",
       "      <td>0.000511</td>\n",
       "      <td>4672.880330</td>\n",
       "      <td>0.172802</td>\n",
       "      <td>-2.500191</td>\n",
       "      <td>0.000902</td>\n",
       "    </tr>\n",
       "  </tbody>\n",
       "</table>\n",
       "</div>"
      ],
      "text/plain": [
       "             X             Y          Z  class   lambda1   lambda2   lambda3  \\\n",
       "0  1905.494751  21122.037109  38.884586      2  0.102637  0.896414  0.000949   \n",
       "1  1905.502930  21122.035156  38.883110      2  0.090709  0.908312  0.000979   \n",
       "2  1905.512939  21122.033203  38.883949      2  0.124330  0.874710  0.000960   \n",
       "3  1905.520874  21122.031250  38.882137      2  0.180508  0.818550  0.000941   \n",
       "4  1905.531128  21122.029297  38.882839      2  0.220828  0.778263  0.000909   \n",
       "\n",
       "    lambda4   lambda5   lambda6   lambda7   lambda8  local_density  \\\n",
       "0  0.000250  0.999051  0.030035  0.005013  0.000500    2939.715359   \n",
       "1  0.000255  0.999021  0.030308  0.005067  0.000512    3304.676763   \n",
       "2  0.000248  0.999040  0.029584  0.004924  0.000512    3681.928229   \n",
       "3  0.000248  0.999059  0.029577  0.004925  0.000517    4059.958026   \n",
       "4  0.000249  0.999091  0.029796  0.004971  0.000511    4672.880330   \n",
       "\n",
       "   radius_neighbourhood  relative_height  verticality  \n",
       "0              0.201671        -2.497189     0.000847  \n",
       "1              0.193955        -2.498982     0.000847  \n",
       "2              0.187091        -2.498448     0.000847  \n",
       "3              0.181094        -2.500576     0.000847  \n",
       "4              0.172802        -2.500191     0.000902  "
      ]
     },
     "execution_count": 5,
     "metadata": {},
     "output_type": "execute_result"
    }
   ],
   "source": [
    "# Define a data frame with all my data# Define  \n",
    "FILE_PATH = r\"../DATA\"\n",
    "FILE_NAME = r\"/5_Data_ML_attributes_100NN.txt\"\n",
    "IMAGE_FILE_PATH = r\"images\"\n",
    "df = pd.read_csv(FILE_PATH+FILE_NAME, delimiter=',')\n",
    "df.rename(index=str, columns={\"range\": \"relative_height\"}, inplace = True)\n",
    "df.head()"
   ]
  },
  {
   "cell_type": "code",
   "execution_count": 6,
   "metadata": {},
   "outputs": [
    {
     "name": "stdout",
     "output_type": "stream",
     "text": [
      "Number of instances 11052294\n",
      "Number of attributes 16\n"
     ]
    }
   ],
   "source": [
    "rows, cols = df.shape\n",
    "print \"Number of instances\", rows\n",
    "print \"Number of attributes\", cols"
   ]
  },
  {
   "cell_type": "code",
   "execution_count": 7,
   "metadata": {},
   "outputs": [
    {
     "name": "stdout",
     "output_type": "stream",
     "text": [
      "No Nan in this data set\n"
     ]
    }
   ],
   "source": [
    "# Get rid of any NaNs or Inf / -Inf values \n",
    "df.replace([np.inf, -np.inf], np.nan, inplace = True)\n",
    "# Test whether there are any NAN values in the data set \n",
    "if df.isnull().values.any() == False:\n",
    "    print \"No Nan in this data set\""
   ]
  },
  {
   "cell_type": "markdown",
   "metadata": {},
   "source": [
    "### I have made a mistake with the class names, therefore I need to re-name them now\n",
    "\n",
    "In the file 3_CreateFinalClasses, I did not change the names of the classes properly. Therefore, I will have to re-name them now. \n",
    "\n",
    "Manually, not to confuse it."
   ]
  },
  {
   "cell_type": "code",
   "execution_count": 8,
   "metadata": {},
   "outputs": [],
   "source": [
    "# Road (second most points)\n",
    "df[\"class\"].where(df[\"class\"] != 2, 1, inplace=True)\n",
    "# Sidewalk\n",
    "df[\"class\"].where(df[\"class\"] != 3, 2, inplace=True)\n",
    "# Curb\n",
    "df[\"class\"].where(df[\"class\"] != 4, 3, inplace=True)\n",
    "# Building (most points)\n",
    "df[\"class\"].where(df[\"class\"] != 5, 4, inplace=True)\n",
    "# Other pole like objects\n",
    "df[\"class\"].where(df[\"class\"] != 6, 5, inplace=True)\n",
    "# Small poles\n",
    "df[\"class\"].where(df[\"class\"] != 7, 6, inplace=True)\n",
    "# Pedestrians\n",
    "df[\"class\"].where(df[\"class\"] != 11, 7, inplace=True)\n",
    "# 2 wheelers\n",
    "df[\"class\"].where(df[\"class\"] != 12, 8, inplace=True)\n",
    "# 4 wheelers\n",
    "df[\"class\"].where(df[\"class\"] != 13, 9, inplace=True)\n",
    "# Trees\n",
    "df[\"class\"].where(df[\"class\"] != 14, 10, inplace=True)\n",
    "# Potted plants\n",
    "df[\"class\"].where(df[\"class\"] != 15, 11, inplace=True)"
   ]
  },
  {
   "cell_type": "code",
   "execution_count": 9,
   "metadata": {},
   "outputs": [
    {
     "data": {
      "text/plain": [
       "4     6359799\n",
       "1     3230632\n",
       "2      884203\n",
       "9      318893\n",
       "10     105205\n",
       "3       59854\n",
       "8       39803\n",
       "7       23070\n",
       "6       18024\n",
       "11       8969\n",
       "5        3842\n",
       "Name: class, dtype: int64"
      ]
     },
     "execution_count": 9,
     "metadata": {},
     "output_type": "execute_result"
    }
   ],
   "source": [
    "df['class'].value_counts()"
   ]
  },
  {
   "cell_type": "markdown",
   "metadata": {},
   "source": [
    "## Describe the dataset\n",
    "\n",
    "Describe the values and then export the file as Descriptor_Table to txt"
   ]
  },
  {
   "cell_type": "code",
   "execution_count": 10,
   "metadata": {},
   "outputs": [
    {
     "name": "stdout",
     "output_type": "stream",
     "text": [
      "<class 'pandas.core.frame.DataFrame'>\n",
      "Index: 11052294 entries, 0 to 11052293\n",
      "Data columns (total 16 columns):\n",
      "X                       float64\n",
      "Y                       float64\n",
      "Z                       float64\n",
      "class                   int64\n",
      "lambda1                 float64\n",
      "lambda2                 float64\n",
      "lambda3                 float64\n",
      "lambda4                 float64\n",
      "lambda5                 float64\n",
      "lambda6                 float64\n",
      "lambda7                 float64\n",
      "lambda8                 float64\n",
      "local_density           float64\n",
      "radius_neighbourhood    float64\n",
      "relative_height         float64\n",
      "verticality             float64\n",
      "dtypes: float64(15), int64(1)\n",
      "memory usage: 1.4+ GB\n"
     ]
    }
   ],
   "source": [
    "df.info()"
   ]
  },
  {
   "cell_type": "code",
   "execution_count": 11,
   "metadata": {},
   "outputs": [
    {
     "data": {
      "text/html": [
       "<div>\n",
       "<style scoped>\n",
       "    .dataframe tbody tr th:only-of-type {\n",
       "        vertical-align: middle;\n",
       "    }\n",
       "\n",
       "    .dataframe tbody tr th {\n",
       "        vertical-align: top;\n",
       "    }\n",
       "\n",
       "    .dataframe thead th {\n",
       "        text-align: right;\n",
       "    }\n",
       "</style>\n",
       "<table border=\"1\" class=\"dataframe\">\n",
       "  <thead>\n",
       "    <tr style=\"text-align: right;\">\n",
       "      <th></th>\n",
       "      <th>X</th>\n",
       "      <th>Y</th>\n",
       "      <th>Z</th>\n",
       "      <th>class</th>\n",
       "      <th>lambda1</th>\n",
       "      <th>lambda2</th>\n",
       "      <th>lambda3</th>\n",
       "      <th>lambda4</th>\n",
       "      <th>lambda5</th>\n",
       "      <th>lambda6</th>\n",
       "      <th>lambda7</th>\n",
       "      <th>lambda8</th>\n",
       "      <th>local_density</th>\n",
       "      <th>radius_neighbourhood</th>\n",
       "      <th>relative_height</th>\n",
       "      <th>verticality</th>\n",
       "    </tr>\n",
       "  </thead>\n",
       "  <tbody>\n",
       "    <tr>\n",
       "      <th>count</th>\n",
       "      <td>1.105229e+07</td>\n",
       "      <td>1.105229e+07</td>\n",
       "      <td>1.105229e+07</td>\n",
       "      <td>1.105229e+07</td>\n",
       "      <td>1.105229e+07</td>\n",
       "      <td>1.105229e+07</td>\n",
       "      <td>1.105229e+07</td>\n",
       "      <td>1.105229e+07</td>\n",
       "      <td>1.105229e+07</td>\n",
       "      <td>1.105229e+07</td>\n",
       "      <td>1.105229e+07</td>\n",
       "      <td>1.105229e+07</td>\n",
       "      <td>1.105229e+07</td>\n",
       "      <td>1.105229e+07</td>\n",
       "      <td>1.105229e+07</td>\n",
       "      <td>1.105229e+07</td>\n",
       "    </tr>\n",
       "    <tr>\n",
       "      <th>mean</th>\n",
       "      <td>1.902170e+03</td>\n",
       "      <td>2.122209e+04</td>\n",
       "      <td>4.107707e+01</td>\n",
       "      <td>3.189004e+00</td>\n",
       "      <td>2.220814e-01</td>\n",
       "      <td>7.455257e-01</td>\n",
       "      <td>3.239294e-02</td>\n",
       "      <td>1.710584e-03</td>\n",
       "      <td>9.676071e-01</td>\n",
       "      <td>5.661942e-02</td>\n",
       "      <td>1.240191e-02</td>\n",
       "      <td>1.758538e-02</td>\n",
       "      <td>1.803256e+04</td>\n",
       "      <td>1.435122e-01</td>\n",
       "      <td>6.328907e-01</td>\n",
       "      <td>8.334727e-01</td>\n",
       "    </tr>\n",
       "    <tr>\n",
       "      <th>std</th>\n",
       "      <td>5.672591e+00</td>\n",
       "      <td>6.058488e+01</td>\n",
       "      <td>3.908901e+00</td>\n",
       "      <td>1.866948e+00</td>\n",
       "      <td>1.700459e-01</td>\n",
       "      <td>1.982498e-01</td>\n",
       "      <td>6.920504e-02</td>\n",
       "      <td>4.949577e-03</td>\n",
       "      <td>6.920504e-02</td>\n",
       "      <td>5.578464e-02</td>\n",
       "      <td>2.191819e-02</td>\n",
       "      <td>3.532944e-02</td>\n",
       "      <td>1.416418e+04</td>\n",
       "      <td>8.273417e-02</td>\n",
       "      <td>4.002956e+00</td>\n",
       "      <td>6.343752e-01</td>\n",
       "    </tr>\n",
       "    <tr>\n",
       "      <th>min</th>\n",
       "      <td>1.885748e+03</td>\n",
       "      <td>2.112071e+04</td>\n",
       "      <td>3.666582e+01</td>\n",
       "      <td>1.000000e+00</td>\n",
       "      <td>1.751148e-05</td>\n",
       "      <td>2.891087e-05</td>\n",
       "      <td>0.000000e+00</td>\n",
       "      <td>0.000000e+00</td>\n",
       "      <td>5.729854e-02</td>\n",
       "      <td>-2.773113e+00</td>\n",
       "      <td>1.340477e-03</td>\n",
       "      <td>0.000000e+00</td>\n",
       "      <td>1.775883e-01</td>\n",
       "      <td>5.097837e-02</td>\n",
       "      <td>-3.973492e+00</td>\n",
       "      <td>1.000000e-06</td>\n",
       "    </tr>\n",
       "    <tr>\n",
       "      <th>25%</th>\n",
       "      <td>1.898891e+03</td>\n",
       "      <td>2.116849e+04</td>\n",
       "      <td>3.823697e+01</td>\n",
       "      <td>1.000000e+00</td>\n",
       "      <td>1.008165e-01</td>\n",
       "      <td>6.518543e-01</td>\n",
       "      <td>6.315106e-04</td>\n",
       "      <td>2.231669e-04</td>\n",
       "      <td>9.696996e-01</td>\n",
       "      <td>2.766760e-02</td>\n",
       "      <td>4.536518e-03</td>\n",
       "      <td>3.473818e-04</td>\n",
       "      <td>5.930991e+03</td>\n",
       "      <td>9.619436e-02</td>\n",
       "      <td>-2.404022e+00</td>\n",
       "      <td>1.417800e-02</td>\n",
       "    </tr>\n",
       "    <tr>\n",
       "      <th>50%</th>\n",
       "      <td>1.902271e+03</td>\n",
       "      <td>2.121777e+04</td>\n",
       "      <td>3.949983e+01</td>\n",
       "      <td>4.000000e+00</td>\n",
       "      <td>1.747756e-01</td>\n",
       "      <td>8.091562e-01</td>\n",
       "      <td>1.769565e-03</td>\n",
       "      <td>4.141318e-04</td>\n",
       "      <td>9.982304e-01</td>\n",
       "      <td>3.781967e-02</td>\n",
       "      <td>6.576781e-03</td>\n",
       "      <td>9.833080e-04</td>\n",
       "      <td>1.582383e+04</td>\n",
       "      <td>1.150731e-01</td>\n",
       "      <td>-9.467090e-01</td>\n",
       "      <td>9.917630e-01</td>\n",
       "    </tr>\n",
       "    <tr>\n",
       "      <th>75%</th>\n",
       "      <td>1.906592e+03</td>\n",
       "      <td>2.127548e+04</td>\n",
       "      <td>4.242671e+01</td>\n",
       "      <td>4.000000e+00</td>\n",
       "      <td>2.983422e-01</td>\n",
       "      <td>8.864228e-01</td>\n",
       "      <td>3.030037e-02</td>\n",
       "      <td>1.489433e-03</td>\n",
       "      <td>9.993685e-01</td>\n",
       "      <td>6.165845e-02</td>\n",
       "      <td>1.190060e-02</td>\n",
       "      <td>1.729781e-02</td>\n",
       "      <td>2.708844e+04</td>\n",
       "      <td>1.596008e-01</td>\n",
       "      <td>2.150309e+00</td>\n",
       "      <td>1.048504e+00</td>\n",
       "    </tr>\n",
       "    <tr>\n",
       "      <th>max</th>\n",
       "      <td>1.916770e+03</td>\n",
       "      <td>2.132869e+04</td>\n",
       "      <td>6.039886e+01</td>\n",
       "      <td>1.100000e+01</td>\n",
       "      <td>9.999660e-01</td>\n",
       "      <td>9.997526e-01</td>\n",
       "      <td>9.427015e-01</td>\n",
       "      <td>6.434519e-01</td>\n",
       "      <td>1.000000e+00</td>\n",
       "      <td>1.045629e+00</td>\n",
       "      <td>3.299874e+00</td>\n",
       "      <td>3.236199e-01</td>\n",
       "      <td>1.820015e+05</td>\n",
       "      <td>5.139720e+00</td>\n",
       "      <td>1.967205e+01</td>\n",
       "      <td>1.999999e+00</td>\n",
       "    </tr>\n",
       "  </tbody>\n",
       "</table>\n",
       "</div>"
      ],
      "text/plain": [
       "                  X             Y             Z         class       lambda1  \\\n",
       "count  1.105229e+07  1.105229e+07  1.105229e+07  1.105229e+07  1.105229e+07   \n",
       "mean   1.902170e+03  2.122209e+04  4.107707e+01  3.189004e+00  2.220814e-01   \n",
       "std    5.672591e+00  6.058488e+01  3.908901e+00  1.866948e+00  1.700459e-01   \n",
       "min    1.885748e+03  2.112071e+04  3.666582e+01  1.000000e+00  1.751148e-05   \n",
       "25%    1.898891e+03  2.116849e+04  3.823697e+01  1.000000e+00  1.008165e-01   \n",
       "50%    1.902271e+03  2.121777e+04  3.949983e+01  4.000000e+00  1.747756e-01   \n",
       "75%    1.906592e+03  2.127548e+04  4.242671e+01  4.000000e+00  2.983422e-01   \n",
       "max    1.916770e+03  2.132869e+04  6.039886e+01  1.100000e+01  9.999660e-01   \n",
       "\n",
       "            lambda2       lambda3       lambda4       lambda5       lambda6  \\\n",
       "count  1.105229e+07  1.105229e+07  1.105229e+07  1.105229e+07  1.105229e+07   \n",
       "mean   7.455257e-01  3.239294e-02  1.710584e-03  9.676071e-01  5.661942e-02   \n",
       "std    1.982498e-01  6.920504e-02  4.949577e-03  6.920504e-02  5.578464e-02   \n",
       "min    2.891087e-05  0.000000e+00  0.000000e+00  5.729854e-02 -2.773113e+00   \n",
       "25%    6.518543e-01  6.315106e-04  2.231669e-04  9.696996e-01  2.766760e-02   \n",
       "50%    8.091562e-01  1.769565e-03  4.141318e-04  9.982304e-01  3.781967e-02   \n",
       "75%    8.864228e-01  3.030037e-02  1.489433e-03  9.993685e-01  6.165845e-02   \n",
       "max    9.997526e-01  9.427015e-01  6.434519e-01  1.000000e+00  1.045629e+00   \n",
       "\n",
       "            lambda7       lambda8  local_density  radius_neighbourhood  \\\n",
       "count  1.105229e+07  1.105229e+07   1.105229e+07          1.105229e+07   \n",
       "mean   1.240191e-02  1.758538e-02   1.803256e+04          1.435122e-01   \n",
       "std    2.191819e-02  3.532944e-02   1.416418e+04          8.273417e-02   \n",
       "min    1.340477e-03  0.000000e+00   1.775883e-01          5.097837e-02   \n",
       "25%    4.536518e-03  3.473818e-04   5.930991e+03          9.619436e-02   \n",
       "50%    6.576781e-03  9.833080e-04   1.582383e+04          1.150731e-01   \n",
       "75%    1.190060e-02  1.729781e-02   2.708844e+04          1.596008e-01   \n",
       "max    3.299874e+00  3.236199e-01   1.820015e+05          5.139720e+00   \n",
       "\n",
       "       relative_height   verticality  \n",
       "count     1.105229e+07  1.105229e+07  \n",
       "mean      6.328907e-01  8.334727e-01  \n",
       "std       4.002956e+00  6.343752e-01  \n",
       "min      -3.973492e+00  1.000000e-06  \n",
       "25%      -2.404022e+00  1.417800e-02  \n",
       "50%      -9.467090e-01  9.917630e-01  \n",
       "75%       2.150309e+00  1.048504e+00  \n",
       "max       1.967205e+01  1.999999e+00  "
      ]
     },
     "execution_count": 11,
     "metadata": {},
     "output_type": "execute_result"
    }
   ],
   "source": [
    "# Describe it \n",
    "descriptor_table = df.describe()\n",
    "descriptor_table.to_csv(FILE_PATH+'/Descriptor_Table_10NN.txt', index= True)\n",
    "descriptor_table"
   ]
  },
  {
   "cell_type": "markdown",
   "metadata": {},
   "source": [
    "## Create feature data frame with only the features I would like to have for ML and also the class"
   ]
  },
  {
   "cell_type": "code",
   "execution_count": 12,
   "metadata": {},
   "outputs": [
    {
     "data": {
      "text/html": [
       "<div>\n",
       "<style scoped>\n",
       "    .dataframe tbody tr th:only-of-type {\n",
       "        vertical-align: middle;\n",
       "    }\n",
       "\n",
       "    .dataframe tbody tr th {\n",
       "        vertical-align: top;\n",
       "    }\n",
       "\n",
       "    .dataframe thead th {\n",
       "        text-align: right;\n",
       "    }\n",
       "</style>\n",
       "<table border=\"1\" class=\"dataframe\">\n",
       "  <thead>\n",
       "    <tr style=\"text-align: right;\">\n",
       "      <th></th>\n",
       "      <th>class</th>\n",
       "      <th>lambda1</th>\n",
       "      <th>lambda2</th>\n",
       "      <th>lambda3</th>\n",
       "      <th>lambda4</th>\n",
       "      <th>lambda5</th>\n",
       "      <th>lambda6</th>\n",
       "      <th>lambda7</th>\n",
       "      <th>lambda8</th>\n",
       "      <th>local_density</th>\n",
       "      <th>relative_height</th>\n",
       "      <th>verticality</th>\n",
       "    </tr>\n",
       "  </thead>\n",
       "  <tbody>\n",
       "    <tr>\n",
       "      <th>0</th>\n",
       "      <td>1</td>\n",
       "      <td>0.102637</td>\n",
       "      <td>0.896414</td>\n",
       "      <td>0.000949</td>\n",
       "      <td>0.000250</td>\n",
       "      <td>0.999051</td>\n",
       "      <td>0.030035</td>\n",
       "      <td>0.005013</td>\n",
       "      <td>0.000500</td>\n",
       "      <td>2939.715359</td>\n",
       "      <td>-2.497189</td>\n",
       "      <td>0.000847</td>\n",
       "    </tr>\n",
       "    <tr>\n",
       "      <th>1</th>\n",
       "      <td>1</td>\n",
       "      <td>0.090709</td>\n",
       "      <td>0.908312</td>\n",
       "      <td>0.000979</td>\n",
       "      <td>0.000255</td>\n",
       "      <td>0.999021</td>\n",
       "      <td>0.030308</td>\n",
       "      <td>0.005067</td>\n",
       "      <td>0.000512</td>\n",
       "      <td>3304.676763</td>\n",
       "      <td>-2.498982</td>\n",
       "      <td>0.000847</td>\n",
       "    </tr>\n",
       "    <tr>\n",
       "      <th>2</th>\n",
       "      <td>1</td>\n",
       "      <td>0.124330</td>\n",
       "      <td>0.874710</td>\n",
       "      <td>0.000960</td>\n",
       "      <td>0.000248</td>\n",
       "      <td>0.999040</td>\n",
       "      <td>0.029584</td>\n",
       "      <td>0.004924</td>\n",
       "      <td>0.000512</td>\n",
       "      <td>3681.928229</td>\n",
       "      <td>-2.498448</td>\n",
       "      <td>0.000847</td>\n",
       "    </tr>\n",
       "    <tr>\n",
       "      <th>3</th>\n",
       "      <td>1</td>\n",
       "      <td>0.180508</td>\n",
       "      <td>0.818550</td>\n",
       "      <td>0.000941</td>\n",
       "      <td>0.000248</td>\n",
       "      <td>0.999059</td>\n",
       "      <td>0.029577</td>\n",
       "      <td>0.004925</td>\n",
       "      <td>0.000517</td>\n",
       "      <td>4059.958026</td>\n",
       "      <td>-2.500576</td>\n",
       "      <td>0.000847</td>\n",
       "    </tr>\n",
       "    <tr>\n",
       "      <th>4</th>\n",
       "      <td>1</td>\n",
       "      <td>0.220828</td>\n",
       "      <td>0.778263</td>\n",
       "      <td>0.000909</td>\n",
       "      <td>0.000249</td>\n",
       "      <td>0.999091</td>\n",
       "      <td>0.029796</td>\n",
       "      <td>0.004971</td>\n",
       "      <td>0.000511</td>\n",
       "      <td>4672.880330</td>\n",
       "      <td>-2.500191</td>\n",
       "      <td>0.000902</td>\n",
       "    </tr>\n",
       "  </tbody>\n",
       "</table>\n",
       "</div>"
      ],
      "text/plain": [
       "   class   lambda1   lambda2   lambda3   lambda4   lambda5   lambda6  \\\n",
       "0      1  0.102637  0.896414  0.000949  0.000250  0.999051  0.030035   \n",
       "1      1  0.090709  0.908312  0.000979  0.000255  0.999021  0.030308   \n",
       "2      1  0.124330  0.874710  0.000960  0.000248  0.999040  0.029584   \n",
       "3      1  0.180508  0.818550  0.000941  0.000248  0.999059  0.029577   \n",
       "4      1  0.220828  0.778263  0.000909  0.000249  0.999091  0.029796   \n",
       "\n",
       "    lambda7   lambda8  local_density  relative_height  verticality  \n",
       "0  0.005013  0.000500    2939.715359        -2.497189     0.000847  \n",
       "1  0.005067  0.000512    3304.676763        -2.498982     0.000847  \n",
       "2  0.004924  0.000512    3681.928229        -2.498448     0.000847  \n",
       "3  0.004925  0.000517    4059.958026        -2.500576     0.000847  \n",
       "4  0.004971  0.000511    4672.880330        -2.500191     0.000902  "
      ]
     },
     "execution_count": 12,
     "metadata": {},
     "output_type": "execute_result"
    }
   ],
   "source": [
    "df_features = df.iloc[:,3:]\n",
    "df_features.drop(['radius_neighbourhood'], axis = 1, inplace = True)\n",
    "df_features.head()"
   ]
  },
  {
   "cell_type": "code",
   "execution_count": 13,
   "metadata": {},
   "outputs": [
    {
     "data": {
      "text/plain": [
       "Index([u'class', u'lambda1', u'lambda2', u'lambda3', u'lambda4', u'lambda5',\n",
       "       u'lambda6', u'lambda7', u'lambda8', u'local_density',\n",
       "       u'relative_height', u'verticality'],\n",
       "      dtype='object')"
      ]
     },
     "execution_count": 13,
     "metadata": {},
     "output_type": "execute_result"
    }
   ],
   "source": [
    "df_features.columns"
   ]
  },
  {
   "cell_type": "code",
   "execution_count": 43,
   "metadata": {},
   "outputs": [
    {
     "data": {
      "image/png": "[encoded data removed]",
      "text/plain": [
       "<Figure size 648x216 with 2 Axes>"
      ]
     },
     "metadata": {},
     "output_type": "display_data"
    }
   ],
   "source": [
    "# Here: create the histograms manu\n",
    "df_features[['local_density', 'verticality']].hist(bins=30,figsize = (9,3), log = True),\n",
    "plt.savefig(IMAGE_FILE_PATH+'/Histo_10NN_6.png')\n",
    "plt.show()"
   ]
  },
  {
   "cell_type": "code",
   "execution_count": 54,
   "metadata": {},
   "outputs": [
    {
     "data": {
      "image/png": "[encoded data removed]",
      "text/plain": [
       "<Figure size 1440x1080 with 12 Axes>"
      ]
     },
     "metadata": {},
     "output_type": "display_data"
    }
   ],
   "source": [
    "df_features.hist(bins = 30, figsize = (20,15)),\n",
    "plt.savefig(IMAGE_FILE_PATH+'/Histo_Attribtes_10NN.png')\n",
    "plt.show();"
   ]
  },
  {
   "cell_type": "code",
   "execution_count": 50,
   "metadata": {},
   "outputs": [
    {
     "ename": "KeyboardInterrupt",
     "evalue": "",
     "output_type": "error",
     "traceback": [
      "\u001b[0;31m---------------------------------------------------------------------------\u001b[0m",
      "\u001b[0;31mKeyboardInterrupt\u001b[0m                         Traceback (most recent call last)",
      "\u001b[0;32m<ipython-input-50-b54117a33478>\u001b[0m in \u001b[0;36m<module>\u001b[0;34m()\u001b[0m\n\u001b[1;32m      2\u001b[0m \u001b[0mscatter_matrix\u001b[0m\u001b[0;34m(\u001b[0m\u001b[0mdf_features\u001b[0m\u001b[0;34m.\u001b[0m\u001b[0miloc\u001b[0m\u001b[0;34m[\u001b[0m\u001b[0;34m:\u001b[0m\u001b[0;34m,\u001b[0m\u001b[0;36m1\u001b[0m\u001b[0;34m:\u001b[0m\u001b[0;36m4\u001b[0m\u001b[0;34m]\u001b[0m\u001b[0;34m,\u001b[0m \u001b[0mfigsize\u001b[0m\u001b[0;34m=\u001b[0m\u001b[0;34m(\u001b[0m\u001b[0;36m12\u001b[0m\u001b[0;34m,\u001b[0m\u001b[0;36m8\u001b[0m\u001b[0;34m)\u001b[0m\u001b[0;34m)\u001b[0m\u001b[0;34m,\u001b[0m\u001b[0;34m\u001b[0m\u001b[0m\n\u001b[1;32m      3\u001b[0m \u001b[0mplt\u001b[0m\u001b[0;34m.\u001b[0m\u001b[0msavefig\u001b[0m\u001b[0;34m(\u001b[0m\u001b[0mIMAGE_FILE_PATH\u001b[0m\u001b[0;34m+\u001b[0m\u001b[0;34m'/Scattermatrix_10NN_l1l2l3.png'\u001b[0m\u001b[0;34m)\u001b[0m\u001b[0;34m\u001b[0m\u001b[0m\n\u001b[0;32m----> 4\u001b[0;31m \u001b[0mplt\u001b[0m\u001b[0;34m.\u001b[0m\u001b[0mshow\u001b[0m\u001b[0;34m(\u001b[0m\u001b[0;34m)\u001b[0m\u001b[0;34m;\u001b[0m\u001b[0;34m\u001b[0m\u001b[0m\n\u001b[0m",
      "\u001b[0;32m/home/user/.local/lib/python2.7/site-packages/matplotlib/pyplot.pyc\u001b[0m in \u001b[0;36mshow\u001b[0;34m(*args, **kw)\u001b[0m\n\u001b[1;32m    251\u001b[0m     \"\"\"\n\u001b[1;32m    252\u001b[0m     \u001b[0;32mglobal\u001b[0m \u001b[0m_show\u001b[0m\u001b[0;34m\u001b[0m\u001b[0m\n\u001b[0;32m--> 253\u001b[0;31m     \u001b[0;32mreturn\u001b[0m \u001b[0m_show\u001b[0m\u001b[0;34m(\u001b[0m\u001b[0;34m*\u001b[0m\u001b[0margs\u001b[0m\u001b[0;34m,\u001b[0m \u001b[0;34m**\u001b[0m\u001b[0mkw\u001b[0m\u001b[0;34m)\u001b[0m\u001b[0;34m\u001b[0m\u001b[0m\n\u001b[0m\u001b[1;32m    254\u001b[0m \u001b[0;34m\u001b[0m\u001b[0m\n\u001b[1;32m    255\u001b[0m \u001b[0;34m\u001b[0m\u001b[0m\n",
      "\u001b[0;32m/home/user/.local/lib/python2.7/site-packages/ipykernel/pylab/backend_inline.pyc\u001b[0m in \u001b[0;36mshow\u001b[0;34m(close, block)\u001b[0m\n\u001b[1;32m     34\u001b[0m     \u001b[0;32mtry\u001b[0m\u001b[0;34m:\u001b[0m\u001b[0;34m\u001b[0m\u001b[0m\n\u001b[1;32m     35\u001b[0m         \u001b[0;32mfor\u001b[0m \u001b[0mfigure_manager\u001b[0m \u001b[0;32min\u001b[0m \u001b[0mGcf\u001b[0m\u001b[0;34m.\u001b[0m\u001b[0mget_all_fig_managers\u001b[0m\u001b[0;34m(\u001b[0m\u001b[0;34m)\u001b[0m\u001b[0;34m:\u001b[0m\u001b[0;34m\u001b[0m\u001b[0m\n\u001b[0;32m---> 36\u001b[0;31m             \u001b[0mdisplay\u001b[0m\u001b[0;34m(\u001b[0m\u001b[0mfigure_manager\u001b[0m\u001b[0;34m.\u001b[0m\u001b[0mcanvas\u001b[0m\u001b[0;34m.\u001b[0m\u001b[0mfigure\u001b[0m\u001b[0;34m)\u001b[0m\u001b[0;34m\u001b[0m\u001b[0m\n\u001b[0m\u001b[1;32m     37\u001b[0m     \u001b[0;32mfinally\u001b[0m\u001b[0;34m:\u001b[0m\u001b[0;34m\u001b[0m\u001b[0m\n\u001b[1;32m     38\u001b[0m         \u001b[0mshow\u001b[0m\u001b[0;34m.\u001b[0m\u001b[0m_to_draw\u001b[0m \u001b[0;34m=\u001b[0m \u001b[0;34m[\u001b[0m\u001b[0;34m]\u001b[0m\u001b[0;34m\u001b[0m\u001b[0m\n",
      "\u001b[0;32m/home/user/.local/lib/python2.7/site-packages/IPython/core/display.pyc\u001b[0m in \u001b[0;36mdisplay\u001b[0;34m(*objs, **kwargs)\u001b[0m\n\u001b[1;32m    309\u001b[0m             \u001b[0mpublish_display_data\u001b[0m\u001b[0;34m(\u001b[0m\u001b[0mdata\u001b[0m\u001b[0;34m=\u001b[0m\u001b[0mobj\u001b[0m\u001b[0;34m,\u001b[0m \u001b[0mmetadata\u001b[0m\u001b[0;34m=\u001b[0m\u001b[0mmetadata\u001b[0m\u001b[0;34m,\u001b[0m \u001b[0;34m**\u001b[0m\u001b[0mkwargs\u001b[0m\u001b[0;34m)\u001b[0m\u001b[0;34m\u001b[0m\u001b[0m\n\u001b[1;32m    310\u001b[0m         \u001b[0;32melse\u001b[0m\u001b[0;34m:\u001b[0m\u001b[0;34m\u001b[0m\u001b[0m\n\u001b[0;32m--> 311\u001b[0;31m             \u001b[0mformat_dict\u001b[0m\u001b[0;34m,\u001b[0m \u001b[0mmd_dict\u001b[0m \u001b[0;34m=\u001b[0m \u001b[0mformat\u001b[0m\u001b[0;34m(\u001b[0m\u001b[0mobj\u001b[0m\u001b[0;34m,\u001b[0m \u001b[0minclude\u001b[0m\u001b[0;34m=\u001b[0m\u001b[0minclude\u001b[0m\u001b[0;34m,\u001b[0m \u001b[0mexclude\u001b[0m\u001b[0;34m=\u001b[0m\u001b[0mexclude\u001b[0m\u001b[0;34m)\u001b[0m\u001b[0;34m\u001b[0m\u001b[0m\n\u001b[0m\u001b[1;32m    312\u001b[0m             \u001b[0;32mif\u001b[0m \u001b[0;32mnot\u001b[0m \u001b[0mformat_dict\u001b[0m\u001b[0;34m:\u001b[0m\u001b[0;34m\u001b[0m\u001b[0m\n\u001b[1;32m    313\u001b[0m                 \u001b[0;31m# nothing to display (e.g. _ipython_display_ took over)\u001b[0m\u001b[0;34m\u001b[0m\u001b[0;34m\u001b[0m\u001b[0m\n",
      "\u001b[0;32m/home/user/.local/lib/python2.7/site-packages/IPython/core/formatters.pyc\u001b[0m in \u001b[0;36mformat\u001b[0;34m(self, obj, include, exclude)\u001b[0m\n\u001b[1;32m    171\u001b[0m             \u001b[0mmd\u001b[0m \u001b[0;34m=\u001b[0m \u001b[0mNone\u001b[0m\u001b[0;34m\u001b[0m\u001b[0m\n\u001b[1;32m    172\u001b[0m             \u001b[0;32mtry\u001b[0m\u001b[0;34m:\u001b[0m\u001b[0;34m\u001b[0m\u001b[0m\n\u001b[0;32m--> 173\u001b[0;31m                 \u001b[0mdata\u001b[0m \u001b[0;34m=\u001b[0m \u001b[0mformatter\u001b[0m\u001b[0;34m(\u001b[0m\u001b[0mobj\u001b[0m\u001b[0;34m)\u001b[0m\u001b[0;34m\u001b[0m\u001b[0m\n\u001b[0m\u001b[1;32m    174\u001b[0m             \u001b[0;32mexcept\u001b[0m\u001b[0;34m:\u001b[0m\u001b[0;34m\u001b[0m\u001b[0m\n\u001b[1;32m    175\u001b[0m                 \u001b[0;31m# FIXME: log the exception\u001b[0m\u001b[0;34m\u001b[0m\u001b[0;34m\u001b[0m\u001b[0m\n",
      "\u001b[0;32m<decorator-gen-9>\u001b[0m in \u001b[0;36m__call__\u001b[0;34m(self, obj)\u001b[0m\n",
      "\u001b[0;32m/home/user/.local/lib/python2.7/site-packages/IPython/core/formatters.pyc\u001b[0m in \u001b[0;36mcatch_format_error\u001b[0;34m(method, self, *args, **kwargs)\u001b[0m\n\u001b[1;32m    215\u001b[0m     \u001b[0;34m\"\"\"show traceback on failed format call\"\"\"\u001b[0m\u001b[0;34m\u001b[0m\u001b[0m\n\u001b[1;32m    216\u001b[0m     \u001b[0;32mtry\u001b[0m\u001b[0;34m:\u001b[0m\u001b[0;34m\u001b[0m\u001b[0m\n\u001b[0;32m--> 217\u001b[0;31m         \u001b[0mr\u001b[0m \u001b[0;34m=\u001b[0m \u001b[0mmethod\u001b[0m\u001b[0;34m(\u001b[0m\u001b[0mself\u001b[0m\u001b[0;34m,\u001b[0m \u001b[0;34m*\u001b[0m\u001b[0margs\u001b[0m\u001b[0;34m,\u001b[0m \u001b[0;34m**\u001b[0m\u001b[0mkwargs\u001b[0m\u001b[0;34m)\u001b[0m\u001b[0;34m\u001b[0m\u001b[0m\n\u001b[0m\u001b[1;32m    218\u001b[0m     \u001b[0;32mexcept\u001b[0m \u001b[0mNotImplementedError\u001b[0m\u001b[0;34m:\u001b[0m\u001b[0;34m\u001b[0m\u001b[0m\n\u001b[1;32m    219\u001b[0m         \u001b[0;31m# don't warn on NotImplementedErrors\u001b[0m\u001b[0;34m\u001b[0m\u001b[0;34m\u001b[0m\u001b[0m\n",
      "\u001b[0;32m/home/user/.local/lib/python2.7/site-packages/IPython/core/formatters.pyc\u001b[0m in \u001b[0;36m__call__\u001b[0;34m(self, obj)\u001b[0m\n\u001b[1;32m    332\u001b[0m                 \u001b[0;32mpass\u001b[0m\u001b[0;34m\u001b[0m\u001b[0m\n\u001b[1;32m    333\u001b[0m             \u001b[0;32melse\u001b[0m\u001b[0;34m:\u001b[0m\u001b[0;34m\u001b[0m\u001b[0m\n\u001b[0;32m--> 334\u001b[0;31m                 \u001b[0;32mreturn\u001b[0m \u001b[0mprinter\u001b[0m\u001b[0;34m(\u001b[0m\u001b[0mobj\u001b[0m\u001b[0;34m)\u001b[0m\u001b[0;34m\u001b[0m\u001b[0m\n\u001b[0m\u001b[1;32m    335\u001b[0m             \u001b[0;31m# Finally look for special method names\u001b[0m\u001b[0;34m\u001b[0m\u001b[0;34m\u001b[0m\u001b[0m\n\u001b[1;32m    336\u001b[0m             \u001b[0mmethod\u001b[0m \u001b[0;34m=\u001b[0m \u001b[0mget_real_method\u001b[0m\u001b[0;34m(\u001b[0m\u001b[0mobj\u001b[0m\u001b[0;34m,\u001b[0m \u001b[0mself\u001b[0m\u001b[0;34m.\u001b[0m\u001b[0mprint_method\u001b[0m\u001b[0;34m)\u001b[0m\u001b[0;34m\u001b[0m\u001b[0m\n",
      "\u001b[0;32m/home/user/.local/lib/python2.7/site-packages/IPython/core/pylabtools.pyc\u001b[0m in \u001b[0;36m<lambda>\u001b[0;34m(fig)\u001b[0m\n\u001b[1;32m    245\u001b[0m \u001b[0;34m\u001b[0m\u001b[0m\n\u001b[1;32m    246\u001b[0m     \u001b[0;32mif\u001b[0m \u001b[0;34m'png'\u001b[0m \u001b[0;32min\u001b[0m \u001b[0mformats\u001b[0m\u001b[0;34m:\u001b[0m\u001b[0;34m\u001b[0m\u001b[0m\n\u001b[0;32m--> 247\u001b[0;31m         \u001b[0mpng_formatter\u001b[0m\u001b[0;34m.\u001b[0m\u001b[0mfor_type\u001b[0m\u001b[0;34m(\u001b[0m\u001b[0mFigure\u001b[0m\u001b[0;34m,\u001b[0m \u001b[0;32mlambda\u001b[0m \u001b[0mfig\u001b[0m\u001b[0;34m:\u001b[0m \u001b[0mprint_figure\u001b[0m\u001b[0;34m(\u001b[0m\u001b[0mfig\u001b[0m\u001b[0;34m,\u001b[0m \u001b[0;34m'png'\u001b[0m\u001b[0;34m,\u001b[0m \u001b[0;34m**\u001b[0m\u001b[0mkwargs\u001b[0m\u001b[0;34m)\u001b[0m\u001b[0;34m)\u001b[0m\u001b[0;34m\u001b[0m\u001b[0m\n\u001b[0m\u001b[1;32m    248\u001b[0m     \u001b[0;32mif\u001b[0m \u001b[0;34m'retina'\u001b[0m \u001b[0;32min\u001b[0m \u001b[0mformats\u001b[0m \u001b[0;32mor\u001b[0m \u001b[0;34m'png2x'\u001b[0m \u001b[0;32min\u001b[0m \u001b[0mformats\u001b[0m\u001b[0;34m:\u001b[0m\u001b[0;34m\u001b[0m\u001b[0m\n\u001b[1;32m    249\u001b[0m         \u001b[0mpng_formatter\u001b[0m\u001b[0;34m.\u001b[0m\u001b[0mfor_type\u001b[0m\u001b[0;34m(\u001b[0m\u001b[0mFigure\u001b[0m\u001b[0;34m,\u001b[0m \u001b[0;32mlambda\u001b[0m \u001b[0mfig\u001b[0m\u001b[0;34m:\u001b[0m \u001b[0mretina_figure\u001b[0m\u001b[0;34m(\u001b[0m\u001b[0mfig\u001b[0m\u001b[0;34m,\u001b[0m \u001b[0;34m**\u001b[0m\u001b[0mkwargs\u001b[0m\u001b[0;34m)\u001b[0m\u001b[0;34m)\u001b[0m\u001b[0;34m\u001b[0m\u001b[0m\n",
      "\u001b[0;32m/home/user/.local/lib/python2.7/site-packages/IPython/core/pylabtools.pyc\u001b[0m in \u001b[0;36mprint_figure\u001b[0;34m(fig, fmt, bbox_inches, **kwargs)\u001b[0m\n\u001b[1;32m    129\u001b[0m \u001b[0;34m\u001b[0m\u001b[0m\n\u001b[1;32m    130\u001b[0m     \u001b[0mbytes_io\u001b[0m \u001b[0;34m=\u001b[0m \u001b[0mBytesIO\u001b[0m\u001b[0;34m(\u001b[0m\u001b[0;34m)\u001b[0m\u001b[0;34m\u001b[0m\u001b[0m\n\u001b[0;32m--> 131\u001b[0;31m     \u001b[0mfig\u001b[0m\u001b[0;34m.\u001b[0m\u001b[0mcanvas\u001b[0m\u001b[0;34m.\u001b[0m\u001b[0mprint_figure\u001b[0m\u001b[0;34m(\u001b[0m\u001b[0mbytes_io\u001b[0m\u001b[0;34m,\u001b[0m \u001b[0;34m**\u001b[0m\u001b[0mkw\u001b[0m\u001b[0;34m)\u001b[0m\u001b[0;34m\u001b[0m\u001b[0m\n\u001b[0m\u001b[1;32m    132\u001b[0m     \u001b[0mdata\u001b[0m \u001b[0;34m=\u001b[0m \u001b[0mbytes_io\u001b[0m\u001b[0;34m.\u001b[0m\u001b[0mgetvalue\u001b[0m\u001b[0;34m(\u001b[0m\u001b[0;34m)\u001b[0m\u001b[0;34m\u001b[0m\u001b[0m\n\u001b[1;32m    133\u001b[0m     \u001b[0;32mif\u001b[0m \u001b[0mfmt\u001b[0m \u001b[0;34m==\u001b[0m \u001b[0;34m'svg'\u001b[0m\u001b[0;34m:\u001b[0m\u001b[0;34m\u001b[0m\u001b[0m\n",
      "\u001b[0;32m/home/user/.local/lib/python2.7/site-packages/matplotlib/backend_bases.pyc\u001b[0m in \u001b[0;36mprint_figure\u001b[0;34m(self, filename, dpi, facecolor, edgecolor, orientation, format, **kwargs)\u001b[0m\n\u001b[1;32m   2220\u001b[0m                 \u001b[0mbbox_filtered\u001b[0m \u001b[0;34m=\u001b[0m \u001b[0;34m[\u001b[0m\u001b[0;34m]\u001b[0m\u001b[0;34m\u001b[0m\u001b[0m\n\u001b[1;32m   2221\u001b[0m                 \u001b[0;32mfor\u001b[0m \u001b[0ma\u001b[0m \u001b[0;32min\u001b[0m \u001b[0mbbox_artists\u001b[0m\u001b[0;34m:\u001b[0m\u001b[0;34m\u001b[0m\u001b[0m\n\u001b[0;32m-> 2222\u001b[0;31m                     \u001b[0mbbox\u001b[0m \u001b[0;34m=\u001b[0m \u001b[0ma\u001b[0m\u001b[0;34m.\u001b[0m\u001b[0mget_window_extent\u001b[0m\u001b[0;34m(\u001b[0m\u001b[0mrenderer\u001b[0m\u001b[0;34m)\u001b[0m\u001b[0;34m\u001b[0m\u001b[0m\n\u001b[0m\u001b[1;32m   2223\u001b[0m                     \u001b[0;32mif\u001b[0m \u001b[0ma\u001b[0m\u001b[0;34m.\u001b[0m\u001b[0mget_clip_on\u001b[0m\u001b[0;34m(\u001b[0m\u001b[0;34m)\u001b[0m\u001b[0;34m:\u001b[0m\u001b[0;34m\u001b[0m\u001b[0m\n\u001b[1;32m   2224\u001b[0m                         \u001b[0mclip_box\u001b[0m \u001b[0;34m=\u001b[0m \u001b[0ma\u001b[0m\u001b[0;34m.\u001b[0m\u001b[0mget_clip_box\u001b[0m\u001b[0;34m(\u001b[0m\u001b[0;34m)\u001b[0m\u001b[0;34m\u001b[0m\u001b[0m\n",
      "\u001b[0;32m/home/user/.local/lib/python2.7/site-packages/matplotlib/collections.pyc\u001b[0m in \u001b[0;36mget_window_extent\u001b[0;34m(self, renderer)\u001b[0m\n\u001b[1;32m    216\u001b[0m         \u001b[0;31m# TODO:check to ensure that this does not fail for\u001b[0m\u001b[0;34m\u001b[0m\u001b[0;34m\u001b[0m\u001b[0m\n\u001b[1;32m    217\u001b[0m         \u001b[0;31m# cases other than scatter plot legend\u001b[0m\u001b[0;34m\u001b[0m\u001b[0;34m\u001b[0m\u001b[0m\n\u001b[0;32m--> 218\u001b[0;31m         \u001b[0;32mreturn\u001b[0m \u001b[0mself\u001b[0m\u001b[0;34m.\u001b[0m\u001b[0mget_datalim\u001b[0m\u001b[0;34m(\u001b[0m\u001b[0mtransforms\u001b[0m\u001b[0;34m.\u001b[0m\u001b[0mIdentityTransform\u001b[0m\u001b[0;34m(\u001b[0m\u001b[0;34m)\u001b[0m\u001b[0;34m)\u001b[0m\u001b[0;34m\u001b[0m\u001b[0m\n\u001b[0m\u001b[1;32m    219\u001b[0m \u001b[0;34m\u001b[0m\u001b[0m\n\u001b[1;32m    220\u001b[0m     \u001b[0;32mdef\u001b[0m \u001b[0m_prepare_points\u001b[0m\u001b[0;34m(\u001b[0m\u001b[0mself\u001b[0m\u001b[0;34m)\u001b[0m\u001b[0;34m:\u001b[0m\u001b[0;34m\u001b[0m\u001b[0m\n",
      "\u001b[0;32m/home/user/.local/lib/python2.7/site-packages/matplotlib/collections.pyc\u001b[0m in \u001b[0;36mget_datalim\u001b[0;34m(self, transData)\u001b[0m\n\u001b[1;32m    207\u001b[0m             result = mpath.get_path_collection_extents(\n\u001b[1;32m    208\u001b[0m                 \u001b[0mtransform\u001b[0m\u001b[0;34m.\u001b[0m\u001b[0mfrozen\u001b[0m\u001b[0;34m(\u001b[0m\u001b[0;34m)\u001b[0m\u001b[0;34m,\u001b[0m \u001b[0mpaths\u001b[0m\u001b[0;34m,\u001b[0m \u001b[0mself\u001b[0m\u001b[0;34m.\u001b[0m\u001b[0mget_transforms\u001b[0m\u001b[0;34m(\u001b[0m\u001b[0;34m)\u001b[0m\u001b[0;34m,\u001b[0m\u001b[0;34m\u001b[0m\u001b[0m\n\u001b[0;32m--> 209\u001b[0;31m                 offsets, transOffset.frozen())\n\u001b[0m\u001b[1;32m    210\u001b[0m             \u001b[0mresult\u001b[0m \u001b[0;34m=\u001b[0m \u001b[0mresult\u001b[0m\u001b[0;34m.\u001b[0m\u001b[0minverse_transformed\u001b[0m\u001b[0;34m(\u001b[0m\u001b[0mtransData\u001b[0m\u001b[0;34m)\u001b[0m\u001b[0;34m\u001b[0m\u001b[0m\n\u001b[1;32m    211\u001b[0m         \u001b[0;32melse\u001b[0m\u001b[0;34m:\u001b[0m\u001b[0;34m\u001b[0m\u001b[0m\n",
      "\u001b[0;32m/home/user/.local/lib/python2.7/site-packages/matplotlib/path.pyc\u001b[0m in \u001b[0;36mget_path_collection_extents\u001b[0;34m(master_transform, paths, transforms, offsets, offset_transform)\u001b[0m\n\u001b[1;32m   1007\u001b[0m     return Bbox.from_extents(*_path.get_path_collection_extents(\n\u001b[1;32m   1008\u001b[0m         \u001b[0mmaster_transform\u001b[0m\u001b[0;34m,\u001b[0m \u001b[0mpaths\u001b[0m\u001b[0;34m,\u001b[0m \u001b[0mnp\u001b[0m\u001b[0;34m.\u001b[0m\u001b[0matleast_3d\u001b[0m\u001b[0;34m(\u001b[0m\u001b[0mtransforms\u001b[0m\u001b[0;34m)\u001b[0m\u001b[0;34m,\u001b[0m\u001b[0;34m\u001b[0m\u001b[0m\n\u001b[0;32m-> 1009\u001b[0;31m         offsets, offset_transform))\n\u001b[0m\u001b[1;32m   1010\u001b[0m \u001b[0;34m\u001b[0m\u001b[0m\n\u001b[1;32m   1011\u001b[0m \u001b[0;34m\u001b[0m\u001b[0m\n",
      "\u001b[0;32m/home/user/.local/lib/python2.7/site-packages/matplotlib/path.pyc\u001b[0m in \u001b[0;36mvertices\u001b[0;34m(self)\u001b[0m\n\u001b[1;32m    206\u001b[0m         \u001b[0mself\u001b[0m\u001b[0;34m.\u001b[0m\u001b[0m_has_nonfinite\u001b[0m \u001b[0;34m=\u001b[0m \u001b[0;32mnot\u001b[0m \u001b[0mnp\u001b[0m\u001b[0;34m.\u001b[0m\u001b[0misfinite\u001b[0m\u001b[0;34m(\u001b[0m\u001b[0mself\u001b[0m\u001b[0;34m.\u001b[0m\u001b[0m_vertices\u001b[0m\u001b[0;34m)\u001b[0m\u001b[0;34m.\u001b[0m\u001b[0mall\u001b[0m\u001b[0;34m(\u001b[0m\u001b[0;34m)\u001b[0m\u001b[0;34m\u001b[0m\u001b[0m\n\u001b[1;32m    207\u001b[0m \u001b[0;34m\u001b[0m\u001b[0m\n\u001b[0;32m--> 208\u001b[0;31m     \u001b[0;34m@\u001b[0m\u001b[0mproperty\u001b[0m\u001b[0;34m\u001b[0m\u001b[0m\n\u001b[0m\u001b[1;32m    209\u001b[0m     \u001b[0;32mdef\u001b[0m \u001b[0mvertices\u001b[0m\u001b[0;34m(\u001b[0m\u001b[0mself\u001b[0m\u001b[0;34m)\u001b[0m\u001b[0;34m:\u001b[0m\u001b[0;34m\u001b[0m\u001b[0m\n\u001b[1;32m    210\u001b[0m         \"\"\"\n",
      "\u001b[0;31mKeyboardInterrupt\u001b[0m: "
     ]
    }
   ],
   "source": [
    "# This is interesting for comparing lambda 1, 2, 3 and we expect them to be correlated really \n",
    "scatter_matrix(df_features.iloc[:,1:4], figsize=(12,8)), \n",
    "plt.savefig(IMAGE_FILE_PATH+'/Scattermatrix_10NN_l1l2l3.png')\n",
    "plt.show();"
   ]
  },
  {
   "cell_type": "markdown",
   "metadata": {},
   "source": [
    "## Check class distribution \n",
    "\n",
    "Classes:\n",
    "    \n",
    "1: Road - 2: Sidewalk - 3: Curb - 4: Building - 5: Other pole-like objects etc\n",
    "\n"
   ]
  },
  {
   "cell_type": "code",
   "execution_count": 51,
   "metadata": {},
   "outputs": [],
   "source": [
    "# Delete the datadrame \n",
    "df = None"
   ]
  },
  {
   "cell_type": "code",
   "execution_count": 52,
   "metadata": {},
   "outputs": [
    {
     "data": {
      "image/png": "[encoded data removed]",
      "text/plain": [
       "<Figure size 864x864 with 1 Axes>"
      ]
     },
     "metadata": {},
     "output_type": "display_data"
    }
   ],
   "source": [
    "fig = plt.figure(figsize=(12,12))\n",
    "df_features['class'].value_counts().plot(kind='bar', logy=True, title=\"Histogram of revised classes (logarithmic)\"), plt.show();\n",
    "# Save the full figure...\n",
    "fig.savefig(IMAGE_FILE_PATH+'/Histo_classes.png')"
   ]
  },
  {
   "cell_type": "markdown",
   "metadata": {},
   "source": [
    "# Now part for all datasets \n",
    "Until here, was only for prep and text"
   ]
  },
  {
   "cell_type": "markdown",
   "metadata": {},
   "source": [
    "## Create a test set of data \n",
    "\n",
    "Create test set for later \n",
    "\n",
    "1) Just take 20% of all data, but I will use stratified sampling which is more representative \n",
    "\n",
    "Take the df_features dataset, it has classes and features and we stratify with respect to classes\n"
   ]
  },
  {
   "cell_type": "code",
   "execution_count": 53,
   "metadata": {},
   "outputs": [],
   "source": [
    "from sklearn.model_selection import StratifiedShuffleSplit"
   ]
  },
  {
   "cell_type": "code",
   "execution_count": 54,
   "metadata": {},
   "outputs": [
    {
     "data": {
      "text/html": [
       "<div>\n",
       "<style scoped>\n",
       "    .dataframe tbody tr th:only-of-type {\n",
       "        vertical-align: middle;\n",
       "    }\n",
       "\n",
       "    .dataframe tbody tr th {\n",
       "        vertical-align: top;\n",
       "    }\n",
       "\n",
       "    .dataframe thead th {\n",
       "        text-align: right;\n",
       "    }\n",
       "</style>\n",
       "<table border=\"1\" class=\"dataframe\">\n",
       "  <thead>\n",
       "    <tr style=\"text-align: right;\">\n",
       "      <th></th>\n",
       "      <th>class</th>\n",
       "      <th>lambda1</th>\n",
       "      <th>lambda2</th>\n",
       "      <th>lambda3</th>\n",
       "      <th>lambda4</th>\n",
       "      <th>lambda5</th>\n",
       "      <th>lambda6</th>\n",
       "      <th>lambda7</th>\n",
       "      <th>lambda8</th>\n",
       "      <th>local_density</th>\n",
       "      <th>relative_height</th>\n",
       "      <th>verticality</th>\n",
       "    </tr>\n",
       "  </thead>\n",
       "  <tbody>\n",
       "    <tr>\n",
       "      <th>0</th>\n",
       "      <td>1.0</td>\n",
       "      <td>0.102637</td>\n",
       "      <td>0.896414</td>\n",
       "      <td>0.000949</td>\n",
       "      <td>0.000250</td>\n",
       "      <td>0.999051</td>\n",
       "      <td>0.030035</td>\n",
       "      <td>0.005013</td>\n",
       "      <td>0.000500</td>\n",
       "      <td>2939.715359</td>\n",
       "      <td>-2.497189</td>\n",
       "      <td>0.000847</td>\n",
       "    </tr>\n",
       "    <tr>\n",
       "      <th>1</th>\n",
       "      <td>1.0</td>\n",
       "      <td>0.090709</td>\n",
       "      <td>0.908312</td>\n",
       "      <td>0.000979</td>\n",
       "      <td>0.000255</td>\n",
       "      <td>0.999021</td>\n",
       "      <td>0.030308</td>\n",
       "      <td>0.005067</td>\n",
       "      <td>0.000512</td>\n",
       "      <td>3304.676763</td>\n",
       "      <td>-2.498982</td>\n",
       "      <td>0.000847</td>\n",
       "    </tr>\n",
       "    <tr>\n",
       "      <th>2</th>\n",
       "      <td>1.0</td>\n",
       "      <td>0.124330</td>\n",
       "      <td>0.874710</td>\n",
       "      <td>0.000960</td>\n",
       "      <td>0.000248</td>\n",
       "      <td>0.999040</td>\n",
       "      <td>0.029584</td>\n",
       "      <td>0.004924</td>\n",
       "      <td>0.000512</td>\n",
       "      <td>3681.928229</td>\n",
       "      <td>-2.498448</td>\n",
       "      <td>0.000847</td>\n",
       "    </tr>\n",
       "    <tr>\n",
       "      <th>3</th>\n",
       "      <td>1.0</td>\n",
       "      <td>0.180508</td>\n",
       "      <td>0.818550</td>\n",
       "      <td>0.000941</td>\n",
       "      <td>0.000248</td>\n",
       "      <td>0.999059</td>\n",
       "      <td>0.029577</td>\n",
       "      <td>0.004925</td>\n",
       "      <td>0.000517</td>\n",
       "      <td>4059.958026</td>\n",
       "      <td>-2.500576</td>\n",
       "      <td>0.000847</td>\n",
       "    </tr>\n",
       "    <tr>\n",
       "      <th>4</th>\n",
       "      <td>1.0</td>\n",
       "      <td>0.220828</td>\n",
       "      <td>0.778263</td>\n",
       "      <td>0.000909</td>\n",
       "      <td>0.000249</td>\n",
       "      <td>0.999091</td>\n",
       "      <td>0.029796</td>\n",
       "      <td>0.004971</td>\n",
       "      <td>0.000511</td>\n",
       "      <td>4672.880330</td>\n",
       "      <td>-2.500191</td>\n",
       "      <td>0.000902</td>\n",
       "    </tr>\n",
       "  </tbody>\n",
       "</table>\n",
       "</div>"
      ],
      "text/plain": [
       "   class   lambda1   lambda2   lambda3   lambda4   lambda5   lambda6  \\\n",
       "0    1.0  0.102637  0.896414  0.000949  0.000250  0.999051  0.030035   \n",
       "1    1.0  0.090709  0.908312  0.000979  0.000255  0.999021  0.030308   \n",
       "2    1.0  0.124330  0.874710  0.000960  0.000248  0.999040  0.029584   \n",
       "3    1.0  0.180508  0.818550  0.000941  0.000248  0.999059  0.029577   \n",
       "4    1.0  0.220828  0.778263  0.000909  0.000249  0.999091  0.029796   \n",
       "\n",
       "    lambda7   lambda8  local_density  relative_height  verticality  \n",
       "0  0.005013  0.000500    2939.715359        -2.497189     0.000847  \n",
       "1  0.005067  0.000512    3304.676763        -2.498982     0.000847  \n",
       "2  0.004924  0.000512    3681.928229        -2.498448     0.000847  \n",
       "3  0.004925  0.000517    4059.958026        -2.500576     0.000847  \n",
       "4  0.004971  0.000511    4672.880330        -2.500191     0.000902  "
      ]
     },
     "execution_count": 54,
     "metadata": {},
     "output_type": "execute_result"
    }
   ],
   "source": [
    "# Convert the two columns ID and CLASS into integer values\n",
    "df_features = df_features.astype({\"class\": 'float64'})\n",
    "df_features.head()"
   ]
  },
  {
   "cell_type": "code",
   "execution_count": 57,
   "metadata": {},
   "outputs": [
    {
     "name": "stdout",
     "output_type": "stream",
     "text": [
      "(11052294, 12)\n",
      "(11052294, 11)\n",
      "(11052294,)\n",
      "11.0\n"
     ]
    }
   ],
   "source": [
    "data = df_features.values\n",
    "X = data[:,1:]\n",
    "y = data[:,0]\n",
    "print data.shape\n",
    "print X.shape\n",
    "print y.shape\n",
    "print max(y)"
   ]
  },
  {
   "cell_type": "code",
   "execution_count": 58,
   "metadata": {},
   "outputs": [],
   "source": [
    "split = StratifiedShuffleSplit(n_splits=10, test_size=0.2, random_state=42)\n",
    "for train_index, test_index in split.split(X, y):\n",
    "    # Do that here\n",
    "    X_train, X_test = X[train_index], X[test_index]\n",
    "    y_train, y_test = y[train_index], y[test_index]"
   ]
  },
  {
   "cell_type": "code",
   "execution_count": 59,
   "metadata": {},
   "outputs": [
    {
     "name": "stdout",
     "output_type": "stream",
     "text": [
      "Size X training data (8841835, 11)\n",
      "Size y training data (8841835,)\n",
      "Size X testing data (2210459, 11)\n",
      "Size y testing data (2210459, 11)\n"
     ]
    }
   ],
   "source": [
    "print \"Size X training data\", X_train.shape\n",
    "print \"Size y training data\", y_train.shape\n",
    "print \"Size X testing data\", X_test.shape\n",
    "print \"Size y testing data\", X_test.shape"
   ]
  },
  {
   "cell_type": "code",
   "execution_count": 75,
   "metadata": {},
   "outputs": [],
   "source": [
    "# Save all my data as NUMPY arrays\n",
    "# To load them later\n",
    "# np.loadtxt()\n",
    "np.savetxt(FILE_PATH+'/y_train_100NN.txt', y_train, delimiter=',')\n",
    "np.savetxt(FILE_PATH+'/y_test_100NN.txt', y_test, delimiter=',')\n",
    "np.savetxt(FILE_PATH+'/X_train_100NN.txt', X_train, delimiter=',')\n",
    "np.savetxt(FILE_PATH+'/X_test_100NN.txt', X_test, delimiter=',')"
   ]
  },
  {
   "cell_type": "code",
   "execution_count": 76,
   "metadata": {},
   "outputs": [],
   "source": [
    "# Compute correlation matrices to show dependencies\n",
    "corr_matrix = df_features.corr()\n",
    "corr_matrix.to_csv(FILE_PATH+'/corr_matrix_100NN.txt', index= True)"
   ]
  },
  {
   "cell_type": "code",
   "execution_count": 79,
   "metadata": {},
   "outputs": [],
   "source": [
    "# Clean variables I domnt need right now\n",
    "\n",
    "df = None\n",
    "corr_matrix = None\n",
    "X = None\n",
    "y = None\n",
    "data = None "
   ]
  },
  {
   "cell_type": "code",
   "execution_count": null,
   "metadata": {},
   "outputs": [],
   "source": []
  }
 ],
 "metadata": {
  "kernelspec": {
   "display_name": "Python 2",
   "language": "python",
   "name": "python2"
  },
  "language_info": {
   "codemirror_mode": {
    "name": "ipython",
    "version": 2
   },
   "file_extension": ".py",
   "mimetype": "text/x-python",
   "name": "python",
   "nbconvert_exporter": "python",
   "pygments_lexer": "ipython2",
   "version": "2.7.15rc1"
  }
 },
 "nbformat": 4,
 "nbformat_minor": 2
}
