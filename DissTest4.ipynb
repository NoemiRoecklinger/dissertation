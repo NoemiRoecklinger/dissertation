{
 "cells": [
  {
   "cell_type": "code",
   "execution_count": 261,
   "metadata": {},
   "outputs": [],
   "source": [
    "# This is my file to run first ML on my actual dataset"
   ]
  },
  {
   "cell_type": "markdown",
   "metadata": {},
   "source": [
    "## Prepare the data \n",
    "Read in the file\n",
    "\n",
    "File format: \n",
    "x | y | z | label \n",
    "This should be prepared beforehand as this code only runs like that. No ID given or considered. \n",
    "\n",
    "(Note: I cannot read in the whole data set for whatever reason, it cannot see it even it is in the same directory)"
   ]
  },
  {
   "cell_type": "code",
   "execution_count": 262,
   "metadata": {},
   "outputs": [],
   "source": [
    "import pandas as pd\n",
    "import os\n",
    "import numpy as np\n",
    "import sklearn \n",
    "import matplotlib.pyplot as plt\n",
    "import scipy.linalg as scplinag\n",
    "from sklearn.neighbors import KDTree"
   ]
  },
  {
   "cell_type": "code",
   "execution_count": 263,
   "metadata": {},
   "outputs": [
    {
     "data": {
      "text/html": [
       "<div>\n",
       "<style scoped>\n",
       "    .dataframe tbody tr th:only-of-type {\n",
       "        vertical-align: middle;\n",
       "    }\n",
       "\n",
       "    .dataframe tbody tr th {\n",
       "        vertical-align: top;\n",
       "    }\n",
       "\n",
       "    .dataframe thead th {\n",
       "        text-align: right;\n",
       "    }\n",
       "</style>\n",
       "<table border=\"1\" class=\"dataframe\">\n",
       "  <thead>\n",
       "    <tr style=\"text-align: right;\">\n",
       "      <th></th>\n",
       "      <th>//X</th>\n",
       "      <th>Y</th>\n",
       "      <th>Z</th>\n",
       "      <th>class</th>\n",
       "    </tr>\n",
       "  </thead>\n",
       "  <tbody>\n",
       "    <tr>\n",
       "      <th>0</th>\n",
       "      <td>1903.382935</td>\n",
       "      <td>21122.49023</td>\n",
       "      <td>38.991180</td>\n",
       "      <td>303040192</td>\n",
       "    </tr>\n",
       "    <tr>\n",
       "      <th>1</th>\n",
       "      <td>1903.404541</td>\n",
       "      <td>21122.48633</td>\n",
       "      <td>38.990284</td>\n",
       "      <td>303040192</td>\n",
       "    </tr>\n",
       "    <tr>\n",
       "      <th>2</th>\n",
       "      <td>1903.428223</td>\n",
       "      <td>21122.48047</td>\n",
       "      <td>38.990547</td>\n",
       "      <td>303040192</td>\n",
       "    </tr>\n",
       "    <tr>\n",
       "      <th>3</th>\n",
       "      <td>1903.451538</td>\n",
       "      <td>21122.47656</td>\n",
       "      <td>38.991211</td>\n",
       "      <td>303040192</td>\n",
       "    </tr>\n",
       "    <tr>\n",
       "      <th>4</th>\n",
       "      <td>1903.474854</td>\n",
       "      <td>21122.47070</td>\n",
       "      <td>38.991467</td>\n",
       "      <td>303040192</td>\n",
       "    </tr>\n",
       "  </tbody>\n",
       "</table>\n",
       "</div>"
      ],
      "text/plain": [
       "           //X            Y          Z      class\n",
       "0  1903.382935  21122.49023  38.991180  303040192\n",
       "1  1903.404541  21122.48633  38.990284  303040192\n",
       "2  1903.428223  21122.48047  38.990547  303040192\n",
       "3  1903.451538  21122.47656  38.991211  303040192\n",
       "4  1903.474854  21122.47070  38.991467  303040192"
      ]
     },
     "execution_count": 263,
     "metadata": {},
     "output_type": "execute_result"
    }
   ],
   "source": [
    "# Define a data frame with all my data\n",
    "FILE_PATH = r\"../DATA\"\n",
    "FILE_NAME_SUBSET = r\"/dataset_ML_CL_subset_1.csv\"\n",
    "FILE_NAME_FULL = r\"/Cassette_GT.txt\"\n",
    "df = pd.read_csv(FILE_PATH+FILE_NAME_SUBSET, delimiter=',')\n",
    "# df = pd.read_fwf(\"../DATA/Cassette_GT.txt\")\n",
    "df.head()"
   ]
  },
  {
   "cell_type": "code",
   "execution_count": 264,
   "metadata": {},
   "outputs": [],
   "source": [
    "# Rename the column \n",
    "df = df.rename(index=str, columns={\"//X\": \"X\"})"
   ]
  },
  {
   "cell_type": "code",
   "execution_count": 265,
   "metadata": {},
   "outputs": [
    {
     "data": {
      "text/plain": [
       "Index([u'X', u'Y', u'Z', u'class'], dtype='object')"
      ]
     },
     "execution_count": 265,
     "metadata": {},
     "output_type": "execute_result"
    }
   ],
   "source": [
    "# Shows me the column headers\n",
    "df.columns"
   ]
  },
  {
   "cell_type": "code",
   "execution_count": 266,
   "metadata": {},
   "outputs": [
    {
     "name": "stdout",
     "output_type": "stream",
     "text": [
      "#rows = instances: 1048575\n"
     ]
    }
   ],
   "source": [
    "rows, cols = df.shape\n",
    "print \"#rows = instances:\", rows"
   ]
  },
  {
   "cell_type": "code",
   "execution_count": 267,
   "metadata": {},
   "outputs": [
    {
     "name": "stdout",
     "output_type": "stream",
     "text": [
      "No Nan in this data set\n"
     ]
    }
   ],
   "source": [
    "# Test whether there are any NAN values in the data set \n",
    "if df.isnull().values.any() == False:\n",
    "    print \"No Nan in this data set\""
   ]
  },
  {
   "cell_type": "markdown",
   "metadata": {},
   "source": [
    "## Now convert the dataframe into a numpy array dataset so we can work with it \n",
    "However, keep the df object for statistical analysis later "
   ]
  },
  {
   "cell_type": "code",
   "execution_count": 268,
   "metadata": {},
   "outputs": [
    {
     "data": {
      "text/plain": [
       "(1048575, 4)"
      ]
     },
     "execution_count": 268,
     "metadata": {},
     "output_type": "execute_result"
    }
   ],
   "source": [
    "# data is now a numpy ndarray with 1048575 rows and 4 cols \n",
    "data = df.values\n",
    "data.shape"
   ]
  },
  {
   "cell_type": "code",
   "execution_count": 269,
   "metadata": {},
   "outputs": [],
   "source": [
    "# Define a subset to work with for now\n",
    "# Only look at first 1000 points \n",
    "subset = data[:10000]"
   ]
  },
  {
   "cell_type": "code",
   "execution_count": 270,
   "metadata": {},
   "outputs": [],
   "source": [
    "def getColumns(data, get_label = True):\n",
    "    \"\"\"\n",
    "    INPUT: \n",
    "    data: dataset as np.array with 3 (xyz) or 4 (xyz label) attributes\n",
    "    get_label: Boolean, whether or not to extract the label as well \n",
    "    OUTPUT: \n",
    "    xyz (optional: label) as numpy.array with dim: size of dataset x 1\n",
    "    \"\"\"\n",
    "    # Get xyz values as column vectors \n",
    "    x = subset[:,0]\n",
    "    y = subset[:,1]\n",
    "    z = subset[:,2]\n",
    "    \n",
    "    if get_label == True:\n",
    "        x = subset[:,0]\n",
    "        y = subset[:,1]\n",
    "        z = subset[:,2]\n",
    "        label = subset[:,3]\n",
    "        return x,y,z,label\n",
    "    else: \n",
    "        return x,y,z"
   ]
  },
  {
   "cell_type": "code",
   "execution_count": 271,
   "metadata": {},
   "outputs": [],
   "source": [
    "# These are the column vectors\n",
    "x,y,z,label = getColumns(subset, True)\n",
    "# This is the dataset in xyz only \n",
    "dataxyz = subset[:,0:3]"
   ]
  },
  {
   "cell_type": "markdown",
   "metadata": {},
   "source": [
    "## Define all functions needed for the parameter retrieval "
   ]
  },
  {
   "cell_type": "code",
   "execution_count": 272,
   "metadata": {},
   "outputs": [],
   "source": [
    "def calcCovarianceMatrix(data):\n",
    "    \"\"\"\n",
    "    Function to compute the covariance matrix.\n",
    "    \n",
    "    Input: Dataset of 3D points; i.e. array of dimension: #points x 3 \n",
    "    Output: 3x3 covariance matrix (np.array)\n",
    "    \"\"\"\n",
    "    # Create covariance matrix and array to store the mean values for x_mean, y_mean, z_mean\n",
    "    C = np.zeros((data.shape[1], data.shape[1]))\n",
    "    mean_xyz = []\n",
    "    # Calculate all mean values\n",
    "    for i in range(0, dataxyz.shape[1]):\n",
    "        mean_xyz.append(dataxyz[:,i].mean())\n",
    "    mean_xyz = np.array(mean_xyz)\n",
    "    # Check whether dimensions agree \n",
    "    if dataxyz[:,0].size != dataxyz[:,1].size or dataxyz[:,0].size != dataxyz[:,2].size:\n",
    "        print \"X, Y and Z must be of same dimensions.\"\n",
    "    else:\n",
    "        # For each row in covariance matrix C\n",
    "        for i in range(0, C.shape[0]):\n",
    "            # For each column in covariance matrix C\n",
    "            for j in range(0, C.shape[1]):\n",
    "                C[i,j] = 0\n",
    "                # For each point in the dataset, access x, y, z-values\n",
    "                for point in dataxyz:\n",
    "                    # For each point, access x,y and z in all combinations (xx, xy, xz, yx, yy, yz etc)\n",
    "                    C[i][j] = C[i][j] + (point[i]-mean_xyz[i])*(point[j]-mean_xyz[j])\n",
    "    # Divide by the total number of points                \n",
    "    C = (1.0/dataxyz.shape[0]) * C\n",
    "    return C "
   ]
  },
  {
   "cell_type": "code",
   "execution_count": 273,
   "metadata": {},
   "outputs": [],
   "source": [
    "# Get eight parameters for each point\n",
    "\n",
    "def calcFeatureDescr(covarianceMatrix):\n",
    "    \"\"\"\n",
    "    Function to compute the 8 feature descriptors for each point.\n",
    "    \n",
    "    Input: 3x3 Covariance matrix of a point and its neighbourhood \n",
    "    \n",
    "    Output: np Array with feature descriptors as described by Weinmann et al. (1D array with 8 elements)\n",
    "    \n",
    "    \"\"\"\n",
    "    D, V = scplinag.eigh(C)\n",
    "    # We sort the array with eigenvalues by size (from smallest to largest value)\n",
    "    D.sort()\n",
    "    # Get eigenvectors\n",
    "    e1 = V[2] # eigenvector in direction of largest variance\n",
    "    e2 = V[1] # second eigenvector, perpend. to e1\n",
    "    e3 = V[0]\n",
    "    # Find the eigenvalues\n",
    "    evalue1 = D[2] # largest\n",
    "    evalue2 = D[1]\n",
    "    evalue3 = D[0] # smallest\n",
    "\n",
    "    # Linearity\n",
    "    lambda1 = (evalue1 - evalue2) / evalue1\n",
    "    # Planarity\n",
    "    lambda2 = (evalue2 - evalue3) / evalue1\n",
    "    # Scattering\n",
    "    lambda3 = evalue3 / evalue1\n",
    "    # Omnivariance\n",
    "    lambda4 = pow(evalue1*evalue2*evalue3, 1/3.0)\n",
    "    # Anisotropy\n",
    "    lambda5 = (evalue1 - evalue3) / evalue1\n",
    "    # Eigentropy\n",
    "    s = 0\n",
    "    for elem in D:\n",
    "        s = s + (elem*np.log(elem))\n",
    "    lambda6 = (-1)*s  \n",
    "    # Sum of eigenvalues\n",
    "    lambda7 = sum(D)\n",
    "    # Change of curvature\n",
    "    lambda8 = evalue3/sum(D) \n",
    "    \n",
    "    featureDescriptor = np.array([lambda1, lambda2, lambda3, lambda4, lambda5, lambda6, lambda7, lambda8])\n",
    "    return featureDescriptor"
   ]
  },
  {
   "cell_type": "markdown",
   "metadata": {},
   "source": [
    "## Compute features"
   ]
  },
  {
   "cell_type": "code",
   "execution_count": null,
   "metadata": {},
   "outputs": [],
   "source": []
  },
  {
   "cell_type": "code",
   "execution_count": 275,
   "metadata": {},
   "outputs": [],
   "source": [
    "# For all points now \n",
    "# Create kd-tree\n",
    "kdt = KDTree(dataxyz, leaf_size=30, metric='euclidean')\n",
    "# Get list with indices, the first value is always the point itself\n",
    "idx_list = kdt.query(dataxyz, k=100, return_distance=False)\n",
    "store = []\n",
    "for j in range(0, dataxyz.shape[0]):\n",
    "    # Look at all points now\n",
    "    neighbourhood = []\n",
    "    for i in idx_list[j]:\n",
    "        neighbourhood.append(dataxyz[i])\n",
    "    neighbourhood = np.array(neighbourhood)\n",
    "    # Everything we did before with dataset, we do now with the neighbourhood only\n",
    "    C = calcCovarianceMatrix(neighbourhood)\n",
    "    feat = calcFeatureDescr(C)\n",
    "    row_with_additional_col = np.append(dataxyz[j], feat)\n",
    "    store.append(row_with_additional_col)\n",
    "store = np.array(store)"
   ]
  },
  {
   "cell_type": "code",
   "execution_count": 276,
   "metadata": {},
   "outputs": [
    {
     "data": {
      "text/plain": [
       "(10000, 11)"
      ]
     },
     "execution_count": 276,
     "metadata": {},
     "output_type": "execute_result"
    }
   ],
   "source": [
    "store.shape"
   ]
  },
  {
   "cell_type": "markdown",
   "metadata": {},
   "source": [
    "## Analyse and export features \n",
    "Convert the 8 features I just created into dataframe in pandas to analyse them better "
   ]
  },
  {
   "cell_type": "code",
   "execution_count": 277,
   "metadata": {},
   "outputs": [
    {
     "data": {
      "text/html": [
       "<div>\n",
       "<style scoped>\n",
       "    .dataframe tbody tr th:only-of-type {\n",
       "        vertical-align: middle;\n",
       "    }\n",
       "\n",
       "    .dataframe tbody tr th {\n",
       "        vertical-align: top;\n",
       "    }\n",
       "\n",
       "    .dataframe thead th {\n",
       "        text-align: right;\n",
       "    }\n",
       "</style>\n",
       "<table border=\"1\" class=\"dataframe\">\n",
       "  <thead>\n",
       "    <tr style=\"text-align: right;\">\n",
       "      <th></th>\n",
       "      <th>X</th>\n",
       "      <th>Y</th>\n",
       "      <th>Z</th>\n",
       "      <th>lambda1</th>\n",
       "      <th>lambda2</th>\n",
       "      <th>lambda3</th>\n",
       "      <th>lambda4</th>\n",
       "      <th>lambda5</th>\n",
       "      <th>lambda6</th>\n",
       "      <th>lambda7</th>\n",
       "      <th>lambda8</th>\n",
       "    </tr>\n",
       "  </thead>\n",
       "  <tbody>\n",
       "    <tr>\n",
       "      <th>0</th>\n",
       "      <td>1903.382935</td>\n",
       "      <td>21122.49023</td>\n",
       "      <td>38.991180</td>\n",
       "      <td>0.604788</td>\n",
       "      <td>0.395171</td>\n",
       "      <td>0.000041</td>\n",
       "      <td>2.054374</td>\n",
       "      <td>0.999959</td>\n",
       "      <td>-467.976464</td>\n",
       "      <td>113.227327</td>\n",
       "      <td>0.000029</td>\n",
       "    </tr>\n",
       "    <tr>\n",
       "      <th>1</th>\n",
       "      <td>1903.404541</td>\n",
       "      <td>21122.48633</td>\n",
       "      <td>38.990284</td>\n",
       "      <td>0.604788</td>\n",
       "      <td>0.395171</td>\n",
       "      <td>0.000041</td>\n",
       "      <td>2.054374</td>\n",
       "      <td>0.999959</td>\n",
       "      <td>-467.976464</td>\n",
       "      <td>113.227327</td>\n",
       "      <td>0.000029</td>\n",
       "    </tr>\n",
       "    <tr>\n",
       "      <th>2</th>\n",
       "      <td>1903.428223</td>\n",
       "      <td>21122.48047</td>\n",
       "      <td>38.990547</td>\n",
       "      <td>0.604788</td>\n",
       "      <td>0.395171</td>\n",
       "      <td>0.000041</td>\n",
       "      <td>2.054374</td>\n",
       "      <td>0.999959</td>\n",
       "      <td>-467.976464</td>\n",
       "      <td>113.227327</td>\n",
       "      <td>0.000029</td>\n",
       "    </tr>\n",
       "    <tr>\n",
       "      <th>3</th>\n",
       "      <td>1903.451538</td>\n",
       "      <td>21122.47656</td>\n",
       "      <td>38.991211</td>\n",
       "      <td>0.604788</td>\n",
       "      <td>0.395171</td>\n",
       "      <td>0.000041</td>\n",
       "      <td>2.054374</td>\n",
       "      <td>0.999959</td>\n",
       "      <td>-467.976464</td>\n",
       "      <td>113.227327</td>\n",
       "      <td>0.000029</td>\n",
       "    </tr>\n",
       "    <tr>\n",
       "      <th>4</th>\n",
       "      <td>1903.474854</td>\n",
       "      <td>21122.47070</td>\n",
       "      <td>38.991467</td>\n",
       "      <td>0.604788</td>\n",
       "      <td>0.395171</td>\n",
       "      <td>0.000041</td>\n",
       "      <td>2.054374</td>\n",
       "      <td>0.999959</td>\n",
       "      <td>-467.976464</td>\n",
       "      <td>113.227327</td>\n",
       "      <td>0.000029</td>\n",
       "    </tr>\n",
       "  </tbody>\n",
       "</table>\n",
       "</div>"
      ],
      "text/plain": [
       "             X            Y          Z   lambda1   lambda2   lambda3  \\\n",
       "0  1903.382935  21122.49023  38.991180  0.604788  0.395171  0.000041   \n",
       "1  1903.404541  21122.48633  38.990284  0.604788  0.395171  0.000041   \n",
       "2  1903.428223  21122.48047  38.990547  0.604788  0.395171  0.000041   \n",
       "3  1903.451538  21122.47656  38.991211  0.604788  0.395171  0.000041   \n",
       "4  1903.474854  21122.47070  38.991467  0.604788  0.395171  0.000041   \n",
       "\n",
       "    lambda4   lambda5     lambda6     lambda7   lambda8  \n",
       "0  2.054374  0.999959 -467.976464  113.227327  0.000029  \n",
       "1  2.054374  0.999959 -467.976464  113.227327  0.000029  \n",
       "2  2.054374  0.999959 -467.976464  113.227327  0.000029  \n",
       "3  2.054374  0.999959 -467.976464  113.227327  0.000029  \n",
       "4  2.054374  0.999959 -467.976464  113.227327  0.000029  "
      ]
     },
     "execution_count": 277,
     "metadata": {},
     "output_type": "execute_result"
    }
   ],
   "source": [
    "# Create a data frame with the calculated features \n",
    "df2 = pd.DataFrame({\n",
    "    'X': store[:,0],\n",
    "    'Y': store[:,1],\n",
    "    'Z': store[:,2],\n",
    "    'lambda1': store[:,3],\n",
    "    'lambda2': store[:,4],\n",
    "    'lambda3': store[:,5],\n",
    "    'lambda4': store[:,6],\n",
    "    'lambda5': store[:,7],\n",
    "    'lambda6': store[:,8],\n",
    "    'lambda7': store[:,9],\n",
    "    'lambda8': store[:,10]\n",
    "})\n",
    "df2.head()"
   ]
  },
  {
   "cell_type": "code",
   "execution_count": 278,
   "metadata": {},
   "outputs": [],
   "source": [
    "df2.to_csv(FILE_PATH+'/dataset_ML_CL_subset_1_prep.csv')"
   ]
  },
  {
   "cell_type": "code",
   "execution_count": 279,
   "metadata": {},
   "outputs": [],
   "source": [
    "# Also create a df where I add a label to the table \n",
    "df2['class'] = label.astype(int)"
   ]
  },
  {
   "cell_type": "code",
   "execution_count": 280,
   "metadata": {},
   "outputs": [
    {
     "data": {
      "text/html": [
       "<div>\n",
       "<style scoped>\n",
       "    .dataframe tbody tr th:only-of-type {\n",
       "        vertical-align: middle;\n",
       "    }\n",
       "\n",
       "    .dataframe tbody tr th {\n",
       "        vertical-align: top;\n",
       "    }\n",
       "\n",
       "    .dataframe thead th {\n",
       "        text-align: right;\n",
       "    }\n",
       "</style>\n",
       "<table border=\"1\" class=\"dataframe\">\n",
       "  <thead>\n",
       "    <tr style=\"text-align: right;\">\n",
       "      <th></th>\n",
       "      <th>X</th>\n",
       "      <th>Y</th>\n",
       "      <th>Z</th>\n",
       "      <th>lambda1</th>\n",
       "      <th>lambda2</th>\n",
       "      <th>lambda3</th>\n",
       "      <th>lambda4</th>\n",
       "      <th>lambda5</th>\n",
       "      <th>lambda6</th>\n",
       "      <th>lambda7</th>\n",
       "      <th>lambda8</th>\n",
       "      <th>class</th>\n",
       "    </tr>\n",
       "  </thead>\n",
       "  <tbody>\n",
       "    <tr>\n",
       "      <th>0</th>\n",
       "      <td>1903.382935</td>\n",
       "      <td>21122.49023</td>\n",
       "      <td>38.991180</td>\n",
       "      <td>0.604788</td>\n",
       "      <td>0.395171</td>\n",
       "      <td>0.000041</td>\n",
       "      <td>2.054374</td>\n",
       "      <td>0.999959</td>\n",
       "      <td>-467.976464</td>\n",
       "      <td>113.227327</td>\n",
       "      <td>0.000029</td>\n",
       "      <td>303040192</td>\n",
       "    </tr>\n",
       "    <tr>\n",
       "      <th>1</th>\n",
       "      <td>1903.404541</td>\n",
       "      <td>21122.48633</td>\n",
       "      <td>38.990284</td>\n",
       "      <td>0.604788</td>\n",
       "      <td>0.395171</td>\n",
       "      <td>0.000041</td>\n",
       "      <td>2.054374</td>\n",
       "      <td>0.999959</td>\n",
       "      <td>-467.976464</td>\n",
       "      <td>113.227327</td>\n",
       "      <td>0.000029</td>\n",
       "      <td>303040192</td>\n",
       "    </tr>\n",
       "    <tr>\n",
       "      <th>2</th>\n",
       "      <td>1903.428223</td>\n",
       "      <td>21122.48047</td>\n",
       "      <td>38.990547</td>\n",
       "      <td>0.604788</td>\n",
       "      <td>0.395171</td>\n",
       "      <td>0.000041</td>\n",
       "      <td>2.054374</td>\n",
       "      <td>0.999959</td>\n",
       "      <td>-467.976464</td>\n",
       "      <td>113.227327</td>\n",
       "      <td>0.000029</td>\n",
       "      <td>303040192</td>\n",
       "    </tr>\n",
       "    <tr>\n",
       "      <th>3</th>\n",
       "      <td>1903.451538</td>\n",
       "      <td>21122.47656</td>\n",
       "      <td>38.991211</td>\n",
       "      <td>0.604788</td>\n",
       "      <td>0.395171</td>\n",
       "      <td>0.000041</td>\n",
       "      <td>2.054374</td>\n",
       "      <td>0.999959</td>\n",
       "      <td>-467.976464</td>\n",
       "      <td>113.227327</td>\n",
       "      <td>0.000029</td>\n",
       "      <td>303040192</td>\n",
       "    </tr>\n",
       "    <tr>\n",
       "      <th>4</th>\n",
       "      <td>1903.474854</td>\n",
       "      <td>21122.47070</td>\n",
       "      <td>38.991467</td>\n",
       "      <td>0.604788</td>\n",
       "      <td>0.395171</td>\n",
       "      <td>0.000041</td>\n",
       "      <td>2.054374</td>\n",
       "      <td>0.999959</td>\n",
       "      <td>-467.976464</td>\n",
       "      <td>113.227327</td>\n",
       "      <td>0.000029</td>\n",
       "      <td>303040192</td>\n",
       "    </tr>\n",
       "  </tbody>\n",
       "</table>\n",
       "</div>"
      ],
      "text/plain": [
       "             X            Y          Z   lambda1   lambda2   lambda3  \\\n",
       "0  1903.382935  21122.49023  38.991180  0.604788  0.395171  0.000041   \n",
       "1  1903.404541  21122.48633  38.990284  0.604788  0.395171  0.000041   \n",
       "2  1903.428223  21122.48047  38.990547  0.604788  0.395171  0.000041   \n",
       "3  1903.451538  21122.47656  38.991211  0.604788  0.395171  0.000041   \n",
       "4  1903.474854  21122.47070  38.991467  0.604788  0.395171  0.000041   \n",
       "\n",
       "    lambda4   lambda5     lambda6     lambda7   lambda8      class  \n",
       "0  2.054374  0.999959 -467.976464  113.227327  0.000029  303040192  \n",
       "1  2.054374  0.999959 -467.976464  113.227327  0.000029  303040192  \n",
       "2  2.054374  0.999959 -467.976464  113.227327  0.000029  303040192  \n",
       "3  2.054374  0.999959 -467.976464  113.227327  0.000029  303040192  \n",
       "4  2.054374  0.999959 -467.976464  113.227327  0.000029  303040192  "
      ]
     },
     "execution_count": 280,
     "metadata": {},
     "output_type": "execute_result"
    }
   ],
   "source": [
    "df2.head()"
   ]
  },
  {
   "cell_type": "code",
   "execution_count": 281,
   "metadata": {},
   "outputs": [],
   "source": [
    "df2.to_csv(FILE_PATH+'/dataset_ML_CL_subset_1_prep_class.csv')"
   ]
  },
  {
   "cell_type": "code",
   "execution_count": 307,
   "metadata": {},
   "outputs": [],
   "source": [
    "# Create a data frame with the calculated features \n",
    "df3 = pd.DataFrame({\n",
    "    'lambda1': store[:,3],\n",
    "    'lambda2': store[:,4],\n",
    "    'lambda3': store[:,5],\n",
    "    'lambda4': store[:,6],\n",
    "    'lambda5': store[:,7],\n",
    "    'lambda6': store[:,8],\n",
    "    'lambda7': store[:,9],\n",
    "    'lambda8': store[:,10]\n",
    "})\n",
    "df3['class'] = label.astype(int)\n",
    "df3.head()\n",
    "df3.to_csv(FILE_PATH+'/dataset_ML_CL_subset_1_prep_class_noxyz.csv')"
   ]
  },
  {
   "cell_type": "code",
   "execution_count": 303,
   "metadata": {},
   "outputs": [
    {
     "data": {
      "text/plain": [
       "203000000    4744\n",
       "202020000    4025\n",
       "303040192    1110\n",
       "202030000      84\n",
       "202040000      37\n",
       "Name: class, dtype: int64"
      ]
     },
     "execution_count": 303,
     "metadata": {},
     "output_type": "execute_result"
    }
   ],
   "source": [
    "# Tells me how many differnt classes are present in the subset I chose \n",
    "df2['class'].value_counts()"
   ]
  },
  {
   "cell_type": "markdown",
   "metadata": {},
   "source": [
    "## Summary so far \n",
    "Steps: \n",
    "1) Read data in\n",
    "2) prepare data: subset, columns \n",
    "3) convert to numpy\n",
    "4) Get features\n",
    "**Note: here only for 100 points so far (from a subset anyway, this is not the whole data file)**\n",
    "\n",
    "For the ML part now, work with: \n",
    "**Dataframes:** df2 either with class or without \n",
    "**Numpy array data:** store"
   ]
  },
  {
   "cell_type": "markdown",
   "metadata": {},
   "source": [
    "## ML Part \n",
    "From here on, try ML "
   ]
  },
  {
   "cell_type": "code",
   "execution_count": 283,
   "metadata": {},
   "outputs": [],
   "source": [
    "# Just rename it for more convenience\n",
    "# This is the data with xyz + 8 features + class (last entry)\n",
    "data_ML = df2.values"
   ]
  },
  {
   "cell_type": "code",
   "execution_count": 284,
   "metadata": {},
   "outputs": [
    {
     "data": {
      "text/plain": [
       "(10000, 12)"
      ]
     },
     "execution_count": 284,
     "metadata": {},
     "output_type": "execute_result"
    }
   ],
   "source": [
    "data_ML.shape"
   ]
  },
  {
   "cell_type": "code",
   "execution_count": 285,
   "metadata": {},
   "outputs": [
    {
     "data": {
      "text/plain": [
       "array([ 1.90338294e+03,  2.11224902e+04,  3.89911804e+01,  6.04788148e-01,\n",
       "        3.95170802e-01,  4.10500520e-05,  2.05437416e+00,  9.99958950e-01,\n",
       "       -4.67976464e+02,  1.13227327e+02,  2.94212268e-05,  3.03040192e+08])"
      ]
     },
     "execution_count": 285,
     "metadata": {},
     "output_type": "execute_result"
    }
   ],
   "source": [
    "data_ML[0]"
   ]
  },
  {
   "cell_type": "code",
   "execution_count": 286,
   "metadata": {},
   "outputs": [],
   "source": [
    "# Function to get the number of x % of a dataset \n",
    "def getXpercentOfDataset(dataset, percent):\n",
    "    m = (dataset.shape[0]*percent)/100.0\n",
    "    n = (dataset.shape[0]*(100-percent))/100.0\n",
    "    return int(m), int(n)"
   ]
  },
  {
   "cell_type": "code",
   "execution_count": 287,
   "metadata": {},
   "outputs": [
    {
     "name": "stdout",
     "output_type": "stream",
     "text": [
      "2000 8000\n"
     ]
    }
   ],
   "source": [
    "# Stratified samppling does not work for whatever reason \n",
    "# I just use random sampling and shuffle the data \n",
    "\n",
    "m, n = getXpercentOfDataset(data_ML, 20)\n",
    "print m, n\n",
    "\n",
    "X, y = data_ML[:,3:11], data_ML[:,11:12].astype(int)\n",
    "\n",
    "X_train, X_test, y_train, y_test = X[m:], X[:m], y[m:], y[:m]\n",
    "\n",
    "shuffle_index = np.random.permutation(n)\n",
    "X_train, y_train = X_train[shuffle_index], y_train[shuffle_index]"
   ]
  },
  {
   "cell_type": "code",
   "execution_count": 288,
   "metadata": {},
   "outputs": [
    {
     "data": {
      "text/plain": [
       "(8000, 8)"
      ]
     },
     "execution_count": 288,
     "metadata": {},
     "output_type": "execute_result"
    }
   ],
   "source": [
    "X_train.shape"
   ]
  },
  {
   "cell_type": "code",
   "execution_count": 289,
   "metadata": {},
   "outputs": [
    {
     "data": {
      "text/plain": [
       "DecisionTreeClassifier(class_weight=None, criterion='gini', max_depth=None,\n",
       "            max_features=None, max_leaf_nodes=None,\n",
       "            min_impurity_decrease=0.0, min_impurity_split=None,\n",
       "            min_samples_leaf=1, min_samples_split=2,\n",
       "            min_weight_fraction_leaf=0.0, presort=False, random_state=None,\n",
       "            splitter='best')"
      ]
     },
     "execution_count": 289,
     "metadata": {},
     "output_type": "execute_result"
    }
   ],
   "source": [
    "from sklearn.tree import DecisionTreeClassifier\n",
    "clf = DecisionTreeClassifier()\n",
    "clf.fit(X_train, y_train)"
   ]
  },
  {
   "cell_type": "code",
   "execution_count": 290,
   "metadata": {},
   "outputs": [
    {
     "name": "stdout",
     "output_type": "stream",
     "text": [
      "Predicted value: [203000000]\n",
      "True label: [203000000]\n",
      "Successful\n"
     ]
    }
   ],
   "source": [
    "print \"Predicted value:\", clf.predict([X_train[50]])\n",
    "print \"True label:\", y_train[50]\n",
    "if clf.predict([X_train[50]]) == y_train[50]:\n",
    "    print \"Successful\"\n",
    "else: \n",
    "    print \"Classification failed\""
   ]
  },
  {
   "cell_type": "markdown",
   "metadata": {},
   "source": [
    "## Evaluation of my calssification result "
   ]
  },
  {
   "cell_type": "code",
   "execution_count": 291,
   "metadata": {},
   "outputs": [],
   "source": [
    "# Get the accuracy in % for a classification result\n",
    "# My function to just count the number of times I got it right \n",
    "def getAccuracy(predictions, labels):\n",
    "    \"\"\"\n",
    "    INPUT: predicted values of a classifier (test set); true labels of that test data set\n",
    "    OUTPUT: accuracy in %\n",
    "    \"\"\"\n",
    "    count = 0\n",
    "    for i in range(0, labels.shape[0]):\n",
    "        if predictions[i] == labels[i]:\n",
    "            # each time the prediction matches with the actual label, the counter goes up 1 \n",
    "            count = count + 1\n",
    "    count = float(count)\n",
    "    acc = (count/labels.shape[0])*100\n",
    "    \n",
    "    return acc"
   ]
  },
  {
   "cell_type": "code",
   "execution_count": 292,
   "metadata": {},
   "outputs": [],
   "source": [
    "p_train = clf.predict(X_train)\n",
    "p_test = clf.predict(X_test)"
   ]
  },
  {
   "cell_type": "code",
   "execution_count": 293,
   "metadata": {},
   "outputs": [
    {
     "name": "stdout",
     "output_type": "stream",
     "text": [
      "This is the accuracy for my training dataset: 49.0125 %\n",
      "This is the accuracy for my testing dataset: 41.15 %\n"
     ]
    }
   ],
   "source": [
    "# This is the accuracy for my training data set \n",
    "print \"This is the accuracy for my training dataset:\", getAccuracy(p_train, y_train), \"%\"\n",
    "print \"This is the accuracy for my testing dataset:\", getAccuracy(p_test, y_test), \"%\""
   ]
  },
  {
   "cell_type": "code",
   "execution_count": null,
   "metadata": {},
   "outputs": [],
   "source": []
  }
 ],
 "metadata": {
  "kernelspec": {
   "display_name": "Python 2",
   "language": "python",
   "name": "python2"
  },
  "language_info": {
   "codemirror_mode": {
    "name": "ipython",
    "version": 2
   },
   "file_extension": ".py",
   "mimetype": "text/x-python",
   "name": "python",
   "nbconvert_exporter": "python",
   "pygments_lexer": "ipython2",
   "version": "2.7.15rc1"
  }
 },
 "nbformat": 4,
 "nbformat_minor": 2
}
