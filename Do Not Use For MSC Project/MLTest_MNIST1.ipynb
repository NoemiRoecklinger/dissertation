{
 "cells": [
  {
   "cell_type": "markdown",
   "metadata": {
    "collapsed": true
   },
   "source": [
    "# MNIST number classification\n",
    "This is from the YT tutorial \n",
    "https://www.youtube.com/watch?v=aZsZrkIgan0"
   ]
  },
  {
   "cell_type": "code",
   "execution_count": 1,
   "metadata": {
    "collapsed": true
   },
   "outputs": [],
   "source": [
    "import os\n",
    "from six.moves import urllib\n",
    "import pandas as pd\n",
    "import matplotlib.pyplot as plt\n",
    "import numpy as np\n",
    "from sklearn.tree import DecisionTreeClassifier\n",
    "import random\n",
    "%matplotlib inline"
   ]
  },
  {
   "cell_type": "code",
   "execution_count": 2,
   "metadata": {
    "collapsed": true,
    "scrolled": true
   },
   "outputs": [],
   "source": [
    "# Read the data in \n",
    "data = pd.read_csv('datasets/mnist/mnist_train.csv')"
   ]
  },
  {
   "cell_type": "code",
   "execution_count": 3,
   "metadata": {},
   "outputs": [
    {
     "name": "stdout",
     "output_type": "stream",
     "text": [
      "<class 'pandas.core.frame.DataFrame'>\n",
      "RangeIndex: 42000 entries, 0 to 41999\n",
      "Columns: 785 entries, label to pixel783\n",
      "dtypes: int64(785)\n",
      "memory usage: 251.5 MB\n"
     ]
    }
   ],
   "source": [
    "# Check the data\n",
    "data.head() # As this is a pictures dataset, this mostly contains 0, 1 so this is not helpful here\n",
    "# But at least we see that the first column is the number (label)\n",
    "# This is the intensity for 28x28 pixels\n",
    "data.info()"
   ]
  },
  {
   "cell_type": "code",
   "execution_count": 4,
   "metadata": {
    "collapsed": true
   },
   "outputs": [],
   "source": [
    "# Split the training data set\n",
    "# Make it a 2D matrix first as it is an image\n",
    "data = data.values"
   ]
  },
  {
   "cell_type": "code",
   "execution_count": 5,
   "metadata": {},
   "outputs": [
    {
     "data": {
      "text/plain": [
       "(42000L, 785L)"
      ]
     },
     "execution_count": 5,
     "metadata": {},
     "output_type": "execute_result"
    }
   ],
   "source": [
    "data.shape\n",
    "# First is the number of images\n",
    "# second is the number of total pixels: i.e. they are given as an array rather than as a 2D image "
   ]
  },
  {
   "cell_type": "code",
   "execution_count": 6,
   "metadata": {
    "collapsed": true
   },
   "outputs": [],
   "source": [
    "# This is our training data\n",
    "xtrain = data[0:21000,1:]\n",
    "ytrain = data[0:21000,0]"
   ]
  },
  {
   "cell_type": "code",
   "execution_count": 7,
   "metadata": {
    "collapsed": true
   },
   "outputs": [],
   "source": [
    "# This is our testing data\n",
    "xtest = data[21000:,1:]\n",
    "ytest = data[21000:,0]"
   ]
  },
  {
   "cell_type": "code",
   "execution_count": 8,
   "metadata": {},
   "outputs": [
    {
     "data": {
      "text/plain": [
       "DecisionTreeClassifier(class_weight=None, criterion='gini', max_depth=None,\n",
       "            max_features=None, max_leaf_nodes=None,\n",
       "            min_impurity_decrease=0.0, min_impurity_split=None,\n",
       "            min_samples_leaf=1, min_samples_split=2,\n",
       "            min_weight_fraction_leaf=0.0, presort=False, random_state=None,\n",
       "            splitter='best')"
      ]
     },
     "execution_count": 8,
     "metadata": {},
     "output_type": "execute_result"
    }
   ],
   "source": [
    "# First, we create an empty classifier \n",
    "clf = DecisionTreeClassifier()\n",
    "clf.fit(xtrain, ytrain)"
   ]
  },
  {
   "cell_type": "code",
   "execution_count": 9,
   "metadata": {},
   "outputs": [
    {
     "data": {
      "image/png": "[encoded data removed]",
      "text/plain": [
       "<matplotlib.figure.Figure at 0xbe8ab38>"
      ]
     },
     "metadata": {},
     "output_type": "display_data"
    }
   ],
   "source": [
    "# Plotting one of the images\n",
    "d = xtest[9]\n",
    "d2 = np.reshape(d,(28,28))\n",
    "d2.shape\n",
    "plt.imshow(255-d2, cmap='gray')\n",
    "plt.show()"
   ]
  },
  {
   "cell_type": "code",
   "execution_count": 10,
   "metadata": {},
   "outputs": [
    {
     "data": {
      "text/plain": [
       "array([5], dtype=int64)"
      ]
     },
     "execution_count": 10,
     "metadata": {},
     "output_type": "execute_result"
    }
   ],
   "source": [
    "# Now we want to get a prediction for the data\n",
    "clf.predict([xtest[9]])"
   ]
  },
  {
   "cell_type": "code",
   "execution_count": 11,
   "metadata": {},
   "outputs": [
    {
     "name": "stdout",
     "output_type": "stream",
     "text": [
      "[2384, 17846, 7830, 4126, 14853, 1008, 12754, 5456, 17825]\n"
     ]
    },
    {
     "data": {
      "image/png": "[encoded data removed]",
      "text/plain": [
       "<matplotlib.figure.Figure at 0x112d3b00>"
      ]
     },
     "metadata": {},
     "output_type": "display_data"
    }
   ],
   "source": [
    "# Now have that all in the same plot\n",
    "# here: choose which numbers to predict\n",
    "idx = [1,2,3,4,5,6,7,8,9]\n",
    "\n",
    "# or we can randomly create numbers to plot\n",
    "store = []\n",
    "for i in range(0,9):\n",
    "    randelem = random.randint(1, xtest.shape[0])\n",
    "    store.append(randelem)\n",
    "print store\n",
    "idx = store\n",
    "\n",
    "plt.figure(figsize=(10,10));\n",
    "\n",
    "for count, elem in enumerate(idx):\n",
    "    test_image = xtest[elem]\n",
    "    test_image = np.reshape(test_image,(28,28))\n",
    "        \n",
    "    plt.subplot(3,3,count+1),plt.imshow(255-test_image,'gray')\n",
    "    plt.title('The predicted value is: '+str(clf.predict([xtest[elem]])))\n",
    "    plt.xticks([]),plt.yticks([])\n",
    "plt.show()\n",
    "\n"
   ]
  },
  {
   "cell_type": "markdown",
   "metadata": {
    "collapsed": true
   },
   "source": [
    "### Now we want to determine the accuracy of the classification \n",
    "Therefore, we give it the entire trainingset.\n",
    "Here, we count the number of instances where the prediction is actually the real label "
   ]
  },
  {
   "cell_type": "code",
   "execution_count": 12,
   "metadata": {
    "collapsed": true
   },
   "outputs": [],
   "source": [
    "predicted_test = clf.predict(xtest)"
   ]
  },
  {
   "cell_type": "code",
   "execution_count": 59,
   "metadata": {},
   "outputs": [
    {
     "name": "stdout",
     "output_type": "stream",
     "text": [
      "Accuracy (in percent of the whole dataset) is:  83.4476190476 %\n"
     ]
    }
   ],
   "source": [
    "count = 0\n",
    "for i in range(0, xtest.shape[0]):\n",
    "    if predicted_test[i] == ytest[i]:\n",
    "        count = count +1\n",
    "count = float(count)\n",
    "print \"Accuracy (in percent of the whole dataset) is: \", (count/xtest.shape[0])*100, \"%\""
   ]
  },
  {
   "cell_type": "code",
   "execution_count": 60,
   "metadata": {
    "collapsed": true
   },
   "outputs": [],
   "source": [
    "# Now I want to see how well it trained with my training data \n",
    "predicted_train = clf.predict(xtrain)"
   ]
  },
  {
   "cell_type": "code",
   "execution_count": 61,
   "metadata": {},
   "outputs": [
    {
     "name": "stdout",
     "output_type": "stream",
     "text": [
      "Accuracy (in percent of the whole dataset) is:  100.0 %\n"
     ]
    }
   ],
   "source": [
    "count2 = 0\n",
    "for i in range(0, xtrain.shape[0]):\n",
    "    if predicted_train[i] == ytrain[i]:\n",
    "        count2 = count2 +1\n",
    "count2 = float(count2)\n",
    "print \"Accuracy (in percent of the whole dataset) is: \", (count2/xtrain.shape[0])*100, \"%\""
   ]
  },
  {
   "cell_type": "code",
   "execution_count": 62,
   "metadata": {
    "collapsed": true
   },
   "outputs": [],
   "source": [
    "# This is what happens when we take only a subset of the training dataset \n",
    "xtrain_subset = xtrain[:5000]\n",
    "ytrain_subset = ytrain[:5000]"
   ]
  },
  {
   "cell_type": "code",
   "execution_count": 63,
   "metadata": {
    "collapsed": true
   },
   "outputs": [],
   "source": [
    "predicted_subset = clf.predict(xtrain_subset)"
   ]
  },
  {
   "cell_type": "code",
   "execution_count": 64,
   "metadata": {},
   "outputs": [
    {
     "name": "stdout",
     "output_type": "stream",
     "text": [
      "Accuracy (in percent of the whole dataset) is:  100.0 %\n"
     ]
    }
   ],
   "source": [
    "count3 = 0\n",
    "for i in range(0, xtrain_subset.shape[0]):\n",
    "    if predicted_subset[i] == ytrain_subset[i]:\n",
    "        count3 = count3 +1\n",
    "count3 = float(count3)\n",
    "print \"Accuracy (in percent of the whole dataset) is: \", (count3/xtrain_subset.shape[0])*100, \"%\""
   ]
  },
  {
   "cell_type": "code",
   "execution_count": 65,
   "metadata": {
    "collapsed": true
   },
   "outputs": [],
   "source": [
    "xAll = data[:,1:]\n",
    "yAll = data[:,0]"
   ]
  },
  {
   "cell_type": "code",
   "execution_count": 66,
   "metadata": {
    "collapsed": true
   },
   "outputs": [],
   "source": [
    "predict_all = clf.predict(xAll)"
   ]
  },
  {
   "cell_type": "code",
   "execution_count": 67,
   "metadata": {},
   "outputs": [
    {
     "name": "stdout",
     "output_type": "stream",
     "text": [
      "Accuracy (in percent of the whole dataset) is:  91.7238095238 %\n"
     ]
    }
   ],
   "source": [
    "count4 = 0\n",
    "for i in range(0, xAll.shape[0]):\n",
    "    if predict_all[i] == yAll[i]:\n",
    "        count4 = count4 +1\n",
    "count4 = float(count4)\n",
    "print \"Accuracy (in percent of the whole dataset) is: \", (count4/xAll.shape[0])*100, \"%\""
   ]
  },
  {
   "cell_type": "markdown",
   "metadata": {},
   "source": [
    "### Summary: \n",
    "We get a 100% classification accuracy on the training dataset\n",
    "However, when we test it on a completely new dataset that it has never seen before, we only get 83% accuracy.\n",
    "When we take the whole dataset, i.e. the training and the test data set, then we get 91% accuracy. \n",
    "So we get the worst results on data that the algorithm hasnt seen before "
   ]
  },
  {
   "cell_type": "code",
   "execution_count": null,
   "metadata": {
    "collapsed": true
   },
   "outputs": [],
   "source": []
  }
 ],
 "metadata": {
  "kernelspec": {
   "display_name": "Python 2",
   "language": "python",
   "name": "python2"
  },
  "language_info": {
   "codemirror_mode": {
    "name": "ipython",
    "version": 2
   },
   "file_extension": ".py",
   "mimetype": "text/x-python",
   "name": "python",
   "nbconvert_exporter": "python",
   "pygments_lexer": "ipython2",
   "version": "2.7.14"
  }
 },
 "nbformat": 4,
 "nbformat_minor": 2
}
