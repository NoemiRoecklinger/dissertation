{
 "cells": [
  {
   "cell_type": "markdown",
   "metadata": {},
   "source": [
    "# Code to visualise PCA \n",
    "This shall be a function to visualise PCA and how the covariance matrix affects the different vectors. \n",
    "\n",
    "For all data points, compute the 2x2 (2D case) or 3x3 (3D) covariance matrix C. Take a random vector and multiply it with the covariance matrix. Its size will become longer, but the more often we multiply it, the more it will converge. This is the direction of greatest variance within the data set. Therefore, this is the most important (informative) direction := dimension."
   ]
  },
  {
   "cell_type": "code",
   "execution_count": 2,
   "metadata": {
    "collapsed": true
   },
   "outputs": [],
   "source": [
    "import numpy as np\n",
    "import pylab as plt\n",
    "import scipy as scp\n",
    "import numpy.linalg as nplinag\n",
    "import scipy.linalg as scplinag"
   ]
  },
  {
   "cell_type": "code",
   "execution_count": 3,
   "metadata": {
    "collapsed": true
   },
   "outputs": [],
   "source": [
    "def covarianceMatrix(x,y):\n",
    "    \"\"\"\n",
    "    Function to compute the covariance matrix.\n",
    "    \n",
    "    Input: Two data np.arrays representing a) all x-coordinates and b) all y-coordinates \n",
    "    Output: 2x2 covariance matrix (np.array)\n",
    "    \n",
    "    Alternatively, use the numpy command: np.cov(x,y)\n",
    "    \"\"\"\n",
    "    \n",
    "    n = x.size\n",
    "    C = np.zeros((data.shape[1], data.shape[1]))\n",
    "    \n",
    "    if n != y.size:\n",
    "        print \"X and Y must be of same dimensions.\"\n",
    "    else:\n",
    "        for i in range(C.shape[0]):\n",
    "            for j in range(C.shape[1]):\n",
    "                for pnt in data:\n",
    "                    # For each point, access x and y in all combinations (xx, xy, yx, yy)\n",
    "                    C[i][j] = C[i][j] + pnt[i]*pnt[j]\n",
    "            \n",
    "        C = (1/float(n)) * C\n",
    "        \n",
    "    return C"
   ]
  },
  {
   "cell_type": "code",
   "execution_count": 4,
   "metadata": {
    "collapsed": true
   },
   "outputs": [],
   "source": [
    "def rotateRandomVector(C, v, threshold):\n",
    "    \"\"\"\n",
    "    Function to compute the covariance matrix.\n",
    "    \n",
    "    Input: Covariance matrix C (2x2) and a random vector. Choose any vector and the function will always converge. The\n",
    "    last value is the threshold to define convergence (good: t = 0.00001).\n",
    "    Output: The direction and corresponding gradient for each iteration (printed) and the result is the final gradient. \n",
    "    This direction should be very similar (same) to the eigenvector of the input matrix (covariance matrix) C. \n",
    "    \"\"\"\n",
    "    \n",
    "    counter = 1\n",
    "    grad_prev = 100\n",
    "    diff = 10\n",
    "    threshold = threshold\n",
    "\n",
    "    while threshold < diff:\n",
    "        v = np.matmul(C, v)\n",
    "        grad = v[1]/v[0]\n",
    "        diff = abs(grad_prev - grad)\n",
    "        print \"Iteration #\", counter, v, grad\n",
    "        grad_prev = grad\n",
    "        counter = counter +1\n",
    "      \n",
    "    print \"Final gradient (convergence): \"\n",
    "    return grad"
   ]
  },
  {
   "cell_type": "code",
   "execution_count": 5,
   "metadata": {
    "collapsed": true
   },
   "outputs": [],
   "source": [
    "# Create data to visualise \n",
    "data = np.array([[1,2],[-5,3],[-2,-4],[3,4],[1,3],[7,6],[8,8],[-3,-3],[10,11],[-4,8],[-9,-6]])\n",
    "x = data[:,0]\n",
    "y = data[:,1]\n",
    "# Create column vectors\n",
    "#x = x.reshape(x.size,1)\n",
    "#y = y.reshape(y.size,1)"
   ]
  },
  {
   "cell_type": "code",
   "execution_count": 6,
   "metadata": {},
   "outputs": [
    {
     "data": {
      "text/plain": [
       "(11L, 2L)"
      ]
     },
     "execution_count": 6,
     "metadata": {},
     "output_type": "execute_result"
    }
   ],
   "source": [
    "data.shape"
   ]
  },
  {
   "cell_type": "code",
   "execution_count": 7,
   "metadata": {},
   "outputs": [
    {
     "data": {
      "image/png": "[encoded data removed]",
      "text/plain": [
       "<matplotlib.figure.Figure at 0x905dc50>"
      ]
     },
     "metadata": {},
     "output_type": "display_data"
    }
   ],
   "source": [
    "# Plot the data and also visualise the vectors \n",
    "\n",
    "# Check whether the data are correlated or not:\n",
    "# If y increases when x increases >> blue (positively correlated)\n",
    "# If negative correlation >> red \n",
    "for i in range(x.size):\n",
    "    if x[i]*y[i] >= 0:\n",
    "        plt.plot(x[i],y[i], 'bo')\n",
    "    else:\n",
    "        plt.plot(x[i],y[i], 'ro')\n",
    "#plt.grid(color='k', linestyle='solid', linewidth=0.2, which='major'), # Creates an overall grid\n",
    "plt.axvline(x=0, color='k', linewidth=1), # Creates a vertical line ~ Y axis\n",
    "plt.axhline(y=0, color='k', linewidth=1), # Creates a horizontal line ~ X axis\n",
    "plt.xlim(-10, 10), plt.ylim(-10, 10),\n",
    "plt.show()"
   ]
  },
  {
   "cell_type": "markdown",
   "metadata": {},
   "source": [
    "# Step 1: Centre the data\n",
    "To centre the data, shift all of them to the origin (0,0) by subtracting the mean of all data points "
   ]
  },
  {
   "cell_type": "code",
   "execution_count": 8,
   "metadata": {
    "collapsed": true
   },
   "outputs": [],
   "source": [
    "# Calculte the arithmetic average over all data points\n",
    "x_mean = x.mean()\n",
    "y_mean = y.mean()\n",
    "\n",
    "# Shift the data by subtracting the mean of all data points \n",
    "x_mean = x_mean * np.ones(x.size)\n",
    "x_shift = x - x_mean\n",
    "\n",
    "y_mean = y_mean * np.ones(y.size)\n",
    "y_shift = y - y_mean"
   ]
  },
  {
   "cell_type": "code",
   "execution_count": 9,
   "metadata": {},
   "outputs": [
    {
     "data": {
      "image/png": "[encoded data removed]",
      "text/plain": [
       "<matplotlib.figure.Figure at 0x9293e10>"
      ]
     },
     "metadata": {},
     "output_type": "display_data"
    }
   ],
   "source": [
    "for i in range(x_shift.size):\n",
    "    if x_shift[i]*y_shift[i] >= 0:\n",
    "        plt.plot(x_shift[i],y_shift[i], 'bo')\n",
    "    else:\n",
    "        plt.plot(x_shift[i],y_shift[i], 'ro')\n",
    "#plt.grid(color='k', linestyle='solid', linewidth=0.2, which='major'), # Creates an overall grid\n",
    "plt.axvline(x=0, color='k', linewidth=1), # Creates a vertical line ~ Y axis\n",
    "plt.axhline(y=0, color='k', linewidth=1), # Creates a horizontal line ~ X axis\n",
    "plt.xlim(-10, 10), plt.ylim(-10, 10),\n",
    "plt.show()"
   ]
  },
  {
   "cell_type": "markdown",
   "metadata": {},
   "source": [
    "# Step 2: Compute the covariance matrix (2x2)\n",
    "\n",
    "As we have only 2D, we compute the 2x2 covariance matrix of the points"
   ]
  },
  {
   "cell_type": "code",
   "execution_count": 10,
   "metadata": {},
   "outputs": [
    {
     "name": "stdout",
     "output_type": "stream",
     "text": [
      "[[ 32.63636364  23.36363636]\n",
      " [ 23.36363636  34.90909091]]\n"
     ]
    }
   ],
   "source": [
    "C = covarianceMatrix(x,y)\n",
    "print C"
   ]
  },
  {
   "cell_type": "code",
   "execution_count": 15,
   "metadata": {},
   "outputs": [
    {
     "name": "stdout",
     "output_type": "stream",
     "text": [
      "[[ 35.45454545  23.66363636]\n",
      " [ 23.66363636  29.09090909]]\n"
     ]
    }
   ],
   "source": [
    "D = np.cov(x,y)\n",
    "print D"
   ]
  },
  {
   "cell_type": "markdown",
   "metadata": {},
   "source": [
    "# Step 3: Take random vector and assess the convergence behaviour\n",
    "\n",
    "Choose a random vector (really any vector) and rotate it (multiply by covariance matrix C). \n",
    "A matrix multiplicaton always scales and rotates a vector. However, multiplying by the C matrix leads to convergence. The direction converges, and this is the direction of the first principle component (PC) = eigenvector with the biggest corresponding eigenvalue. \n",
    "\n",
    "This step 3 is solely for demonstration purpose, the algorithm continues at step 4. \n",
    "Here, we show that multiplying with C leads to convergence for any vector, and the direction indicates the direction of largest variance. Largest variance indicates the greatest information / importance for us. It is the direction of the eigenvector with the greatest eigenvalue. "
   ]
  },
  {
   "cell_type": "code",
   "execution_count": 11,
   "metadata": {},
   "outputs": [
    {
     "name": "stdout",
     "output_type": "stream",
     "text": [
      "Iteration # 1 [ -9.27272727  11.54545455] -1.24509803922\n",
      "Iteration # 2 [ -32.88429752  186.39669421] -5.66825835637\n",
      "Iteration # 3 [ 3281.68069121  5738.64237415] 1.74869005066\n",
      "Iteration # 4 [ 241177.67802746  277002.78266512] 1.14854237312\n",
      "Iteration # 5 [ 14342954.6869811   15304702.89058741] 1.0670537016\n",
      "Iteration # 6 [  8.25675398e+08   8.69376842e+08] 1.05292811748\n",
      "Iteration # 7 [  4.72588469e+10   4.96399350e+10] 1.05038396385\n",
      "Iteration # 8 [  2.70212630e+12   2.83702352e+12] 1.04992261606\n",
      "Iteration # 9 [  1.54470762e+14   1.62169408e+14] 1.04983885413\n",
      "Iteration # 10 [  8.83023106e+15   9.27018534e+15] 1.04982364299\n",
      "Iteration # 11 [  5.04771871e+17   5.29920050e+17] 1.04982088054\n",
      "Iteration # 12 [  2.88547777e+19   3.02923336e+19] 1.04982037886\n",
      "Final gradient (convergence): \n"
     ]
    },
    {
     "data": {
      "text/plain": [
       "1.0498203788586897"
      ]
     },
     "execution_count": 11,
     "metadata": {},
     "output_type": "execute_result"
    }
   ],
   "source": [
    "v = np.array([-1.0,1.0])\n",
    "rotateRandomVector(C, v, 0.000001)"
   ]
  },
  {
   "cell_type": "markdown",
   "metadata": {},
   "source": [
    "# Step 4: Calculate principle components\n",
    "\n",
    "Calculate the 2 eigenvalues, determine the bigger one and use the corresponding eigenvector as 1st PC. The second eigenvector is the second PC. \n",
    "The 1st PC indicates the direction of biggest variance. This shows the most important direction of data and how it is spread. \n",
    "\n",
    "Here: we look at 2 different methods, using numpy and scipy. Following [1], scipy algorithm is more stable and will thus be used. \n",
    "\n",
    "[1] \n",
    "https://stackoverflow.com/questions/6684238/whats-the-fastest-way-to-find-eigenvalues-vectors-in-python "
   ]
  },
  {
   "cell_type": "markdown",
   "metadata": {},
   "source": [
    "### First method: \n",
    "use numpy library to calculate the eigenvalues & vectors. However, this is not recommended, as the method\n",
    "is not as stable as other libraries (scipy)"
   ]
  },
  {
   "cell_type": "code",
   "execution_count": 12,
   "metadata": {},
   "outputs": [
    {
     "name": "stdout",
     "output_type": "stream",
     "text": [
      "[ 57.16398261  10.38147193]\n"
     ]
    }
   ],
   "source": [
    "CC = np.array([[2, 0.8],[0.8, 0.6]])\n",
    "evals = nplinag.eigvals(C)\n",
    "evals[::-1].sort() # Sort in descending order \n",
    "print evals"
   ]
  },
  {
   "cell_type": "code",
   "execution_count": 13,
   "metadata": {},
   "outputs": [
    {
     "name": "stdout",
     "output_type": "stream",
     "text": [
      "Eigenvalues:  [ 10.38147193  57.16398261]\n",
      "Eigenvectors:  [[-0.72407897  0.68971708]\n",
      " [ 0.68971708  0.72407897]]\n"
     ]
    }
   ],
   "source": [
    "D, V = nplinag.eigh(C)\n",
    "print \"Eigenvalues: \", D # Values are stored (unsorted) in one array 1xd dimension\n",
    "print \"Eigenvectors: \", V # Vectors are stored in one array each, so here: 2 arrays, 1st array: e1, 2nd array: e2 "
   ]
  },
  {
   "cell_type": "markdown",
   "metadata": {},
   "source": [
    "### Second method: use scipy library "
   ]
  },
  {
   "cell_type": "code",
   "execution_count": 12,
   "metadata": {},
   "outputs": [
    {
     "name": "stdout",
     "output_type": "stream",
     "text": [
      "Eigenvalues:  [ 10.38147193  57.16398261]\n",
      "Eigenvectors:  [[-0.72407897  0.68971708]\n",
      " [ 0.68971708  0.72407897]]\n"
     ]
    }
   ],
   "source": [
    "D, V = scplinag.eigh(C)\n",
    "print \"Eigenvalues: \", D\n",
    "print \"Eigenvectors: \", V"
   ]
  },
  {
   "cell_type": "markdown",
   "metadata": {},
   "source": [
    "### Find 1st PC and then 2nd PC"
   ]
  },
  {
   "cell_type": "code",
   "execution_count": 13,
   "metadata": {
    "collapsed": true
   },
   "outputs": [],
   "source": [
    "# In this case easy, because we only have 2D \n",
    "pos1 = np.argmax(D)\n",
    "pos2 = np.argmin(D)\n",
    "e1 = V[pos1] # eigenvector in direction of largest variance\n",
    "e2 = V[pos2] # second eigenvector, perpend. to e1 "
   ]
  },
  {
   "cell_type": "code",
   "execution_count": 14,
   "metadata": {},
   "outputs": [
    {
     "name": "stdout",
     "output_type": "stream",
     "text": [
      "57.1639826141 10.3814719313\n"
     ]
    }
   ],
   "source": [
    "# Find the eigenvalues\n",
    "evalue1 = np.max(D)\n",
    "evalue2 = np.min(D)\n",
    "print evalue1, evalue2"
   ]
  },
  {
   "cell_type": "code",
   "execution_count": 15,
   "metadata": {},
   "outputs": [
    {
     "data": {
      "image/png": "[encoded data removed]",
      "text/plain": [
       "<matplotlib.figure.Figure at 0x8ea8208>"
      ]
     },
     "metadata": {},
     "output_type": "display_data"
    },
    {
     "data": {
      "text/plain": [
       "(None, None)"
      ]
     },
     "execution_count": 15,
     "metadata": {},
     "output_type": "execute_result"
    }
   ],
   "source": [
    "# Draw the vectors\n",
    "# They indicate the direction of biggest / 2nd biggest change \n",
    "scale_e1 = 10\n",
    "scale_e2 = 5\n",
    "soa = np.array([[0, 0, e1[0]*scale_e1, e1[1]*scale_e1], [0, 0, e2[0]*scale_e2, e2[1]*scale_e2]])\n",
    "X, Y, U, V = zip(*soa)\n",
    "\n",
    "plt.figure()\n",
    "\n",
    "plt.quiver(X, Y, U, V, angles='xy', scale_units='xy', scale=1, color=['b','r'])\n",
    "\n",
    "for i in range(x_shift.size):\n",
    "    if x_shift[i]*y_shift[i] >= 0:\n",
    "        plt.plot(x_shift[i],y_shift[i], 'bo')\n",
    "    else:\n",
    "        plt.plot(x_shift[i],y_shift[i], 'ro')\n",
    "#plt.grid(color='k', linestyle='solid', linewidth=0.2, which='major'), # Creates an overall grid\n",
    "plt.axvline(x=0, color='k', linewidth=1), # Creates a vertical line ~ Y axis\n",
    "plt.axhline(y=0, color='k', linewidth=1), # Creates a horizontal line ~ X axis\n",
    "plt.xlim(-10, 10), plt.ylim(-10, 10),\n",
    "plt.draw(), plt.show()"
   ]
  },
  {
   "cell_type": "markdown",
   "metadata": {
    "collapsed": true
   },
   "source": [
    "# Eigenvalue - based features\n",
    "\n",
    "This will have to be changed to 3D points, this makes little sense now with 2D input data (for simplification)"
   ]
  },
  {
   "cell_type": "code",
   "execution_count": 16,
   "metadata": {
    "collapsed": true
   },
   "outputs": [],
   "source": [
    "# For now just assume eigenvalue3 just to write down formulas\n",
    "evalue3 = 10\n",
    "# Check all formulas below again when tranforming it to 3D space "
   ]
  },
  {
   "cell_type": "code",
   "execution_count": 17,
   "metadata": {
    "collapsed": true
   },
   "outputs": [],
   "source": [
    "# Linearity\n",
    "lambda1 = (evalue1 - evalue2) / evalue1\n",
    "# Planarity\n",
    "lambda2 = (evalue2 - evalue3) / evalue1\n",
    "# Scattering\n",
    "lambda3 = evalue3 / evalue1\n",
    "# Omnivariance\n",
    "lambda4 = pow(evalue1*evalue2*evalue3, 1/3.0)\n",
    "# Anisotropy\n",
    "lambda5 = (evalue1 - evalue3) / evalue1\n",
    "# Eigenentropy\n",
    "s = 0\n",
    "for elem in V:\n",
    "    s = s + elem * np.log(elem)\n",
    "lambda6 = (-1) * s\n",
    "# Sum of eigenvalues\n",
    "lambda7 = sum(D)\n",
    "# Change of curvature\n",
    "lambda8 = evalue3/sum(D)"
   ]
  },
  {
   "cell_type": "code",
   "execution_count": null,
   "metadata": {
    "collapsed": true
   },
   "outputs": [],
   "source": []
  }
 ],
 "metadata": {
  "kernelspec": {
   "display_name": "Python 2",
   "language": "python",
   "name": "python2"
  },
  "language_info": {
   "codemirror_mode": {
    "name": "ipython",
    "version": 2
   },
   "file_extension": ".py",
   "mimetype": "text/x-python",
   "name": "python",
   "nbconvert_exporter": "python",
   "pygments_lexer": "ipython2",
   "version": "2.7.14"
  }
 },
 "nbformat": 4,
 "nbformat_minor": 2
}
