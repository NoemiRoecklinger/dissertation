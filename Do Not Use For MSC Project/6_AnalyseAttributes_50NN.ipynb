{
 "cells": [
  {
   "cell_type": "markdown",
   "metadata": {},
   "source": [
    "# Machine Learning now"
   ]
  },
  {
   "cell_type": "code",
   "execution_count": 1,
   "metadata": {},
   "outputs": [],
   "source": [
    "import pandas as pd\n",
    "import os\n",
    "import numpy as np\n",
    "import sklearn \n",
    "import scipy.linalg as scplinag\n",
    "from sklearn.neighbors import KDTree\n",
    "from scipy.spatial import distance"
   ]
  },
  {
   "cell_type": "markdown",
   "metadata": {},
   "source": [
    "# Whole dataset and 50 NN \n",
    "\n",
    "Attributes as in Weinmann, 2013, plus relative height (Weinmann, 2014) "
   ]
  },
  {
   "cell_type": "code",
   "execution_count": 2,
   "metadata": {},
   "outputs": [],
   "source": [
    "# Define a data frame with all my data# Define  \n",
    "FILE_PATH = r\"../DATA\"\n",
    "FILE_NAME = r\"/5_Data_ML_attributes_50NN.txt\"\n",
    "IMAGE_FILE_PATH = r\"images\"\n",
    "df = pd.read_csv(FILE_PATH+FILE_NAME, delimiter=',')\n",
    "df.rename(index=str, columns={\"range\": \"relative_height\"}, inplace = True)"
   ]
  },
  {
   "cell_type": "code",
   "execution_count": 3,
   "metadata": {},
   "outputs": [
    {
     "name": "stdout",
     "output_type": "stream",
     "text": [
      "Number of instances 11052294\n",
      "Number of attributes 16\n"
     ]
    }
   ],
   "source": [
    "rows, cols = df.shape\n",
    "print \"Number of instances\", rows\n",
    "print \"Number of attributes\", cols"
   ]
  },
  {
   "cell_type": "markdown",
   "metadata": {},
   "source": [
    "### I have made a mistake with the class names, therefore I need to re-name them now\n",
    "\n",
    "In the file 3_CreateFinalClasses, I did not change the names of the classes properly. Therefore, I will have to re-name them now. \n",
    "\n",
    "Manually, not to confuse it."
   ]
  },
  {
   "cell_type": "code",
   "execution_count": 4,
   "metadata": {},
   "outputs": [],
   "source": [
    "# Road (second most points)\n",
    "df[\"class\"].where(df[\"class\"] != 2, 1, inplace=True)\n",
    "# Sidewalk\n",
    "df[\"class\"].where(df[\"class\"] != 3, 2, inplace=True)\n",
    "# Curb\n",
    "df[\"class\"].where(df[\"class\"] != 4, 3, inplace=True)\n",
    "# Building (most points)\n",
    "df[\"class\"].where(df[\"class\"] != 5, 4, inplace=True)\n",
    "# Other pole like objects\n",
    "df[\"class\"].where(df[\"class\"] != 6, 5, inplace=True)\n",
    "# Small poles\n",
    "df[\"class\"].where(df[\"class\"] != 7, 6, inplace=True)\n",
    "# Pedestrians\n",
    "df[\"class\"].where(df[\"class\"] != 11, 7, inplace=True)\n",
    "# 2 wheelers\n",
    "df[\"class\"].where(df[\"class\"] != 12, 8, inplace=True)\n",
    "# 4 wheelers\n",
    "df[\"class\"].where(df[\"class\"] != 13, 9, inplace=True)\n",
    "# Trees\n",
    "df[\"class\"].where(df[\"class\"] != 14, 10, inplace=True)\n",
    "# Potted plants\n",
    "df[\"class\"].where(df[\"class\"] != 15, 11, inplace=True)"
   ]
  },
  {
   "cell_type": "markdown",
   "metadata": {},
   "source": [
    "## Create feature data frame with only the features I would like to have for ML and also the class"
   ]
  },
  {
   "cell_type": "code",
   "execution_count": 5,
   "metadata": {},
   "outputs": [
    {
     "data": {
      "text/html": [
       "<div>\n",
       "<style scoped>\n",
       "    .dataframe tbody tr th:only-of-type {\n",
       "        vertical-align: middle;\n",
       "    }\n",
       "\n",
       "    .dataframe tbody tr th {\n",
       "        vertical-align: top;\n",
       "    }\n",
       "\n",
       "    .dataframe thead th {\n",
       "        text-align: right;\n",
       "    }\n",
       "</style>\n",
       "<table border=\"1\" class=\"dataframe\">\n",
       "  <thead>\n",
       "    <tr style=\"text-align: right;\">\n",
       "      <th></th>\n",
       "      <th>class</th>\n",
       "      <th>lambda1</th>\n",
       "      <th>lambda2</th>\n",
       "      <th>lambda3</th>\n",
       "      <th>lambda4</th>\n",
       "      <th>lambda5</th>\n",
       "      <th>lambda6</th>\n",
       "      <th>lambda7</th>\n",
       "      <th>lambda8</th>\n",
       "      <th>local_density</th>\n",
       "      <th>relative_height</th>\n",
       "      <th>verticality</th>\n",
       "    </tr>\n",
       "  </thead>\n",
       "  <tbody>\n",
       "    <tr>\n",
       "      <th>0</th>\n",
       "      <td>1</td>\n",
       "      <td>0.189010</td>\n",
       "      <td>0.808544</td>\n",
       "      <td>0.002447</td>\n",
       "      <td>0.000028</td>\n",
       "      <td>0.997553</td>\n",
       "      <td>0.003467</td>\n",
       "      <td>0.000408</td>\n",
       "      <td>0.001349</td>\n",
       "      <td>25877.928393</td>\n",
       "      <td>-2.497189</td>\n",
       "      <td>0.000847</td>\n",
       "    </tr>\n",
       "    <tr>\n",
       "      <th>1</th>\n",
       "      <td>1</td>\n",
       "      <td>0.189010</td>\n",
       "      <td>0.808544</td>\n",
       "      <td>0.002447</td>\n",
       "      <td>0.000028</td>\n",
       "      <td>0.997553</td>\n",
       "      <td>0.003467</td>\n",
       "      <td>0.000408</td>\n",
       "      <td>0.001349</td>\n",
       "      <td>46635.546755</td>\n",
       "      <td>-2.498982</td>\n",
       "      <td>0.000847</td>\n",
       "    </tr>\n",
       "    <tr>\n",
       "      <th>2</th>\n",
       "      <td>1</td>\n",
       "      <td>0.189010</td>\n",
       "      <td>0.808544</td>\n",
       "      <td>0.002447</td>\n",
       "      <td>0.000028</td>\n",
       "      <td>0.997553</td>\n",
       "      <td>0.003467</td>\n",
       "      <td>0.000408</td>\n",
       "      <td>0.001349</td>\n",
       "      <td>75836.463465</td>\n",
       "      <td>-2.498448</td>\n",
       "      <td>0.000847</td>\n",
       "    </tr>\n",
       "    <tr>\n",
       "      <th>3</th>\n",
       "      <td>1</td>\n",
       "      <td>0.350668</td>\n",
       "      <td>0.646708</td>\n",
       "      <td>0.002624</td>\n",
       "      <td>0.000033</td>\n",
       "      <td>0.997376</td>\n",
       "      <td>0.003784</td>\n",
       "      <td>0.000451</td>\n",
       "      <td>0.001588</td>\n",
       "      <td>82825.790636</td>\n",
       "      <td>-2.500576</td>\n",
       "      <td>0.000847</td>\n",
       "    </tr>\n",
       "    <tr>\n",
       "      <th>4</th>\n",
       "      <td>1</td>\n",
       "      <td>0.391125</td>\n",
       "      <td>0.603946</td>\n",
       "      <td>0.004929</td>\n",
       "      <td>0.000041</td>\n",
       "      <td>0.995071</td>\n",
       "      <td>0.003847</td>\n",
       "      <td>0.000460</td>\n",
       "      <td>0.003054</td>\n",
       "      <td>82835.520399</td>\n",
       "      <td>-2.500191</td>\n",
       "      <td>0.000902</td>\n",
       "    </tr>\n",
       "  </tbody>\n",
       "</table>\n",
       "</div>"
      ],
      "text/plain": [
       "   class   lambda1   lambda2   lambda3   lambda4   lambda5   lambda6  \\\n",
       "0      1  0.189010  0.808544  0.002447  0.000028  0.997553  0.003467   \n",
       "1      1  0.189010  0.808544  0.002447  0.000028  0.997553  0.003467   \n",
       "2      1  0.189010  0.808544  0.002447  0.000028  0.997553  0.003467   \n",
       "3      1  0.350668  0.646708  0.002624  0.000033  0.997376  0.003784   \n",
       "4      1  0.391125  0.603946  0.004929  0.000041  0.995071  0.003847   \n",
       "\n",
       "    lambda7   lambda8  local_density  relative_height  verticality  \n",
       "0  0.000408  0.001349   25877.928393        -2.497189     0.000847  \n",
       "1  0.000408  0.001349   46635.546755        -2.498982     0.000847  \n",
       "2  0.000408  0.001349   75836.463465        -2.498448     0.000847  \n",
       "3  0.000451  0.001588   82825.790636        -2.500576     0.000847  \n",
       "4  0.000460  0.003054   82835.520399        -2.500191     0.000902  "
      ]
     },
     "execution_count": 5,
     "metadata": {},
     "output_type": "execute_result"
    }
   ],
   "source": [
    "df_features = df.iloc[:,3:]\n",
    "df_features.drop(['radius_neighbourhood'], axis = 1, inplace = True)"
   ]
  },
  {
   "cell_type": "code",
   "execution_count": null,
   "metadata": {},
   "outputs": [],
   "source": [
    "from sklearn.model_selection import StratifiedShuffleSplit"
   ]
  },
  {
   "cell_type": "code",
   "execution_count": null,
   "metadata": {},
   "outputs": [],
   "source": [
    "data = df_features.values\n",
    "X = data[:,1:]\n",
    "y = data[:,0]\n",
    "print data.shape\n",
    "print X.shape\n",
    "print y.shape\n",
    "print max(y)"
   ]
  },
  {
   "cell_type": "code",
   "execution_count": null,
   "metadata": {},
   "outputs": [],
   "source": [
    "split = StratifiedShuffleSplit(n_splits=10, test_size=0.2, random_state=42)\n",
    "for train_index, test_index in split.split(X, y):\n",
    "    # Do that here\n",
    "    X_train, X_test = X[train_index], X[test_index]\n",
    "    y_train, y_test = y[train_index], y[test_index]"
   ]
  },
  {
   "cell_type": "code",
   "execution_count": null,
   "metadata": {},
   "outputs": [],
   "source": [
    "print \"Size X training data\", X_train.shape\n",
    "print \"Size y training data\", y_train.shape\n",
    "print \"Size X testing data\", X_test.shape\n",
    "print \"Size y testing data\", X_test.shape"
   ]
  },
  {
   "cell_type": "code",
   "execution_count": null,
   "metadata": {},
   "outputs": [],
   "source": [
    "# Save all my data as NUMPY arrays\n",
    "# To load them later\n",
    "# np.loadtxt()\n",
    "np.savetxt(FILE_PATH+'/y_train_50NN.txt', y_train, delimiter=',')\n",
    "np.savetxt(FILE_PATH+'/y_test_50NN.txt', y_test, delimiter=',')\n",
    "np.savetxt(FILE_PATH+'/X_train_50NN.txt', X_train, delimiter=',')\n",
    "np.savetxt(FILE_PATH+'/X_test_50NN.txt', X_test, delimiter=',')"
   ]
  },
  {
   "cell_type": "code",
   "execution_count": null,
   "metadata": {},
   "outputs": [],
   "source": [
    "# Compute correlation matrices to show dependencies\n",
    "corr_matrix = df_features.corr()\n",
    "corr_matrix.to_csv(FILE_PATH+'/corr_matrix_50NN.txt', index= True)"
   ]
  },
  {
   "cell_type": "code",
   "execution_count": null,
   "metadata": {},
   "outputs": [],
   "source": [
    "# Clean variables I domnt need right now\n",
    "\n",
    "df = None\n",
    "corr_matrix = None\n",
    "X = None\n",
    "y = None\n",
    "data = None "
   ]
  }
 ],
 "metadata": {
  "kernelspec": {
   "display_name": "Python 2",
   "language": "python",
   "name": "python2"
  },
  "language_info": {
   "codemirror_mode": {
    "name": "ipython",
    "version": 2
   },
   "file_extension": ".py",
   "mimetype": "text/x-python",
   "name": "python",
   "nbconvert_exporter": "python",
   "pygments_lexer": "ipython2",
   "version": "2.7.15rc1"
  }
 },
 "nbformat": 4,
 "nbformat_minor": 2
}
