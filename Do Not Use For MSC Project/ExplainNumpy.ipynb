{
 "cells": [
  {
   "cell_type": "markdown",
   "metadata": {},
   "source": [
    "# Learn numpy\n",
    "This is an explanation for numpy \n",
    "Numpy works with multiple dimensions\n",
    "rows = first dimension \n",
    "columns = second dimension\n",
    "\n",
    "Axis:\n",
    "axis 0: means the row\n",
    "axis 1: means the column \n",
    "If we have a 3x2 matrix with entries [[8,9], [10,11], [12,13]] and we compute\n",
    "the sum of the 2 different axis we get:\n",
    "sum of axis 0: so we look at the first row and then go down: [30, 33] (sum along the columns)\n",
    "sum of axis 1: we compute the sums for each row because we \"walk\" along axis 1\n",
    "\n",
    "\n",
    "Numpy less memory than lists. Thats why we dont use lists but numpy arrays "
   ]
  },
  {
   "cell_type": "code",
   "execution_count": null,
   "metadata": {
    "collapsed": true
   },
   "outputs": [],
   "source": [
    "import numpy as np"
   ]
  },
  {
   "cell_type": "code",
   "execution_count": 66,
   "metadata": {},
   "outputs": [
    {
     "data": {
      "text/plain": [
       "(2L, 3L)"
      ]
     },
     "execution_count": 66,
     "metadata": {},
     "output_type": "execute_result"
    }
   ],
   "source": [
    "# This is a 1D array (Row vector: [1,2,3]). \n",
    "a = np.array([1,2,3])\n",
    "# The shape of a row vector is (3L,) so we only have one dimension\n",
    "a.shape\n",
    "# This is a 2D array and we define a new line either by () or by [], this is the same. \n",
    "b = np.array([[1,2,3],[1,2,3]])\n",
    "# The shape of this 2D array is (2L, 3L), so we have 2 rows (1st dim) and 3 columns (2nd dim)\n",
    "b.shape"
   ]
  },
  {
   "cell_type": "code",
   "execution_count": 25,
   "metadata": {
    "collapsed": true
   },
   "outputs": [],
   "source": [
    "# Operations:\n",
    "# shape (gives us e.g. 2x3)\n",
    "# size (number of elements in total)\n",
    "# ndim (how many dimensions we have (i.e. 1 for row vector, 2 for matrix, 3 for 3D geometry points))\n",
    "# dtype (of which file type all array elements are)"
   ]
  },
  {
   "cell_type": "code",
   "execution_count": 37,
   "metadata": {},
   "outputs": [
    {
     "name": "stdout",
     "output_type": "stream",
     "text": [
      "initial shape (2L, 4L)\n",
      "shape after reshaping (4L, 2L)\n"
     ]
    }
   ],
   "source": [
    "# Reshape\n",
    "# Give the array a new dimension \n",
    "c = np.array([[1,2,3,4],[3,4,5,6]])\n",
    "print \"initial shape\", c.shape\n",
    "d = c.reshape(4,2)\n",
    "print \"shape after reshaping\", d.shape"
   ]
  },
  {
   "cell_type": "code",
   "execution_count": 56,
   "metadata": {},
   "outputs": [
    {
     "data": {
      "text/plain": [
       "1"
      ]
     },
     "execution_count": 56,
     "metadata": {},
     "output_type": "execute_result"
    }
   ],
   "source": [
    "# Slicing (getting rid of elements in array)\n",
    "# This can be done in two ways: c[0,2] or c[0][2] which is exactly the same\n",
    "# This accesses the first dimension (rows) and the third element in this row (third column)\n",
    "b[0][0]\n",
    "# For getting all rows / all columns, use the colon \n",
    "# b[:,0] for each row, take first element\n",
    "# b[0,:] for each column, take first row\n",
    "# b[0,0:2] for first row, take columns 0 and 1 (2 excluded)"
   ]
  },
  {
   "cell_type": "code",
   "execution_count": 62,
   "metadata": {},
   "outputs": [
    {
     "name": "stdout",
     "output_type": "stream",
     "text": [
      "[  1.     5.75  10.5   15.25  20.  ]\n"
     ]
    }
   ],
   "source": [
    "# Linspacing\n",
    "# starts at 1, ends at 3 and returns 5 values (including start and end) in between \n",
    "e = np.linspace(1,20,5)\n",
    "print e"
   ]
  },
  {
   "cell_type": "code",
   "execution_count": 73,
   "metadata": {},
   "outputs": [
    {
     "name": "stdout",
     "output_type": "stream",
     "text": [
      "[[1 2 3]\n",
      " [1 2 3]]\n",
      "This is the sum along axis 0 (for each column) [2 4 6]\n",
      "This is the sum along axis 1 (for each row) [6 6]\n"
     ]
    }
   ],
   "source": [
    "# Sum of all elements: this will be the same for 1D array (a) but we can compute the sum along axes in multidim. arrays\n",
    "a.sum()\n",
    "a.sum(axis=0)\n",
    "b.sum() # This will be 12 (all elements)\n",
    "print b\n",
    "print \"This is the sum along axis 0 (for each column)\", b.sum(axis=0)\n",
    "print \"This is the sum along axis 1 (for each row)\", b.sum(axis=1)"
   ]
  },
  {
   "cell_type": "markdown",
   "metadata": {},
   "source": [
    "### Operations on matrices (arrays)\n",
    "If we have SQRT or other opertions like that, it is executed element-wise, so the sqrt of each element\n",
    "e.g. absolute value, sqrt, "
   ]
  },
  {
   "cell_type": "code",
   "execution_count": 76,
   "metadata": {},
   "outputs": [
    {
     "name": "stdout",
     "output_type": "stream",
     "text": [
      "[[ 1.          1.41421356  1.73205081]\n",
      " [ 1.73205081  2.          2.23606798]]\n"
     ]
    }
   ],
   "source": [
    "f = np.array([[1,2,3],[3,4,5]])\n",
    "# If we have SQRT or other opertions like that, it is executed element-wise, so the sqrt of each element \n",
    "print np.sqrt(f)"
   ]
  },
  {
   "cell_type": "markdown",
   "metadata": {},
   "source": [
    "### Standard deviation from a matrix\n",
    "This means, we have a 2D array (matrix) with elements. \n",
    "We compute the mean over all these values and then compute how much the elements deviate from this mean value"
   ]
  },
  {
   "cell_type": "code",
   "execution_count": 79,
   "metadata": {},
   "outputs": [
    {
     "data": {
      "text/plain": [
       "1.2909944487358056"
      ]
     },
     "execution_count": 79,
     "metadata": {},
     "output_type": "execute_result"
    }
   ],
   "source": [
    "# how much every value varies from the mean value in the matrix\n",
    "# Calc mean first and then deviation\n",
    "np.std(f)"
   ]
  },
  {
   "cell_type": "code",
   "execution_count": 82,
   "metadata": {},
   "outputs": [
    {
     "data": {
      "text/plain": [
       "2.5819888974716112"
      ]
     },
     "execution_count": 82,
     "metadata": {},
     "output_type": "execute_result"
    }
   ],
   "source": [
    "# Also possible for 3D and more dimensions \n",
    "g = np.array([[1,2,3],[4,5,6],[7,8,9]])\n",
    "np.std(g)"
   ]
  },
  {
   "cell_type": "markdown",
   "metadata": {},
   "source": [
    "### Matrix operations + - * / \n",
    "All element - wise\n",
    "Addition: element wise adding elements\n",
    "Important: if the dimensions do not agree, we can still execute the command, but e.g. one row vector + another matrix will result in adding the row vector to all rows of the matrix "
   ]
  },
  {
   "cell_type": "code",
   "execution_count": 91,
   "metadata": {},
   "outputs": [],
   "source": [
    "# Stacking of arrays\n",
    "h = np.array([[1,2,3],[3,4,5]])\n",
    "i = np.array([[1,2,3],[3,4,5]])"
   ]
  },
  {
   "cell_type": "code",
   "execution_count": 95,
   "metadata": {},
   "outputs": [],
   "source": [
    "# This will put the vectors together vertically (vertical stacking)\n",
    "j = np.vstack((h,i))"
   ]
  },
  {
   "cell_type": "code",
   "execution_count": 101,
   "metadata": {
    "collapsed": true
   },
   "outputs": [],
   "source": [
    "# This is horizontal stacking\n",
    "k = np.hstack((h,i))"
   ]
  },
  {
   "cell_type": "code",
   "execution_count": 106,
   "metadata": {},
   "outputs": [
    {
     "data": {
      "text/plain": [
       "array([1, 2, 3, 1, 2, 3, 3, 4, 5, 3, 4, 5])"
      ]
     },
     "execution_count": 106,
     "metadata": {},
     "output_type": "execute_result"
    }
   ],
   "source": [
    "# RAVEL\n",
    "# I have any array and I want to convert it into a single line \n",
    "k.ravel()\n",
    "# The result is a row vector "
   ]
  },
  {
   "cell_type": "markdown",
   "metadata": {},
   "source": [
    "### Plot graphs "
   ]
  },
  {
   "cell_type": "code",
   "execution_count": 110,
   "metadata": {},
   "outputs": [],
   "source": [
    "import matplotlib.pyplot as plt"
   ]
  },
  {
   "cell_type": "code",
   "execution_count": 118,
   "metadata": {},
   "outputs": [],
   "source": [
    "m = np.arange(0, 3*np.pi, 0.1)\n",
    "n = np.tan(m)"
   ]
  },
  {
   "cell_type": "code",
   "execution_count": 119,
   "metadata": {},
   "outputs": [
    {
     "data": {
      "image/png": "[encoded data removed]",
      "text/plain": [
       "<matplotlib.figure.Figure at 0x91c30b8>"
      ]
     },
     "metadata": {},
     "output_type": "display_data"
    },
    {
     "data": {
      "text/plain": [
       "([<matplotlib.lines.Line2D at 0x93c6470>], None)"
      ]
     },
     "execution_count": 119,
     "metadata": {},
     "output_type": "execute_result"
    }
   ],
   "source": [
    "plt.plot(m,n,'r'), plt.show()"
   ]
  },
  {
   "cell_type": "markdown",
   "metadata": {},
   "source": [
    "### Difference between linspace and arange\n",
    "There is a difference between the results\n",
    "arange gives a start, stop and the Schrittweite\n",
    "linspace gives start, stop and how many points in between (e.g. 2 points would be start & stop)"
   ]
  },
  {
   "cell_type": "code",
   "execution_count": 123,
   "metadata": {},
   "outputs": [
    {
     "name": "stdout",
     "output_type": "stream",
     "text": [
      "This is arange [0 2 4 6 8]\n",
      "This is linspace [  0.  10.]\n"
     ]
    }
   ],
   "source": [
    "print \"This is arange\", np.arange(0,10,2)\n",
    "print \"This is linspace\", np.linspace(0,10,2)"
   ]
  }
 ],
 "metadata": {
  "kernelspec": {
   "display_name": "Python 2",
   "language": "python",
   "name": "python2"
  },
  "language_info": {
   "codemirror_mode": {
    "name": "ipython",
    "version": 2
   },
   "file_extension": ".py",
   "mimetype": "text/x-python",
   "name": "python",
   "nbconvert_exporter": "python",
   "pygments_lexer": "ipython2",
   "version": "2.7.14"
  }
 },
 "nbformat": 4,
 "nbformat_minor": 2
}
