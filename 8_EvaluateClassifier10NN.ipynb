{
 "cells": [
  {
   "cell_type": "markdown",
   "metadata": {},
   "source": [
    "# Evaluate the classifier\n",
    "\n",
    "In file 7_ I created the classifiers for the initial experiment setup. \n",
    "Now I need to evaluate them "
   ]
  },
  {
   "cell_type": "code",
   "execution_count": 2,
   "metadata": {},
   "outputs": [],
   "source": [
    "import numpy as np\n",
    "import sklearn \n",
    "from sklearn.neighbors import KDTree\n",
    "from sklearn.ensemble import RandomForestClassifier\n",
    "import time\n",
    "from sklearn import metrics\n",
    "import pandas as pd\n",
    "from sklearn.externals import joblib"
   ]
  },
  {
   "cell_type": "code",
   "execution_count": 3,
   "metadata": {},
   "outputs": [],
   "source": [
    "NN = 10"
   ]
  },
  {
   "cell_type": "code",
   "execution_count": 4,
   "metadata": {},
   "outputs": [],
   "source": [
    "# Uploadng my datasets\n",
    "# Define a data frame with all my data# Define  \n",
    "FILE_PATH = r\"../DATA/ML_datasets/Initial_setup\"\n",
    "META_FILE_PATH = \"../DATA/META\"\n",
    "IMAGE_FILE_PATH = r\"images\"\n",
    "\n",
    "# Training data\n",
    "y_train = np.loadtxt(FILE_PATH+'/y_train_'+ str(NN) +'NN_3842samples.txt', delimiter=',')\n",
    "X_train = np.loadtxt(FILE_PATH+'/X_train_'+ str(NN) +'NN_3842samples.txt', delimiter=',')\n",
    "\n",
    "# Testing data\n",
    "y_test = np.loadtxt(FILE_PATH+'/y_test_'+ str(NN) +'NN.txt', delimiter=',')\n",
    "X_test = np.loadtxt(FILE_PATH+'/X_test_'+ str(NN) +'NN.txt', delimiter=',')"
   ]
  },
  {
   "cell_type": "code",
   "execution_count": 5,
   "metadata": {},
   "outputs": [],
   "source": [
    "# For RF classifier: cast as float32 \n",
    "y_train = y_train.astype('float32')\n",
    "X_train = X_train.astype('float32')\n",
    "y_test = y_test.astype('float32')\n",
    "X_test = X_test.astype('float32')"
   ]
  },
  {
   "cell_type": "code",
   "execution_count": 6,
   "metadata": {},
   "outputs": [],
   "source": [
    "###uploading the saved classifier\n",
    "filename = '/randomforest_model_'+ str(NN) +'NN_downsample.sav'\n",
    "clf = joblib.load(FILE_PATH + filename)"
   ]
  },
  {
   "cell_type": "markdown",
   "metadata": {},
   "source": [
    "## Make predictions\n",
    "\n",
    "Now predict values for the whole training set (on data the model has seen before)"
   ]
  },
  {
   "cell_type": "code",
   "execution_count": 7,
   "metadata": {},
   "outputs": [
    {
     "name": "stdout",
     "output_type": "stream",
     "text": [
      "This is the number of NN: 10\n"
     ]
    }
   ],
   "source": [
    "predictions_train = clf.predict(X_train)\n",
    "predictions_test = clf.predict(X_test)\n",
    "\n",
    "np.savetxt(FILE_PATH+'/predictions_train_'+ str(NN) +'NN_downsample.txt', predictions_train, delimiter=',')\n",
    "np.savetxt(FILE_PATH+'/predictions_test_'+ str(NN) +'NN_downsample.txt', predictions_test, delimiter=',')\n",
    "\n",
    "print \"This is the number of NN:\", NN"
   ]
  },
  {
   "cell_type": "markdown",
   "metadata": {},
   "source": [
    "## Now evaluate the model"
   ]
  },
  {
   "cell_type": "code",
   "execution_count": 46,
   "metadata": {},
   "outputs": [
    {
     "name": "stdout",
     "output_type": "stream",
     "text": [
      "Score on training dataset: 0.885090909090909\n"
     ]
    }
   ],
   "source": [
    "from sklearn.preprocessing import MinMaxScaler\n",
    "from sklearn.ensemble import RandomForestClassifier\n",
    "\n",
    "scalerX, scalerY = MinMaxScaler(), MinMaxScaler()\n",
    "\n",
    "scaled_X = scalerX.fit_transform(X_train)\n",
    "\n",
    "clf_dave = RandomForestClassifier(max_depth=12, random_state=42, n_estimators=1000, criterion='gini')\n",
    "clf_dave.fit(X_train, y_train)\n",
    "\n",
    "score_train = clf_dave.score(X_train, y_train)\n",
    "#score_train = clf.score(X_train, y_train)\n",
    "print \"Score on training dataset:\", score_train"
   ]
  },
  {
   "cell_type": "code",
   "execution_count": null,
   "metadata": {},
   "outputs": [],
   "source": [
    "results = []\n",
    "for md in range(4, 22, 2):\n",
    "    for ne in range(100, 1100, 100):\n",
    "        clf_dave = RandomForestClassifier(max_depth=12, random_state=42, n_estimators=1000, criterion='gini')\n",
    "        clf_dave.fit(X_train, y_train)\n",
    "        score_train = clf_dave.score(X_train, y_train)\n",
    "        results.append([md, ne, score_train])"
   ]
  },
  {
   "cell_type": "code",
   "execution_count": null,
   "metadata": {},
   "outputs": [],
   "source": []
  },
  {
   "cell_type": "code",
   "execution_count": null,
   "metadata": {},
   "outputs": [],
   "source": []
  },
  {
   "cell_type": "code",
   "execution_count": null,
   "metadata": {},
   "outputs": [],
   "source": [
    "results = []\n",
    "for md in range(4, 22, 2):\n",
    "    for ne in range(100, 1100, 100):\n",
    "        clf_dave = RandomForestClassifier(max_depth=12, random_state=42, n_estimators=1000, criterion='gini')\n",
    "        clf_dave.fit(X_train, y_train)\n",
    "        score_train = clf_dave.score(X_test, y_test) \n",
    "        results.append([md, ne, score_train])"
   ]
  },
  {
   "cell_type": "code",
   "execution_count": null,
   "metadata": {},
   "outputs": [],
   "source": []
  },
  {
   "cell_type": "code",
   "execution_count": null,
   "metadata": {},
   "outputs": [],
   "source": []
  },
  {
   "cell_type": "code",
   "execution_count": null,
   "metadata": {},
   "outputs": [],
   "source": []
  },
  {
   "cell_type": "code",
   "execution_count": 9,
   "metadata": {},
   "outputs": [
    {
     "name": "stdout",
     "output_type": "stream",
     "text": [
      "Score on testing dataset: 0.584492180130914\n"
     ]
    }
   ],
   "source": [
    "score_test = clf.score(X_test, y_test)\n",
    "print \"Score on testing dataset:\", score_test"
   ]
  },
  {
   "cell_type": "code",
   "execution_count": 10,
   "metadata": {},
   "outputs": [
    {
     "data": {
      "text/plain": [
       "array([0.01219544, 0.01839741, 0.01509639, 0.04414173, 0.0188225 ,\n",
       "       0.1037373 , 0.10702569, 0.02288916, 0.1722243 , 0.31166235,\n",
       "       0.17380774])"
      ]
     },
     "execution_count": 10,
     "metadata": {},
     "output_type": "execute_result"
    }
   ],
   "source": [
    "clf.feature_importances_"
   ]
  },
  {
   "cell_type": "code",
   "execution_count": 18,
   "metadata": {},
   "outputs": [
    {
     "data": {
      "image/png": "[encoded data removed]",
      "text/plain": [
       "<Figure size 432x288 with 1 Axes>"
      ]
     },
     "metadata": {},
     "output_type": "display_data"
    }
   ],
   "source": [
    "x_=[0.01219544, 0.01839741, 0.01509639, 0.04414173, 0.0188225 ,0.1037373 , 0.10702569, 0.02288916, 0.1722243 , 0.31166235,0.17380774]\n",
    "import pylab as plt\n",
    "%matplotlib inline\n",
    "plt.figure()\n",
    "plt.plot(x_)\n",
    "plt.show()"
   ]
  },
  {
   "cell_type": "code",
   "execution_count": null,
   "metadata": {},
   "outputs": [],
   "source": []
  }
 ],
 "metadata": {
  "kernelspec": {
   "display_name": "Python 2",
   "language": "python",
   "name": "python2"
  },
  "language_info": {
   "codemirror_mode": {
    "name": "ipython",
    "version": 2
   },
   "file_extension": ".py",
   "mimetype": "text/x-python",
   "name": "python",
   "nbconvert_exporter": "python",
   "pygments_lexer": "ipython2",
   "version": "2.7.15rc1"
  }
 },
 "nbformat": 4,
 "nbformat_minor": 2
}
