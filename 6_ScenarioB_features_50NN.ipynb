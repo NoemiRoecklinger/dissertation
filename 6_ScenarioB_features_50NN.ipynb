{
 "cells": [
  {
   "cell_type": "markdown",
   "metadata": {},
   "source": [
    "# Machine Learning now"
   ]
  },
  {
   "cell_type": "code",
   "execution_count": 60,
   "metadata": {},
   "outputs": [],
   "source": [
    "import pandas as pd\n",
    "import os\n",
    "import numpy as np\n",
    "import sklearn \n",
    "import scipy.linalg as scplinag\n",
    "from sklearn.neighbors import KDTree\n",
    "from scipy.spatial import distance"
   ]
  },
  {
   "cell_type": "markdown",
   "metadata": {},
   "source": [
    "# Whole dataset and 50 NN \n",
    "\n",
    "Attributes as in Weinmann, 2013, plus relative height (Weinmann, 2014) \n",
    "\n",
    "Thingy for my 50NN dataset with scenario B. Starting file, continue with NN10, NN100"
   ]
  },
  {
   "cell_type": "code",
   "execution_count": 61,
   "metadata": {},
   "outputs": [],
   "source": [
    "# Define a data frame with all my data# Define  \n",
    "FILE_PATH = r\"../DATA\"\n",
    "FILE_PATH2 = r\"../DATA/ML_datasets/ScenarioB\"\n",
    "FILE_NAME = r\"/5_Data_ML_attributes_50NN.txt\"\n",
    "IMAGE_FILE_PATH = r\"images\"\n",
    "df = pd.read_csv(FILE_PATH+FILE_NAME, delimiter=',')\n",
    "df.rename(index=str, columns={\"range\": \"relative_height\"}, inplace = True)"
   ]
  },
  {
   "cell_type": "code",
   "execution_count": 62,
   "metadata": {},
   "outputs": [],
   "source": [
    "df2 = pd.read_csv(FILE_PATH+'/Dataset_for_ML_verticality.txt', delimiter=',')"
   ]
  },
  {
   "cell_type": "code",
   "execution_count": 63,
   "metadata": {},
   "outputs": [
    {
     "name": "stdout",
     "output_type": "stream",
     "text": [
      "Datasets have the same size\n"
     ]
    }
   ],
   "source": [
    "rows, cols = df.shape\n",
    "rows2, cols2 = df2.shape\n",
    "\n",
    "if rows != rows2:\n",
    "    print \"Warning message\"\n",
    "else:\n",
    "    print \"Datasets have the same size\""
   ]
  },
  {
   "cell_type": "code",
   "execution_count": 64,
   "metadata": {},
   "outputs": [
    {
     "data": {
      "text/html": [
       "<div>\n",
       "<style scoped>\n",
       "    .dataframe tbody tr th:only-of-type {\n",
       "        vertical-align: middle;\n",
       "    }\n",
       "\n",
       "    .dataframe tbody tr th {\n",
       "        vertical-align: top;\n",
       "    }\n",
       "\n",
       "    .dataframe thead th {\n",
       "        text-align: right;\n",
       "    }\n",
       "</style>\n",
       "<table border=\"1\" class=\"dataframe\">\n",
       "  <thead>\n",
       "    <tr style=\"text-align: right;\">\n",
       "      <th></th>\n",
       "      <th>reflectance</th>\n",
       "    </tr>\n",
       "  </thead>\n",
       "  <tbody>\n",
       "    <tr>\n",
       "      <th>0</th>\n",
       "      <td>-13.679660</td>\n",
       "    </tr>\n",
       "    <tr>\n",
       "      <th>1</th>\n",
       "      <td>-10.869660</td>\n",
       "    </tr>\n",
       "    <tr>\n",
       "      <th>2</th>\n",
       "      <td>-13.969661</td>\n",
       "    </tr>\n",
       "    <tr>\n",
       "      <th>3</th>\n",
       "      <td>-10.199661</td>\n",
       "    </tr>\n",
       "    <tr>\n",
       "      <th>4</th>\n",
       "      <td>-10.459662</td>\n",
       "    </tr>\n",
       "  </tbody>\n",
       "</table>\n",
       "</div>"
      ],
      "text/plain": [
       "   reflectance\n",
       "0   -13.679660\n",
       "1   -10.869660\n",
       "2   -13.969661\n",
       "3   -10.199661\n",
       "4   -10.459662"
      ]
     },
     "execution_count": 64,
     "metadata": {},
     "output_type": "execute_result"
    }
   ],
   "source": [
    "# Drop all columns in the df2 to only work with reflectance \n",
    "columns_to_drop = [\"X\", \"Y\", \"Z\", \"class\", \"relative_height\", \"verticality\"]\n",
    "\n",
    "for elem in columns_to_drop:\n",
    "    df2.drop([elem], axis=1, inplace=True)\n",
    "df2.head()"
   ]
  },
  {
   "cell_type": "code",
   "execution_count": 65,
   "metadata": {},
   "outputs": [],
   "source": [
    "# Add reflectance to my dataset\n",
    "df['reflectance'] = df2.iloc[:,0].values"
   ]
  },
  {
   "cell_type": "code",
   "execution_count": 66,
   "metadata": {},
   "outputs": [
    {
     "data": {
      "text/html": [
       "<div>\n",
       "<style scoped>\n",
       "    .dataframe tbody tr th:only-of-type {\n",
       "        vertical-align: middle;\n",
       "    }\n",
       "\n",
       "    .dataframe tbody tr th {\n",
       "        vertical-align: top;\n",
       "    }\n",
       "\n",
       "    .dataframe thead th {\n",
       "        text-align: right;\n",
       "    }\n",
       "</style>\n",
       "<table border=\"1\" class=\"dataframe\">\n",
       "  <thead>\n",
       "    <tr style=\"text-align: right;\">\n",
       "      <th></th>\n",
       "      <th>class</th>\n",
       "      <th>lambda1</th>\n",
       "      <th>lambda2</th>\n",
       "      <th>lambda3</th>\n",
       "      <th>lambda4</th>\n",
       "      <th>lambda5</th>\n",
       "      <th>lambda6</th>\n",
       "      <th>lambda7</th>\n",
       "      <th>lambda8</th>\n",
       "      <th>local_density</th>\n",
       "      <th>relative_height</th>\n",
       "      <th>verticality</th>\n",
       "      <th>reflectance</th>\n",
       "    </tr>\n",
       "  </thead>\n",
       "  <tbody>\n",
       "    <tr>\n",
       "      <th>0</th>\n",
       "      <td>2</td>\n",
       "      <td>0.091891</td>\n",
       "      <td>0.906582</td>\n",
       "      <td>0.001527</td>\n",
       "      <td>0.000143</td>\n",
       "      <td>0.998473</td>\n",
       "      <td>0.016431</td>\n",
       "      <td>0.002449</td>\n",
       "      <td>0.000799</td>\n",
       "      <td>5026.894441</td>\n",
       "      <td>-2.497189</td>\n",
       "      <td>0.000847</td>\n",
       "      <td>-13.679660</td>\n",
       "    </tr>\n",
       "    <tr>\n",
       "      <th>1</th>\n",
       "      <td>2</td>\n",
       "      <td>0.091891</td>\n",
       "      <td>0.906582</td>\n",
       "      <td>0.001527</td>\n",
       "      <td>0.000143</td>\n",
       "      <td>0.998473</td>\n",
       "      <td>0.016431</td>\n",
       "      <td>0.002449</td>\n",
       "      <td>0.000799</td>\n",
       "      <td>5919.450657</td>\n",
       "      <td>-2.498982</td>\n",
       "      <td>0.000847</td>\n",
       "      <td>-10.869660</td>\n",
       "    </tr>\n",
       "    <tr>\n",
       "      <th>2</th>\n",
       "      <td>2</td>\n",
       "      <td>0.091891</td>\n",
       "      <td>0.906582</td>\n",
       "      <td>0.001527</td>\n",
       "      <td>0.000143</td>\n",
       "      <td>0.998473</td>\n",
       "      <td>0.016431</td>\n",
       "      <td>0.002449</td>\n",
       "      <td>0.000799</td>\n",
       "      <td>6452.219916</td>\n",
       "      <td>-2.498448</td>\n",
       "      <td>0.000847</td>\n",
       "      <td>-13.969661</td>\n",
       "    </tr>\n",
       "    <tr>\n",
       "      <th>3</th>\n",
       "      <td>2</td>\n",
       "      <td>0.303962</td>\n",
       "      <td>0.694588</td>\n",
       "      <td>0.001450</td>\n",
       "      <td>0.000140</td>\n",
       "      <td>0.998550</td>\n",
       "      <td>0.015981</td>\n",
       "      <td>0.002376</td>\n",
       "      <td>0.000854</td>\n",
       "      <td>7348.980491</td>\n",
       "      <td>-2.500576</td>\n",
       "      <td>0.000847</td>\n",
       "      <td>-10.199661</td>\n",
       "    </tr>\n",
       "    <tr>\n",
       "      <th>4</th>\n",
       "      <td>2</td>\n",
       "      <td>0.329116</td>\n",
       "      <td>0.669345</td>\n",
       "      <td>0.001539</td>\n",
       "      <td>0.000147</td>\n",
       "      <td>0.998461</td>\n",
       "      <td>0.016326</td>\n",
       "      <td>0.002438</td>\n",
       "      <td>0.000920</td>\n",
       "      <td>9432.417831</td>\n",
       "      <td>-2.500191</td>\n",
       "      <td>0.000902</td>\n",
       "      <td>-10.459662</td>\n",
       "    </tr>\n",
       "  </tbody>\n",
       "</table>\n",
       "</div>"
      ],
      "text/plain": [
       "   class   lambda1   lambda2   lambda3   lambda4   lambda5   lambda6  \\\n",
       "0      2  0.091891  0.906582  0.001527  0.000143  0.998473  0.016431   \n",
       "1      2  0.091891  0.906582  0.001527  0.000143  0.998473  0.016431   \n",
       "2      2  0.091891  0.906582  0.001527  0.000143  0.998473  0.016431   \n",
       "3      2  0.303962  0.694588  0.001450  0.000140  0.998550  0.015981   \n",
       "4      2  0.329116  0.669345  0.001539  0.000147  0.998461  0.016326   \n",
       "\n",
       "    lambda7   lambda8  local_density  relative_height  verticality  \\\n",
       "0  0.002449  0.000799    5026.894441        -2.497189     0.000847   \n",
       "1  0.002449  0.000799    5919.450657        -2.498982     0.000847   \n",
       "2  0.002449  0.000799    6452.219916        -2.498448     0.000847   \n",
       "3  0.002376  0.000854    7348.980491        -2.500576     0.000847   \n",
       "4  0.002438  0.000920    9432.417831        -2.500191     0.000902   \n",
       "\n",
       "   reflectance  \n",
       "0   -13.679660  \n",
       "1   -10.869660  \n",
       "2   -13.969661  \n",
       "3   -10.199661  \n",
       "4   -10.459662  "
      ]
     },
     "execution_count": 66,
     "metadata": {},
     "output_type": "execute_result"
    }
   ],
   "source": [
    "# Now delete all unnecessary stuff  \n",
    "columns_to_drop = [\"X\", \"Y\", \"Z\", \"radius_neighbourhood\"]\n",
    "\n",
    "for elem in columns_to_drop:\n",
    "    df.drop([elem], axis=1, inplace=True)\n",
    "df.head()"
   ]
  },
  {
   "cell_type": "markdown",
   "metadata": {},
   "source": [
    "### I have made a mistake with the class names, therefore I need to re-name them now\n",
    "\n",
    "In the file 3_CreateFinalClasses, I did not change the names of the classes properly. Therefore, I will have to re-name them now. \n",
    "\n",
    "Manually, not to confuse it."
   ]
  },
  {
   "cell_type": "code",
   "execution_count": 67,
   "metadata": {},
   "outputs": [],
   "source": [
    "# Road (second most points)\n",
    "df[\"class\"].where(df[\"class\"] != 2, 1, inplace=True)\n",
    "# Sidewalk\n",
    "df[\"class\"].where(df[\"class\"] != 3, 2, inplace=True)\n",
    "# Curb\n",
    "df[\"class\"].where(df[\"class\"] != 4, 3, inplace=True)\n",
    "# Building (most points)\n",
    "df[\"class\"].where(df[\"class\"] != 5, 4, inplace=True)\n",
    "# Other pole like objects\n",
    "df[\"class\"].where(df[\"class\"] != 6, 5, inplace=True)\n",
    "# Small poles\n",
    "df[\"class\"].where(df[\"class\"] != 7, 6, inplace=True)\n",
    "# Pedestrians\n",
    "df[\"class\"].where(df[\"class\"] != 11, 7, inplace=True)\n",
    "# 2 wheelers\n",
    "df[\"class\"].where(df[\"class\"] != 12, 8, inplace=True)\n",
    "# 4 wheelers\n",
    "df[\"class\"].where(df[\"class\"] != 13, 9, inplace=True)\n",
    "# Trees\n",
    "df[\"class\"].where(df[\"class\"] != 14, 10, inplace=True)\n",
    "# Potted plants\n",
    "df[\"class\"].where(df[\"class\"] != 15, 11, inplace=True)"
   ]
  },
  {
   "cell_type": "code",
   "execution_count": 68,
   "metadata": {},
   "outputs": [],
   "source": [
    "df.to_csv(FILE_PATH2+'/ML_dataset_50NN_reflectance.txt', index= False)"
   ]
  },
  {
   "cell_type": "code",
   "execution_count": 69,
   "metadata": {},
   "outputs": [],
   "source": [
    "# Clean variables I domnt need right now\n",
    "df = None\n",
    "corr_matrix = None\n",
    "X = None\n",
    "y = None\n",
    "data = None "
   ]
  },
  {
   "cell_type": "code",
   "execution_count": null,
   "metadata": {},
   "outputs": [],
   "source": []
  }
 ],
 "metadata": {
  "kernelspec": {
   "display_name": "Python 2",
   "language": "python",
   "name": "python2"
  },
  "language_info": {
   "codemirror_mode": {
    "name": "ipython",
    "version": 2
   },
   "file_extension": ".py",
   "mimetype": "text/x-python",
   "name": "python",
   "nbconvert_exporter": "python",
   "pygments_lexer": "ipython2",
   "version": "2.7.15rc1"
  }
 },
 "nbformat": 4,
 "nbformat_minor": 2
}
