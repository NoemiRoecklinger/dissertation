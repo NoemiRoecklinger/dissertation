{
 "cells": [
  {
   "cell_type": "markdown",
   "metadata": {},
   "source": [
    "# New classification\n",
    "\n",
    "This is my final classifications, with th optimised RF I determined before\n",
    "\n",
    "Now, I will only use td = 12 and 100 trees "
   ]
  },
  {
   "cell_type": "code",
   "execution_count": 3,
   "metadata": {},
   "outputs": [],
   "source": [
    "import numpy as np\n",
    "import sklearn \n",
    "from sklearn.neighbors import KDTree\n",
    "import time\n",
    "from sklearn import metrics\n",
    "import pandas as pd\n",
    "from sklearn.externals import joblib\n",
    "from sklearn.ensemble import RandomForestClassifier"
   ]
  },
  {
   "cell_type": "markdown",
   "metadata": {},
   "source": [
    "Try first with the initial dataset, i.e. only the geometric features and following Weinmann 2014 \n",
    "\n",
    "No reflectance and no multi-scale features "
   ]
  },
  {
   "cell_type": "code",
   "execution_count": 4,
   "metadata": {},
   "outputs": [],
   "source": [
    "# Define a data frame with all my data# Define  \n",
    "FILE_PATH = r\"../DATA\"\n",
    "FILE_PATH_ScenarioB = r\"../DATA/ML_datasets/ScenarioB\"\n",
    "\n",
    "# Training data\n",
    "# use the sub-sampled dataset with only 3000 instances\n",
    "y_train = np.loadtxt(FILE_PATH_ScenarioB+'/y_train.txt', delimiter=',')\n",
    "X_train = np.loadtxt(FILE_PATH_ScenarioB+'/X_train.txt', delimiter=',')\n",
    "\n",
    "# Testing data\n",
    "y_test = np.loadtxt(FILE_PATH_ScenarioB+'/y_test.txt', delimiter=',')\n",
    "X_test = np.loadtxt(FILE_PATH_ScenarioB+'/X_test.txt', delimiter=',')"
   ]
  },
  {
   "cell_type": "code",
   "execution_count": 5,
   "metadata": {},
   "outputs": [],
   "source": [
    "# For RF classifier \n",
    "y_train = y_train.astype('float32')\n",
    "X_train = X_train.astype('float32')\n",
    "y_test = y_test.astype('float32')\n",
    "X_test = X_test.astype('float32')"
   ]
  },
  {
   "cell_type": "code",
   "execution_count": 7,
   "metadata": {},
   "outputs": [
    {
     "data": {
      "text/plain": [
       "(8841835,)"
      ]
     },
     "execution_count": 7,
     "metadata": {},
     "output_type": "execute_result"
    }
   ],
   "source": [
    "y_train.shape"
   ]
  },
  {
   "cell_type": "code",
   "execution_count": 8,
   "metadata": {},
   "outputs": [
    {
     "data": {
      "text/plain": [
       "(8841835, 32)"
      ]
     },
     "execution_count": 8,
     "metadata": {},
     "output_type": "execute_result"
    }
   ],
   "source": [
    "X_train.shape"
   ]
  },
  {
   "cell_type": "markdown",
   "metadata": {},
   "source": [
    "### Downsampling\n",
    "Here, the smallest class is determined and all other classes are downsampled accordingly"
   ]
  },
  {
   "cell_type": "code",
   "execution_count": 9,
   "metadata": {},
   "outputs": [],
   "source": [
    "# Create an empty matrix and fill it with the features and then label at the end \n",
    "M = np.zeros((X_train.shape[0], X_train.shape[1]+1))\n",
    "M[:,-1]=y_train\n",
    "M[:,:32] = X_train"
   ]
  },
  {
   "cell_type": "code",
   "execution_count": 10,
   "metadata": {},
   "outputs": [],
   "source": [
    "LOT_classes = range(1,12)\n",
    "smallest_class_value = 3000"
   ]
  },
  {
   "cell_type": "code",
   "execution_count": 11,
   "metadata": {},
   "outputs": [],
   "source": [
    "y_train = None\n",
    "X_train = None"
   ]
  },
  {
   "cell_type": "code",
   "execution_count": 12,
   "metadata": {},
   "outputs": [],
   "source": [
    "data = []\n",
    "for class_label in LOT_classes:\n",
    "    N = M[np.where(M[:,-1]==class_label)]\n",
    "    S = N[:smallest_class_value,:]\n",
    "    data.append(S)"
   ]
  },
  {
   "cell_type": "code",
   "execution_count": 13,
   "metadata": {},
   "outputs": [
    {
     "name": "stdout",
     "output_type": "stream",
     "text": [
      "Dimensions of array of all data (11, 3000, 33)\n"
     ]
    }
   ],
   "source": [
    "data_array = np.array(data)\n",
    "print \"Dimensions of array of all data\", data_array.shape"
   ]
  },
  {
   "cell_type": "code",
   "execution_count": 14,
   "metadata": {},
   "outputs": [],
   "source": [
    "data = data_array.reshape((data_array.shape[0] *smallest_class_value, data_array.shape[2]))"
   ]
  },
  {
   "cell_type": "code",
   "execution_count": 15,
   "metadata": {},
   "outputs": [
    {
     "name": "stdout",
     "output_type": "stream",
     "text": [
      "Real shape for the training data (33000, 33)\n"
     ]
    }
   ],
   "source": [
    "print \"Real shape for the training data\", data.shape"
   ]
  },
  {
   "cell_type": "code",
   "execution_count": 16,
   "metadata": {},
   "outputs": [
    {
     "name": "stdout",
     "output_type": "stream",
     "text": [
      "First instance before shuffling: [ 2.37521663e-01  7.61425734e-01  1.05262187e-03  7.16051436e-05\n",
      "  9.98947382e-01  9.90549661e-03  1.35881605e-03  5.96883125e-04\n",
      "  9.88581250e+04 -2.42687893e+00  6.59000012e-04 -5.26976204e+00\n",
      "  9.94913757e-01  4.18876624e-03  8.97496298e-04  3.12984275e-06\n",
      "  9.99102533e-01  1.63390953e-03  1.89802973e-04  8.92157841e-04\n",
      "  1.91216891e+05  6.59000012e-04  1.30476192e-01  8.68927419e-01\n",
      "  5.96398197e-04  1.22814046e-04  9.99403596e-01  1.87270232e-02\n",
      "  2.85876379e-03  3.18909035e-04  5.69240703e+04  6.59000012e-04\n",
      "  1.00000000e+00]\n"
     ]
    }
   ],
   "source": [
    "print \"First instance before shuffling:\", data[0]"
   ]
  },
  {
   "cell_type": "code",
   "execution_count": 17,
   "metadata": {},
   "outputs": [],
   "source": [
    "np.random.shuffle(data)"
   ]
  },
  {
   "cell_type": "code",
   "execution_count": 18,
   "metadata": {},
   "outputs": [
    {
     "name": "stdout",
     "output_type": "stream",
     "text": [
      "First instance after shuffling: [ 6.19168460e-01  3.52394611e-01  2.84369085e-02  7.65234698e-04\n",
      "  9.71563101e-01  2.92439461e-02  4.87434911e-03  2.01784894e-02\n",
      "  7.85483838e+03 -8.77040982e-01  8.40667009e-01 -4.87957811e+00\n",
      "  9.04675424e-01  9.52760875e-02  4.84886223e-05  1.20184613e-05\n",
      "  9.99951482e-01  5.87923266e-03  7.90307357e-04  4.42667661e-05\n",
      "  2.20098164e+04  8.40667009e-01  6.04926765e-01  3.33855003e-01\n",
      "  6.12182580e-02  1.90677587e-03  9.38781738e-01  5.17647676e-02\n",
      "  9.60200094e-03  4.20370921e-02  5.66589502e+03  8.40667009e-01\n",
      "  7.00000000e+00]\n"
     ]
    }
   ],
   "source": [
    "print \"First instance after shuffling:\", data[0]"
   ]
  },
  {
   "cell_type": "code",
   "execution_count": 20,
   "metadata": {},
   "outputs": [],
   "source": [
    "# Save all my data as NUMPY arrays\n",
    "# To load them later\n",
    "# np.loadtxt()\n",
    "np.savetxt(FILE_PATH_ScenarioB+'/y_train_3000samples.txt', data[:,-1], delimiter=',')\n",
    "np.savetxt(FILE_PATH_ScenarioB+'/X_train_3000samples.txt', data[:,:32], delimiter=',')"
   ]
  },
  {
   "cell_type": "code",
   "execution_count": 22,
   "metadata": {},
   "outputs": [],
   "source": [
    "X_train = data[:,:32]\n",
    "y_train = data[:,-1]"
   ]
  },
  {
   "cell_type": "markdown",
   "metadata": {},
   "source": [
    "## Classification goes here"
   ]
  },
  {
   "cell_type": "code",
   "execution_count": 25,
   "metadata": {},
   "outputs": [
    {
     "data": {
      "text/plain": [
       "RandomForestClassifier(bootstrap=True, class_weight=None, criterion='gini',\n",
       "            max_depth=12, max_features='auto', max_leaf_nodes=None,\n",
       "            min_impurity_decrease=0.0, min_impurity_split=None,\n",
       "            min_samples_leaf=1, min_samples_split=2,\n",
       "            min_weight_fraction_leaf=0.0, n_estimators=100, n_jobs=1,\n",
       "            oob_score=False, random_state=42, verbose=0, warm_start=False)"
      ]
     },
     "execution_count": 25,
     "metadata": {},
     "output_type": "execute_result"
    }
   ],
   "source": [
    "clf = RandomForestClassifier(max_depth=12, random_state=42, n_estimators=100, criterion='gini')\n",
    "clf.fit(X_train, y_train)"
   ]
  },
  {
   "cell_type": "code",
   "execution_count": 26,
   "metadata": {},
   "outputs": [],
   "source": [
    "# Make predictions for the unseen dataset \n",
    "predictions = clf.predict(X_test)"
   ]
  },
  {
   "cell_type": "markdown",
   "metadata": {},
   "source": [
    "## Evaluate now"
   ]
  },
  {
   "cell_type": "code",
   "execution_count": 27,
   "metadata": {},
   "outputs": [
    {
     "name": "stdout",
     "output_type": "stream",
     "text": [
      "Train score: 92.96969696969697\n",
      "Test score 87.2917344316271\n"
     ]
    }
   ],
   "source": [
    "# This is my overall accuracy again \n",
    "score_train = clf.score(X_train, y_train)\n",
    "score_test = clf.score(X_test, y_test)\n",
    "\n",
    "print \"Train score:\", score_train*100\n",
    "print \"Test score\", score_test*100"
   ]
  },
  {
   "cell_type": "code",
   "execution_count": 28,
   "metadata": {},
   "outputs": [
    {
     "name": "stdout",
     "output_type": "stream",
     "text": [
      "F1 0.9059708449682049\n",
      "recall 0.872917344316271\n",
      "precision 0.9567681252638054\n"
     ]
    }
   ],
   "source": [
    "# Now precision, recall and F1 score\n",
    "\n",
    "from sklearn.metrics import f1_score\n",
    "from sklearn.metrics import precision_score\n",
    "from sklearn.metrics import recall_score\n",
    "\n",
    "\n",
    "f1 = f1_score(y_test, predictions, average=\"weighted\")\n",
    "rec = recall_score(y_test, predictions, average=\"weighted\")\n",
    "prec = precision_score(y_test, predictions, average=\"weighted\")\n",
    "\n",
    "print \"F1\", f1\n",
    "print \"recall\", rec\n",
    "print \"precision\", prec"
   ]
  },
  {
   "cell_type": "markdown",
   "metadata": {},
   "source": [
    "# Now look at feature importance"
   ]
  },
  {
   "cell_type": "code",
   "execution_count": 29,
   "metadata": {},
   "outputs": [
    {
     "data": {
      "text/plain": [
       "array([0.01872437, 0.01588141, 0.02332016, 0.03545242, 0.02051893,\n",
       "       0.03035944, 0.02247942, 0.01841203, 0.01810529, 0.17571475,\n",
       "       0.04583188, 0.07453352, 0.00718979, 0.00701451, 0.00853622,\n",
       "       0.01221252, 0.00773058, 0.03392443, 0.03087704, 0.00744519,\n",
       "       0.02408856, 0.0419118 , 0.03659383, 0.0428953 , 0.0268578 ,\n",
       "       0.04497004, 0.02390753, 0.0265202 , 0.01795316, 0.0391778 ,\n",
       "       0.01992965, 0.04093045])"
      ]
     },
     "execution_count": 29,
     "metadata": {},
     "output_type": "execute_result"
    }
   ],
   "source": [
    "clf.feature_importances_"
   ]
  },
  {
   "cell_type": "code",
   "execution_count": null,
   "metadata": {},
   "outputs": [],
   "source": []
  },
  {
   "cell_type": "code",
   "execution_count": 35,
   "metadata": {},
   "outputs": [],
   "source": [
    "LUT = ['lambda1_50NN', 'lambda2_50NN', 'lambda3_50NN', 'lambda4_50NN', 'lambda5_50NN', 'lambda6_50NN', \n",
    "       'lambda7_50NN', 'lambda8_50NN', 'local_density_50NN', 'relative_height', 'verticality_50NN', 'reflectance',\n",
    "       'lambda1_10NN', 'lambda2_10NN', 'lambda3_10NN', 'lambda4_10NN', \n",
    "       'lambda5_10NN', 'lambda6_10NN', 'lambda7_10NN', 'lambda8_10NN', \n",
    "       'local_density_10NN', 'verticality_10NN', 'lambda1_100NN', 'lambda2_100NN', \n",
    "       'lambda3_100NN', 'lambda4_100NN', 'lambda5_100NN', 'lambda6_100NN', 'lambda7_100NN', \n",
    "       'lambda8_100NN', 'local_density_100NN', 'verticality_100NN']"
   ]
  },
  {
   "cell_type": "code",
   "execution_count": 39,
   "metadata": {},
   "outputs": [
    {
     "name": "stdout",
     "output_type": "stream",
     "text": [
      "lambda1_50NN ...... 0.018724366109968225\n",
      "lambda2_50NN ...... 0.0158814114421993\n",
      "lambda3_50NN ...... 0.023320164084566\n",
      "lambda4_50NN ...... 0.03545242464925262\n",
      "lambda5_50NN ...... 0.02051893027127213\n",
      "lambda6_50NN ...... 0.0303594351893421\n",
      "lambda7_50NN ...... 0.022479418272067276\n",
      "lambda8_50NN ...... 0.018412028309152263\n",
      "local_density_50NN ...... 0.018105285494998822\n",
      "relative_height ...... 0.1757147475403239\n",
      "verticality_50NN ...... 0.04583188207431006\n",
      "reflectance ...... 0.07453351681367468\n",
      "lambda1_10NN ...... 0.007189785303982126\n",
      "lambda2_10NN ...... 0.007014511331702433\n",
      "lambda3_10NN ...... 0.008536217901922251\n",
      "lambda4_10NN ...... 0.012212516211419201\n",
      "lambda5_10NN ...... 0.00773057543811287\n",
      "lambda6_10NN ...... 0.033924425205845474\n",
      "lambda7_10NN ...... 0.030877042241055853\n",
      "lambda8_10NN ...... 0.00744518883729249\n",
      "local_density_10NN ...... 0.024088558178450983\n",
      "verticality_10NN ...... 0.04191180471682323\n",
      "lambda1_100NN ...... 0.03659383327599171\n",
      "lambda2_100NN ...... 0.042895298968910006\n",
      "lambda3_100NN ...... 0.026857795898603435\n",
      "lambda4_100NN ...... 0.04497004081066416\n",
      "lambda5_100NN ...... 0.023907531037736924\n",
      "lambda6_100NN ...... 0.026520200253112667\n",
      "lambda7_100NN ...... 0.01795315726591377\n",
      "lambda8_100NN ...... 0.03917780166953432\n",
      "local_density_100NN ...... 0.019929654898477617\n",
      "verticality_100NN ...... 0.04093045030332112\n"
     ]
    }
   ],
   "source": [
    "list_importance = []\n",
    "for count, elem in enumerate(LUT):\n",
    "    list_importance.append([elem,clf.feature_importances_[count]])\n",
    "    print elem, \"......\", clf.feature_importances_[count]"
   ]
  },
  {
   "cell_type": "code",
   "execution_count": 40,
   "metadata": {},
   "outputs": [
    {
     "name": "stdout",
     "output_type": "stream",
     "text": [
      "[['lambda1_50NN', 0.018724366109968225], ['lambda2_50NN', 0.0158814114421993], ['lambda3_50NN', 0.023320164084566], ['lambda4_50NN', 0.03545242464925262], ['lambda5_50NN', 0.02051893027127213], ['lambda6_50NN', 0.0303594351893421], ['lambda7_50NN', 0.022479418272067276], ['lambda8_50NN', 0.018412028309152263], ['local_density_50NN', 0.018105285494998822], ['relative_height', 0.1757147475403239], ['verticality_50NN', 0.04583188207431006], ['reflectance', 0.07453351681367468], ['lambda1_10NN', 0.007189785303982126], ['lambda2_10NN', 0.007014511331702433], ['lambda3_10NN', 0.008536217901922251], ['lambda4_10NN', 0.012212516211419201], ['lambda5_10NN', 0.00773057543811287], ['lambda6_10NN', 0.033924425205845474], ['lambda7_10NN', 0.030877042241055853], ['lambda8_10NN', 0.00744518883729249], ['local_density_10NN', 0.024088558178450983], ['verticality_10NN', 0.04191180471682323], ['lambda1_100NN', 0.03659383327599171], ['lambda2_100NN', 0.042895298968910006], ['lambda3_100NN', 0.026857795898603435], ['lambda4_100NN', 0.04497004081066416], ['lambda5_100NN', 0.023907531037736924], ['lambda6_100NN', 0.026520200253112667], ['lambda7_100NN', 0.01795315726591377], ['lambda8_100NN', 0.03917780166953432], ['local_density_100NN', 0.019929654898477617], ['verticality_100NN', 0.04093045030332112]]\n"
     ]
    }
   ],
   "source": [
    "print list_importance"
   ]
  },
  {
   "cell_type": "code",
   "execution_count": null,
   "metadata": {},
   "outputs": [],
   "source": []
  },
  {
   "cell_type": "code",
   "execution_count": null,
   "metadata": {},
   "outputs": [],
   "source": []
  },
  {
   "cell_type": "code",
   "execution_count": 42,
   "metadata": {},
   "outputs": [
    {
     "data": {
      "text/plain": [
       "[['lambda2_10NN', 0.007014511331702433],\n",
       " ['lambda1_10NN', 0.007189785303982126],\n",
       " ['lambda8_10NN', 0.00744518883729249],\n",
       " ['lambda5_10NN', 0.00773057543811287],\n",
       " ['lambda3_10NN', 0.008536217901922251],\n",
       " ['lambda4_10NN', 0.012212516211419201],\n",
       " ['lambda2_50NN', 0.0158814114421993],\n",
       " ['lambda7_100NN', 0.01795315726591377],\n",
       " ['local_density_50NN', 0.018105285494998822],\n",
       " ['lambda8_50NN', 0.018412028309152263],\n",
       " ['lambda1_50NN', 0.018724366109968225],\n",
       " ['local_density_100NN', 0.019929654898477617],\n",
       " ['lambda5_50NN', 0.02051893027127213],\n",
       " ['lambda7_50NN', 0.022479418272067276],\n",
       " ['lambda3_50NN', 0.023320164084566],\n",
       " ['lambda5_100NN', 0.023907531037736924],\n",
       " ['local_density_10NN', 0.024088558178450983],\n",
       " ['lambda6_100NN', 0.026520200253112667],\n",
       " ['lambda3_100NN', 0.026857795898603435],\n",
       " ['lambda6_50NN', 0.0303594351893421],\n",
       " ['lambda7_10NN', 0.030877042241055853],\n",
       " ['lambda6_10NN', 0.033924425205845474],\n",
       " ['lambda4_50NN', 0.03545242464925262],\n",
       " ['lambda1_100NN', 0.03659383327599171],\n",
       " ['lambda8_100NN', 0.03917780166953432],\n",
       " ['verticality_100NN', 0.04093045030332112],\n",
       " ['verticality_10NN', 0.04191180471682323],\n",
       " ['lambda2_100NN', 0.042895298968910006],\n",
       " ['lambda4_100NN', 0.04497004081066416],\n",
       " ['verticality_50NN', 0.04583188207431006],\n",
       " ['reflectance', 0.07453351681367468],\n",
       " ['relative_height', 0.1757147475403239]]"
      ]
     },
     "execution_count": 42,
     "metadata": {},
     "output_type": "execute_result"
    }
   ],
   "source": [
    "from operator import itemgetter    \n",
    "sorted(list_importance, key=itemgetter(1))"
   ]
  },
  {
   "cell_type": "code",
   "execution_count": 43,
   "metadata": {},
   "outputs": [],
   "source": [
    "list_to_export = sorted(list_importance, key=itemgetter(1))"
   ]
  },
  {
   "cell_type": "code",
   "execution_count": 51,
   "metadata": {},
   "outputs": [],
   "source": [
    "File = open(FILE_PATH_ScenarioB+'/testFile','w')\n",
    "File.write(str(list_to_export))\n",
    "File.close()"
   ]
  },
  {
   "cell_type": "code",
   "execution_count": 52,
   "metadata": {},
   "outputs": [],
   "source": [
    "import pylab as plt"
   ]
  },
  {
   "cell_type": "code",
   "execution_count": 58,
   "metadata": {},
   "outputs": [
    {
     "data": {
      "text/plain": [
       "['lambda1_10NN', 0.007189785303982126]"
      ]
     },
     "execution_count": 58,
     "metadata": {},
     "output_type": "execute_result"
    }
   ],
   "source": [
    "list_to_export[:][1]"
   ]
  },
  {
   "cell_type": "code",
   "execution_count": 62,
   "metadata": {},
   "outputs": [],
   "source": [
    "list_sorted_accuracies = []\n",
    "for i in range(0,len(list_to_export)):\n",
    "    list_sorted_accuracies.append(list_to_export[i][1])"
   ]
  },
  {
   "cell_type": "code",
   "execution_count": null,
   "metadata": {},
   "outputs": [],
   "source": []
  },
  {
   "cell_type": "code",
   "execution_count": 59,
   "metadata": {},
   "outputs": [
    {
     "data": {
      "text/plain": [
       "32"
      ]
     },
     "execution_count": 59,
     "metadata": {},
     "output_type": "execute_result"
    }
   ],
   "source": [
    "len(list_to_export)"
   ]
  },
  {
   "cell_type": "code",
   "execution_count": 63,
   "metadata": {},
   "outputs": [
    {
     "name": "stdout",
     "output_type": "stream",
     "text": [
      "[0.007014511331702433, 0.007189785303982126, 0.00744518883729249, 0.00773057543811287, 0.008536217901922251, 0.012212516211419201, 0.0158814114421993, 0.01795315726591377, 0.018105285494998822, 0.018412028309152263, 0.018724366109968225, 0.019929654898477617, 0.02051893027127213, 0.022479418272067276, 0.023320164084566, 0.023907531037736924, 0.024088558178450983, 0.026520200253112667, 0.026857795898603435, 0.0303594351893421, 0.030877042241055853, 0.033924425205845474, 0.03545242464925262, 0.03659383327599171, 0.03917780166953432, 0.04093045030332112, 0.04191180471682323, 0.042895298968910006, 0.04497004081066416, 0.04583188207431006, 0.07453351681367468, 0.1757147475403239]\n"
     ]
    }
   ],
   "source": [
    "print list_sorted_accuracies"
   ]
  },
  {
   "cell_type": "code",
   "execution_count": 77,
   "metadata": {},
   "outputs": [
    {
     "data": {
      "image/png": "[encoded data removed]",
      "text/plain": [
       "<Figure size 432x288 with 1 Axes>"
      ]
     },
     "metadata": {},
     "output_type": "display_data"
    }
   ],
   "source": [
    "plt.plot(range(0,30),list_2,'r*')\n",
    "plt.show();"
   ]
  },
  {
   "cell_type": "code",
   "execution_count": 68,
   "metadata": {},
   "outputs": [],
   "source": [
    "list_sorted_accuraciesNP = np.array(list_sorted_accuracies)"
   ]
  },
  {
   "cell_type": "code",
   "execution_count": 73,
   "metadata": {},
   "outputs": [],
   "source": [
    "list_2 = [0.007014511331702433, 0.007189785303982126, 0.00744518883729249, 0.00773057543811287, 0.008536217901922251, 0.012212516211419201, 0.0158814114421993, 0.01795315726591377, 0.018105285494998822, 0.018412028309152263, 0.018724366109968225, 0.019929654898477617, 0.02051893027127213, 0.022479418272067276, 0.023320164084566, 0.023907531037736924, 0.024088558178450983, 0.026520200253112667, 0.026857795898603435, 0.0303594351893421, 0.030877042241055853, 0.033924425205845474, 0.03545242464925262, 0.03659383327599171, 0.03917780166953432, 0.04093045030332112, 0.04191180471682323, 0.042895298968910006, 0.04497004081066416, 0.04583188207431006]"
   ]
  },
  {
   "cell_type": "code",
   "execution_count": 74,
   "metadata": {},
   "outputs": [
    {
     "data": {
      "text/plain": [
       "list"
      ]
     },
     "execution_count": 74,
     "metadata": {},
     "output_type": "execute_result"
    }
   ],
   "source": [
    "type(list_2)"
   ]
  },
  {
   "cell_type": "markdown",
   "metadata": {},
   "source": [
    "# This will be scenario C"
   ]
  },
  {
   "cell_type": "code",
   "execution_count": null,
   "metadata": {},
   "outputs": [],
   "source": []
  }
 ],
 "metadata": {
  "kernelspec": {
   "display_name": "Python 2",
   "language": "python",
   "name": "python2"
  },
  "language_info": {
   "codemirror_mode": {
    "name": "ipython",
    "version": 2
   },
   "file_extension": ".py",
   "mimetype": "text/x-python",
   "name": "python",
   "nbconvert_exporter": "python",
   "pygments_lexer": "ipython2",
   "version": "2.7.15rc1"
  }
 },
 "nbformat": 4,
 "nbformat_minor": 2
}
