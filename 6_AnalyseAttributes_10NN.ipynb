{
 "cells": [
  {
   "cell_type": "markdown",
   "metadata": {},
   "source": [
    "# Machine Learning now"
   ]
  },
  {
   "cell_type": "code",
   "execution_count": 120,
   "metadata": {},
   "outputs": [],
   "source": [
    "import pandas as pd\n",
    "import os\n",
    "import numpy as np\n",
    "import sklearn \n",
    "import scipy.linalg as scplinag\n",
    "from sklearn.neighbors import KDTree\n",
    "from scipy.spatial import distance\n",
    "import matplotlib.pyplot as plt\n",
    "from pandas.plotting import scatter_matrix"
   ]
  },
  {
   "cell_type": "code",
   "execution_count": 121,
   "metadata": {},
   "outputs": [],
   "source": [
    "%matplotlib inline"
   ]
  },
  {
   "cell_type": "markdown",
   "metadata": {},
   "source": [
    "# Whole dataset and 10 NN \n",
    "\n",
    "Attributes as in Weinmann, 2013, plus relative height (Weinmann, 2014) "
   ]
  },
  {
   "cell_type": "code",
   "execution_count": 122,
   "metadata": {},
   "outputs": [
    {
     "data": {
      "text/html": [
       "<div>\n",
       "<style scoped>\n",
       "    .dataframe tbody tr th:only-of-type {\n",
       "        vertical-align: middle;\n",
       "    }\n",
       "\n",
       "    .dataframe tbody tr th {\n",
       "        vertical-align: top;\n",
       "    }\n",
       "\n",
       "    .dataframe thead th {\n",
       "        text-align: right;\n",
       "    }\n",
       "</style>\n",
       "<table border=\"1\" class=\"dataframe\">\n",
       "  <thead>\n",
       "    <tr style=\"text-align: right;\">\n",
       "      <th></th>\n",
       "      <th>X</th>\n",
       "      <th>Y</th>\n",
       "      <th>Z</th>\n",
       "      <th>class</th>\n",
       "      <th>lambda1</th>\n",
       "      <th>lambda2</th>\n",
       "      <th>lambda3</th>\n",
       "      <th>lambda4</th>\n",
       "      <th>lambda5</th>\n",
       "      <th>lambda6</th>\n",
       "      <th>lambda7</th>\n",
       "      <th>lambda8</th>\n",
       "      <th>local_density</th>\n",
       "      <th>radius_neighbourhood</th>\n",
       "      <th>relative_height</th>\n",
       "      <th>verticality</th>\n",
       "    </tr>\n",
       "  </thead>\n",
       "  <tbody>\n",
       "    <tr>\n",
       "      <th>0</th>\n",
       "      <td>1905.494751</td>\n",
       "      <td>21122.037109</td>\n",
       "      <td>38.884586</td>\n",
       "      <td>2</td>\n",
       "      <td>0.189010</td>\n",
       "      <td>0.808544</td>\n",
       "      <td>0.002447</td>\n",
       "      <td>0.000028</td>\n",
       "      <td>0.997553</td>\n",
       "      <td>0.003467</td>\n",
       "      <td>0.000408</td>\n",
       "      <td>0.001349</td>\n",
       "      <td>25877.928393</td>\n",
       "      <td>0.046644</td>\n",
       "      <td>-2.497189</td>\n",
       "      <td>0.000847</td>\n",
       "    </tr>\n",
       "    <tr>\n",
       "      <th>1</th>\n",
       "      <td>1905.502930</td>\n",
       "      <td>21122.035156</td>\n",
       "      <td>38.883110</td>\n",
       "      <td>2</td>\n",
       "      <td>0.189010</td>\n",
       "      <td>0.808544</td>\n",
       "      <td>0.002447</td>\n",
       "      <td>0.000028</td>\n",
       "      <td>0.997553</td>\n",
       "      <td>0.003467</td>\n",
       "      <td>0.000408</td>\n",
       "      <td>0.001349</td>\n",
       "      <td>46635.546755</td>\n",
       "      <td>0.038329</td>\n",
       "      <td>-2.498982</td>\n",
       "      <td>0.000847</td>\n",
       "    </tr>\n",
       "    <tr>\n",
       "      <th>2</th>\n",
       "      <td>1905.512939</td>\n",
       "      <td>21122.033203</td>\n",
       "      <td>38.883949</td>\n",
       "      <td>2</td>\n",
       "      <td>0.189010</td>\n",
       "      <td>0.808544</td>\n",
       "      <td>0.002447</td>\n",
       "      <td>0.000028</td>\n",
       "      <td>0.997553</td>\n",
       "      <td>0.003467</td>\n",
       "      <td>0.000408</td>\n",
       "      <td>0.001349</td>\n",
       "      <td>75836.463465</td>\n",
       "      <td>0.032594</td>\n",
       "      <td>-2.498448</td>\n",
       "      <td>0.000847</td>\n",
       "    </tr>\n",
       "    <tr>\n",
       "      <th>3</th>\n",
       "      <td>1905.520874</td>\n",
       "      <td>21122.031250</td>\n",
       "      <td>38.882137</td>\n",
       "      <td>2</td>\n",
       "      <td>0.350668</td>\n",
       "      <td>0.646708</td>\n",
       "      <td>0.002624</td>\n",
       "      <td>0.000033</td>\n",
       "      <td>0.997376</td>\n",
       "      <td>0.003784</td>\n",
       "      <td>0.000451</td>\n",
       "      <td>0.001588</td>\n",
       "      <td>82825.790636</td>\n",
       "      <td>0.031650</td>\n",
       "      <td>-2.500576</td>\n",
       "      <td>0.000847</td>\n",
       "    </tr>\n",
       "    <tr>\n",
       "      <th>4</th>\n",
       "      <td>1905.531128</td>\n",
       "      <td>21122.029297</td>\n",
       "      <td>38.882839</td>\n",
       "      <td>2</td>\n",
       "      <td>0.391125</td>\n",
       "      <td>0.603946</td>\n",
       "      <td>0.004929</td>\n",
       "      <td>0.000041</td>\n",
       "      <td>0.995071</td>\n",
       "      <td>0.003847</td>\n",
       "      <td>0.000460</td>\n",
       "      <td>0.003054</td>\n",
       "      <td>82835.520399</td>\n",
       "      <td>0.031649</td>\n",
       "      <td>-2.500191</td>\n",
       "      <td>0.000902</td>\n",
       "    </tr>\n",
       "  </tbody>\n",
       "</table>\n",
       "</div>"
      ],
      "text/plain": [
       "             X             Y          Z  class   lambda1   lambda2   lambda3  \\\n",
       "0  1905.494751  21122.037109  38.884586      2  0.189010  0.808544  0.002447   \n",
       "1  1905.502930  21122.035156  38.883110      2  0.189010  0.808544  0.002447   \n",
       "2  1905.512939  21122.033203  38.883949      2  0.189010  0.808544  0.002447   \n",
       "3  1905.520874  21122.031250  38.882137      2  0.350668  0.646708  0.002624   \n",
       "4  1905.531128  21122.029297  38.882839      2  0.391125  0.603946  0.004929   \n",
       "\n",
       "    lambda4   lambda5   lambda6   lambda7   lambda8  local_density  \\\n",
       "0  0.000028  0.997553  0.003467  0.000408  0.001349   25877.928393   \n",
       "1  0.000028  0.997553  0.003467  0.000408  0.001349   46635.546755   \n",
       "2  0.000028  0.997553  0.003467  0.000408  0.001349   75836.463465   \n",
       "3  0.000033  0.997376  0.003784  0.000451  0.001588   82825.790636   \n",
       "4  0.000041  0.995071  0.003847  0.000460  0.003054   82835.520399   \n",
       "\n",
       "   radius_neighbourhood  relative_height  verticality  \n",
       "0              0.046644        -2.497189     0.000847  \n",
       "1              0.038329        -2.498982     0.000847  \n",
       "2              0.032594        -2.498448     0.000847  \n",
       "3              0.031650        -2.500576     0.000847  \n",
       "4              0.031649        -2.500191     0.000902  "
      ]
     },
     "execution_count": 122,
     "metadata": {},
     "output_type": "execute_result"
    }
   ],
   "source": [
    "# Define a data frame with all my data# Define  \n",
    "FILE_PATH = r\"../DATA\"\n",
    "FILE_NAME = r\"/5_Data_ML_attributes_10NN.txt\"\n",
    "IMAGE_FILE_PATH = r\"images\"\n",
    "df = pd.read_csv(FILE_PATH+FILE_NAME, delimiter=',')\n",
    "df.rename(index=str, columns={\"range\": \"relative_height\"}, inplace = True)\n",
    "df.head()"
   ]
  },
  {
   "cell_type": "code",
   "execution_count": 123,
   "metadata": {},
   "outputs": [
    {
     "name": "stdout",
     "output_type": "stream",
     "text": [
      "Number of instances 11052294\n",
      "Number of attributes 16\n"
     ]
    }
   ],
   "source": [
    "rows, cols = df.shape\n",
    "print \"Number of instances\", rows\n",
    "print \"Number of attributes\", cols"
   ]
  },
  {
   "cell_type": "code",
   "execution_count": 124,
   "metadata": {},
   "outputs": [
    {
     "name": "stdout",
     "output_type": "stream",
     "text": [
      "No Nan in this data set\n"
     ]
    }
   ],
   "source": [
    "# Get rid of any NaNs or Inf / -Inf values \n",
    "df.replace([np.inf, -np.inf], np.nan, inplace = True)\n",
    "# Test whether there are any NAN values in the data set \n",
    "if df.isnull().values.any() == False:\n",
    "    print \"No Nan in this data set\""
   ]
  },
  {
   "cell_type": "markdown",
   "metadata": {},
   "source": [
    "### I have made a mistake with the class names, therefore I need to re-name them now\n",
    "\n",
    "In the file 3_CreateFinalClasses, I did not change the names of the classes properly. Therefore, I will have to re-name them now. \n",
    "\n",
    "Manually, not to confuse it."
   ]
  },
  {
   "cell_type": "code",
   "execution_count": 125,
   "metadata": {},
   "outputs": [],
   "source": [
    "# Road (second most points)\n",
    "df[\"class\"].where(df[\"class\"] != 2, 1, inplace=True)\n",
    "# Sidewalk\n",
    "df[\"class\"].where(df[\"class\"] != 3, 2, inplace=True)\n",
    "# Curb\n",
    "df[\"class\"].where(df[\"class\"] != 4, 3, inplace=True)\n",
    "# Building (most points)\n",
    "df[\"class\"].where(df[\"class\"] != 5, 4, inplace=True)\n",
    "# Other pole like objects\n",
    "df[\"class\"].where(df[\"class\"] != 6, 5, inplace=True)\n",
    "# Small poles\n",
    "df[\"class\"].where(df[\"class\"] != 7, 6, inplace=True)\n",
    "# Pedestrians\n",
    "df[\"class\"].where(df[\"class\"] != 11, 7, inplace=True)\n",
    "# 2 wheelers\n",
    "df[\"class\"].where(df[\"class\"] != 12, 8, inplace=True)\n",
    "# 4 wheelers\n",
    "df[\"class\"].where(df[\"class\"] != 13, 9, inplace=True)\n",
    "# Trees\n",
    "df[\"class\"].where(df[\"class\"] != 14, 10, inplace=True)\n",
    "# Potted plants\n",
    "df[\"class\"].where(df[\"class\"] != 15, 11, inplace=True)"
   ]
  },
  {
   "cell_type": "code",
   "execution_count": 126,
   "metadata": {},
   "outputs": [
    {
     "data": {
      "text/plain": [
       "4     6359799\n",
       "1     3230632\n",
       "2      884203\n",
       "9      318893\n",
       "10     105205\n",
       "3       59854\n",
       "8       39803\n",
       "7       23070\n",
       "6       18024\n",
       "11       8969\n",
       "5        3842\n",
       "Name: class, dtype: int64"
      ]
     },
     "execution_count": 126,
     "metadata": {},
     "output_type": "execute_result"
    }
   ],
   "source": [
    "df['class'].value_counts()"
   ]
  },
  {
   "cell_type": "markdown",
   "metadata": {},
   "source": [
    "## Describe the dataset\n",
    "\n",
    "Describe the values and then export the file as Descriptor_Table to txt"
   ]
  },
  {
   "cell_type": "code",
   "execution_count": 51,
   "metadata": {},
   "outputs": [
    {
     "name": "stdout",
     "output_type": "stream",
     "text": [
      "<class 'pandas.core.frame.DataFrame'>\n",
      "Index: 11052294 entries, 0 to 11052293\n",
      "Data columns (total 16 columns):\n",
      "X                       float64\n",
      "Y                       float64\n",
      "Z                       float64\n",
      "class                   int64\n",
      "lambda1                 float64\n",
      "lambda2                 float64\n",
      "lambda3                 float64\n",
      "lambda4                 float64\n",
      "lambda5                 float64\n",
      "lambda6                 float64\n",
      "lambda7                 float64\n",
      "lambda8                 float64\n",
      "local_density           float64\n",
      "radius_neighbourhood    float64\n",
      "relative_height         float64\n",
      "verticality             float64\n",
      "dtypes: float64(15), int64(1)\n",
      "memory usage: 1.4+ GB\n"
     ]
    }
   ],
   "source": [
    "df.info()"
   ]
  },
  {
   "cell_type": "code",
   "execution_count": 52,
   "metadata": {},
   "outputs": [
    {
     "data": {
      "text/html": [
       "<div>\n",
       "<style scoped>\n",
       "    .dataframe tbody tr th:only-of-type {\n",
       "        vertical-align: middle;\n",
       "    }\n",
       "\n",
       "    .dataframe tbody tr th {\n",
       "        vertical-align: top;\n",
       "    }\n",
       "\n",
       "    .dataframe thead th {\n",
       "        text-align: right;\n",
       "    }\n",
       "</style>\n",
       "<table border=\"1\" class=\"dataframe\">\n",
       "  <thead>\n",
       "    <tr style=\"text-align: right;\">\n",
       "      <th></th>\n",
       "      <th>X</th>\n",
       "      <th>Y</th>\n",
       "      <th>Z</th>\n",
       "      <th>class</th>\n",
       "      <th>lambda1</th>\n",
       "      <th>lambda2</th>\n",
       "      <th>lambda3</th>\n",
       "      <th>lambda4</th>\n",
       "      <th>lambda5</th>\n",
       "      <th>lambda6</th>\n",
       "      <th>lambda7</th>\n",
       "      <th>lambda8</th>\n",
       "      <th>local_density</th>\n",
       "      <th>radius_neighbourhood</th>\n",
       "      <th>relative_height</th>\n",
       "      <th>verticality</th>\n",
       "    </tr>\n",
       "  </thead>\n",
       "  <tbody>\n",
       "    <tr>\n",
       "      <th>count</th>\n",
       "      <td>1.105229e+07</td>\n",
       "      <td>1.105229e+07</td>\n",
       "      <td>1.105229e+07</td>\n",
       "      <td>1.105229e+07</td>\n",
       "      <td>1.105229e+07</td>\n",
       "      <td>1.105229e+07</td>\n",
       "      <td>1.105229e+07</td>\n",
       "      <td>1.105229e+07</td>\n",
       "      <td>1.105229e+07</td>\n",
       "      <td>1.105229e+07</td>\n",
       "      <td>1.105229e+07</td>\n",
       "      <td>1.105229e+07</td>\n",
       "      <td>1.105229e+07</td>\n",
       "      <td>1.105229e+07</td>\n",
       "      <td>1.105229e+07</td>\n",
       "      <td>1.105229e+07</td>\n",
       "    </tr>\n",
       "    <tr>\n",
       "      <th>mean</th>\n",
       "      <td>1.902170e+03</td>\n",
       "      <td>2.122209e+04</td>\n",
       "      <td>4.107707e+01</td>\n",
       "      <td>3.189004e+00</td>\n",
       "      <td>7.272323e-01</td>\n",
       "      <td>2.597574e-01</td>\n",
       "      <td>1.301040e-02</td>\n",
       "      <td>1.066100e-04</td>\n",
       "      <td>9.869896e-01</td>\n",
       "      <td>7.738710e-03</td>\n",
       "      <td>1.160464e-03</td>\n",
       "      <td>7.891251e-03</td>\n",
       "      <td>6.590293e+04</td>\n",
       "      <td>4.583854e-02</td>\n",
       "      <td>6.328907e-01</td>\n",
       "      <td>8.334727e-01</td>\n",
       "    </tr>\n",
       "    <tr>\n",
       "      <th>std</th>\n",
       "      <td>5.672591e+00</td>\n",
       "      <td>6.058488e+01</td>\n",
       "      <td>3.908901e+00</td>\n",
       "      <td>1.866948e+00</td>\n",
       "      <td>3.033212e-01</td>\n",
       "      <td>2.943161e-01</td>\n",
       "      <td>4.188462e-02</td>\n",
       "      <td>4.056319e-04</td>\n",
       "      <td>4.188462e-02</td>\n",
       "      <td>1.007832e-02</td>\n",
       "      <td>3.256232e-03</td>\n",
       "      <td>2.321478e-02</td>\n",
       "      <td>9.103630e+04</td>\n",
       "      <td>2.597832e-02</td>\n",
       "      <td>4.002956e+00</td>\n",
       "      <td>6.343752e-01</td>\n",
       "    </tr>\n",
       "    <tr>\n",
       "      <th>min</th>\n",
       "      <td>1.885748e+03</td>\n",
       "      <td>2.112071e+04</td>\n",
       "      <td>3.666582e+01</td>\n",
       "      <td>1.000000e+00</td>\n",
       "      <td>1.910613e-04</td>\n",
       "      <td>7.869019e-09</td>\n",
       "      <td>-1.861377e-16</td>\n",
       "      <td>0.000000e+00</td>\n",
       "      <td>1.051526e-01</td>\n",
       "      <td>-1.898235e+00</td>\n",
       "      <td>2.930408e-05</td>\n",
       "      <td>-1.293093e-16</td>\n",
       "      <td>1.989907e-02</td>\n",
       "      <td>7.199637e-03</td>\n",
       "      <td>-3.973492e+00</td>\n",
       "      <td>1.000000e-06</td>\n",
       "    </tr>\n",
       "    <tr>\n",
       "      <th>25%</th>\n",
       "      <td>1.898891e+03</td>\n",
       "      <td>2.116849e+04</td>\n",
       "      <td>3.823697e+01</td>\n",
       "      <td>1.000000e+00</td>\n",
       "      <td>4.537933e-01</td>\n",
       "      <td>3.747290e-03</td>\n",
       "      <td>3.728969e-04</td>\n",
       "      <td>4.233501e-06</td>\n",
       "      <td>9.975814e-01</td>\n",
       "      <td>2.663344e-03</td>\n",
       "      <td>3.302484e-04</td>\n",
       "      <td>3.114053e-04</td>\n",
       "      <td>2.029871e+04</td>\n",
       "      <td>3.102148e-02</td>\n",
       "      <td>-2.404022e+00</td>\n",
       "      <td>1.417800e-02</td>\n",
       "    </tr>\n",
       "    <tr>\n",
       "      <th>50%</th>\n",
       "      <td>1.902271e+03</td>\n",
       "      <td>2.121777e+04</td>\n",
       "      <td>3.949983e+01</td>\n",
       "      <td>4.000000e+00</td>\n",
       "      <td>9.056916e-01</td>\n",
       "      <td>8.157165e-02</td>\n",
       "      <td>8.964773e-04</td>\n",
       "      <td>1.639803e-05</td>\n",
       "      <td>9.991035e-01</td>\n",
       "      <td>4.786404e-03</td>\n",
       "      <td>6.243500e-04</td>\n",
       "      <td>7.823540e-04</td>\n",
       "      <td>3.927642e+04</td>\n",
       "      <td>4.058735e-02</td>\n",
       "      <td>-9.467090e-01</td>\n",
       "      <td>9.917630e-01</td>\n",
       "    </tr>\n",
       "    <tr>\n",
       "      <th>75%</th>\n",
       "      <td>1.906592e+03</td>\n",
       "      <td>2.127548e+04</td>\n",
       "      <td>4.242671e+01</td>\n",
       "      <td>4.000000e+00</td>\n",
       "      <td>9.956128e-01</td>\n",
       "      <td>5.186690e-01</td>\n",
       "      <td>2.418645e-03</td>\n",
       "      <td>8.818397e-05</td>\n",
       "      <td>9.996271e-01</td>\n",
       "      <td>9.178983e-03</td>\n",
       "      <td>1.247711e-03</td>\n",
       "      <td>1.692042e-03</td>\n",
       "      <td>8.796634e+04</td>\n",
       "      <td>5.057609e-02</td>\n",
       "      <td>2.150309e+00</td>\n",
       "      <td>1.048504e+00</td>\n",
       "    </tr>\n",
       "    <tr>\n",
       "      <th>max</th>\n",
       "      <td>1.916770e+03</td>\n",
       "      <td>2.132869e+04</td>\n",
       "      <td>6.039886e+01</td>\n",
       "      <td>1.100000e+01</td>\n",
       "      <td>1.000000e+00</td>\n",
       "      <td>9.989550e-01</td>\n",
       "      <td>8.948474e-01</td>\n",
       "      <td>2.131494e-01</td>\n",
       "      <td>1.000000e+00</td>\n",
       "      <td>9.475825e-01</td>\n",
       "      <td>2.345641e+00</td>\n",
       "      <td>3.184605e-01</td>\n",
       "      <td>7.036751e+06</td>\n",
       "      <td>5.091242e+00</td>\n",
       "      <td>1.967205e+01</td>\n",
       "      <td>1.999999e+00</td>\n",
       "    </tr>\n",
       "  </tbody>\n",
       "</table>\n",
       "</div>"
      ],
      "text/plain": [
       "                  X             Y             Z         class       lambda1  \\\n",
       "count  1.105229e+07  1.105229e+07  1.105229e+07  1.105229e+07  1.105229e+07   \n",
       "mean   1.902170e+03  2.122209e+04  4.107707e+01  3.189004e+00  7.272323e-01   \n",
       "std    5.672591e+00  6.058488e+01  3.908901e+00  1.866948e+00  3.033212e-01   \n",
       "min    1.885748e+03  2.112071e+04  3.666582e+01  1.000000e+00  1.910613e-04   \n",
       "25%    1.898891e+03  2.116849e+04  3.823697e+01  1.000000e+00  4.537933e-01   \n",
       "50%    1.902271e+03  2.121777e+04  3.949983e+01  4.000000e+00  9.056916e-01   \n",
       "75%    1.906592e+03  2.127548e+04  4.242671e+01  4.000000e+00  9.956128e-01   \n",
       "max    1.916770e+03  2.132869e+04  6.039886e+01  1.100000e+01  1.000000e+00   \n",
       "\n",
       "            lambda2       lambda3       lambda4       lambda5       lambda6  \\\n",
       "count  1.105229e+07  1.105229e+07  1.105229e+07  1.105229e+07  1.105229e+07   \n",
       "mean   2.597574e-01  1.301040e-02  1.066100e-04  9.869896e-01  7.738710e-03   \n",
       "std    2.943161e-01  4.188462e-02  4.056319e-04  4.188462e-02  1.007832e-02   \n",
       "min    7.869019e-09 -1.861377e-16  0.000000e+00  1.051526e-01 -1.898235e+00   \n",
       "25%    3.747290e-03  3.728969e-04  4.233501e-06  9.975814e-01  2.663344e-03   \n",
       "50%    8.157165e-02  8.964773e-04  1.639803e-05  9.991035e-01  4.786404e-03   \n",
       "75%    5.186690e-01  2.418645e-03  8.818397e-05  9.996271e-01  9.178983e-03   \n",
       "max    9.989550e-01  8.948474e-01  2.131494e-01  1.000000e+00  9.475825e-01   \n",
       "\n",
       "            lambda7       lambda8  local_density  radius_neighbourhood  \\\n",
       "count  1.105229e+07  1.105229e+07   1.105229e+07          1.105229e+07   \n",
       "mean   1.160464e-03  7.891251e-03   6.590293e+04          4.583854e-02   \n",
       "std    3.256232e-03  2.321478e-02   9.103630e+04          2.597832e-02   \n",
       "min    2.930408e-05 -1.293093e-16   1.989907e-02          7.199637e-03   \n",
       "25%    3.302484e-04  3.114053e-04   2.029871e+04          3.102148e-02   \n",
       "50%    6.243500e-04  7.823540e-04   3.927642e+04          4.058735e-02   \n",
       "75%    1.247711e-03  1.692042e-03   8.796634e+04          5.057609e-02   \n",
       "max    2.345641e+00  3.184605e-01   7.036751e+06          5.091242e+00   \n",
       "\n",
       "       relative_height   verticality  \n",
       "count     1.105229e+07  1.105229e+07  \n",
       "mean      6.328907e-01  8.334727e-01  \n",
       "std       4.002956e+00  6.343752e-01  \n",
       "min      -3.973492e+00  1.000000e-06  \n",
       "25%      -2.404022e+00  1.417800e-02  \n",
       "50%      -9.467090e-01  9.917630e-01  \n",
       "75%       2.150309e+00  1.048504e+00  \n",
       "max       1.967205e+01  1.999999e+00  "
      ]
     },
     "execution_count": 52,
     "metadata": {},
     "output_type": "execute_result"
    }
   ],
   "source": [
    "# Describe it \n",
    "descriptor_table = df.describe()\n",
    "descriptor_table.to_csv(FILE_PATH+'/Descriptor_Table_10NN.txt', index= False)\n",
    "descriptor_table"
   ]
  },
  {
   "cell_type": "markdown",
   "metadata": {},
   "source": [
    "## Create feature data frame with only the features I would like to have for ML and also the class"
   ]
  },
  {
   "cell_type": "code",
   "execution_count": 127,
   "metadata": {},
   "outputs": [
    {
     "data": {
      "text/html": [
       "<div>\n",
       "<style scoped>\n",
       "    .dataframe tbody tr th:only-of-type {\n",
       "        vertical-align: middle;\n",
       "    }\n",
       "\n",
       "    .dataframe tbody tr th {\n",
       "        vertical-align: top;\n",
       "    }\n",
       "\n",
       "    .dataframe thead th {\n",
       "        text-align: right;\n",
       "    }\n",
       "</style>\n",
       "<table border=\"1\" class=\"dataframe\">\n",
       "  <thead>\n",
       "    <tr style=\"text-align: right;\">\n",
       "      <th></th>\n",
       "      <th>class</th>\n",
       "      <th>lambda1</th>\n",
       "      <th>lambda2</th>\n",
       "      <th>lambda3</th>\n",
       "      <th>lambda4</th>\n",
       "      <th>lambda5</th>\n",
       "      <th>lambda6</th>\n",
       "      <th>lambda7</th>\n",
       "      <th>lambda8</th>\n",
       "      <th>local_density</th>\n",
       "      <th>relative_height</th>\n",
       "      <th>verticality</th>\n",
       "    </tr>\n",
       "  </thead>\n",
       "  <tbody>\n",
       "    <tr>\n",
       "      <th>0</th>\n",
       "      <td>1</td>\n",
       "      <td>0.189010</td>\n",
       "      <td>0.808544</td>\n",
       "      <td>0.002447</td>\n",
       "      <td>0.000028</td>\n",
       "      <td>0.997553</td>\n",
       "      <td>0.003467</td>\n",
       "      <td>0.000408</td>\n",
       "      <td>0.001349</td>\n",
       "      <td>25877.928393</td>\n",
       "      <td>-2.497189</td>\n",
       "      <td>0.000847</td>\n",
       "    </tr>\n",
       "    <tr>\n",
       "      <th>1</th>\n",
       "      <td>1</td>\n",
       "      <td>0.189010</td>\n",
       "      <td>0.808544</td>\n",
       "      <td>0.002447</td>\n",
       "      <td>0.000028</td>\n",
       "      <td>0.997553</td>\n",
       "      <td>0.003467</td>\n",
       "      <td>0.000408</td>\n",
       "      <td>0.001349</td>\n",
       "      <td>46635.546755</td>\n",
       "      <td>-2.498982</td>\n",
       "      <td>0.000847</td>\n",
       "    </tr>\n",
       "    <tr>\n",
       "      <th>2</th>\n",
       "      <td>1</td>\n",
       "      <td>0.189010</td>\n",
       "      <td>0.808544</td>\n",
       "      <td>0.002447</td>\n",
       "      <td>0.000028</td>\n",
       "      <td>0.997553</td>\n",
       "      <td>0.003467</td>\n",
       "      <td>0.000408</td>\n",
       "      <td>0.001349</td>\n",
       "      <td>75836.463465</td>\n",
       "      <td>-2.498448</td>\n",
       "      <td>0.000847</td>\n",
       "    </tr>\n",
       "    <tr>\n",
       "      <th>3</th>\n",
       "      <td>1</td>\n",
       "      <td>0.350668</td>\n",
       "      <td>0.646708</td>\n",
       "      <td>0.002624</td>\n",
       "      <td>0.000033</td>\n",
       "      <td>0.997376</td>\n",
       "      <td>0.003784</td>\n",
       "      <td>0.000451</td>\n",
       "      <td>0.001588</td>\n",
       "      <td>82825.790636</td>\n",
       "      <td>-2.500576</td>\n",
       "      <td>0.000847</td>\n",
       "    </tr>\n",
       "    <tr>\n",
       "      <th>4</th>\n",
       "      <td>1</td>\n",
       "      <td>0.391125</td>\n",
       "      <td>0.603946</td>\n",
       "      <td>0.004929</td>\n",
       "      <td>0.000041</td>\n",
       "      <td>0.995071</td>\n",
       "      <td>0.003847</td>\n",
       "      <td>0.000460</td>\n",
       "      <td>0.003054</td>\n",
       "      <td>82835.520399</td>\n",
       "      <td>-2.500191</td>\n",
       "      <td>0.000902</td>\n",
       "    </tr>\n",
       "  </tbody>\n",
       "</table>\n",
       "</div>"
      ],
      "text/plain": [
       "   class   lambda1   lambda2   lambda3   lambda4   lambda5   lambda6  \\\n",
       "0      1  0.189010  0.808544  0.002447  0.000028  0.997553  0.003467   \n",
       "1      1  0.189010  0.808544  0.002447  0.000028  0.997553  0.003467   \n",
       "2      1  0.189010  0.808544  0.002447  0.000028  0.997553  0.003467   \n",
       "3      1  0.350668  0.646708  0.002624  0.000033  0.997376  0.003784   \n",
       "4      1  0.391125  0.603946  0.004929  0.000041  0.995071  0.003847   \n",
       "\n",
       "    lambda7   lambda8  local_density  relative_height  verticality  \n",
       "0  0.000408  0.001349   25877.928393        -2.497189     0.000847  \n",
       "1  0.000408  0.001349   46635.546755        -2.498982     0.000847  \n",
       "2  0.000408  0.001349   75836.463465        -2.498448     0.000847  \n",
       "3  0.000451  0.001588   82825.790636        -2.500576     0.000847  \n",
       "4  0.000460  0.003054   82835.520399        -2.500191     0.000902  "
      ]
     },
     "execution_count": 127,
     "metadata": {},
     "output_type": "execute_result"
    }
   ],
   "source": [
    "df_features = df.iloc[:,3:]\n",
    "df_features.drop(['radius_neighbourhood'], axis = 1, inplace = True)\n",
    "df_features.head()"
   ]
  },
  {
   "cell_type": "code",
   "execution_count": 128,
   "metadata": {},
   "outputs": [
    {
     "data": {
      "text/plain": [
       "Index([u'class', u'lambda1', u'lambda2', u'lambda3', u'lambda4', u'lambda5',\n",
       "       u'lambda6', u'lambda7', u'lambda8', u'local_density',\n",
       "       u'relative_height', u'verticality'],\n",
       "      dtype='object')"
      ]
     },
     "execution_count": 128,
     "metadata": {},
     "output_type": "execute_result"
    }
   ],
   "source": [
    "df_features.columns"
   ]
  },
  {
   "cell_type": "code",
   "execution_count": 54,
   "metadata": {},
   "outputs": [
    {
     "data": {
      "image/png": "[encoded data removed]",
      "text/plain": [
       "<Figure size 1440x1080 with 12 Axes>"
      ]
     },
     "metadata": {},
     "output_type": "display_data"
    }
   ],
   "source": [
    "df_features.hist(bins = 30, figsize = (20,15)),\n",
    "plt.savefig(IMAGE_FILE_PATH+'/Histo_Attribtes_10NN.png')\n",
    "plt.show();"
   ]
  },
  {
   "cell_type": "code",
   "execution_count": 55,
   "metadata": {},
   "outputs": [],
   "source": [
    "# This is interesting for comparing lambda 1, 2, 3 and we expect them to be correlated really \n",
    "#scatter_matrix(df_features.iloc[:,1:4], figsize=(12,8)), plt.show();"
   ]
  },
  {
   "cell_type": "markdown",
   "metadata": {},
   "source": [
    "## Check class distribution \n",
    "\n",
    "Classes:\n",
    "    \n",
    "1: Road - 2: Sidewalk - 3: Curb - 4: Building - 5: Other pole-like objects etc\n",
    "\n"
   ]
  },
  {
   "cell_type": "code",
   "execution_count": 56,
   "metadata": {},
   "outputs": [],
   "source": [
    "df_classes = df['class']"
   ]
  },
  {
   "cell_type": "code",
   "execution_count": 57,
   "metadata": {},
   "outputs": [],
   "source": [
    "# Delete the datadrame \n",
    "# df = None"
   ]
  },
  {
   "cell_type": "code",
   "execution_count": 58,
   "metadata": {},
   "outputs": [
    {
     "data": {
      "text/plain": [
       "4     6359799\n",
       "1     3230632\n",
       "2      884203\n",
       "9      318893\n",
       "10     105205\n",
       "3       59854\n",
       "8       39803\n",
       "7       23070\n",
       "6       18024\n",
       "11       8969\n",
       "5        3842\n",
       "Name: class, dtype: int64"
      ]
     },
     "execution_count": 58,
     "metadata": {},
     "output_type": "execute_result"
    }
   ],
   "source": [
    "df_classes.value_counts()"
   ]
  },
  {
   "cell_type": "code",
   "execution_count": 88,
   "metadata": {},
   "outputs": [
    {
     "data": {
      "image/png": "[encoded data removed]",
      "text/plain": [
       "<Figure size 432x288 with 1 Axes>"
      ]
     },
     "metadata": {},
     "output_type": "display_data"
    }
   ],
   "source": [
    "df_features['class'].hist(bins = 11), plt.title('Histogram of class values'), plt.show();"
   ]
  },
  {
   "cell_type": "markdown",
   "metadata": {},
   "source": [
    "## Create a test set of data \n",
    "\n",
    "Create test set for later \n",
    "\n",
    "1) Just take 20% of all data, but I will use stratified sampling which is more representative \n",
    "\n",
    "Take the df_features dataset, it has classes and features and we stratify with respect to classes\n"
   ]
  },
  {
   "cell_type": "code",
   "execution_count": 129,
   "metadata": {},
   "outputs": [],
   "source": [
    "from sklearn.model_selection import StratifiedShuffleSplit"
   ]
  },
  {
   "cell_type": "code",
   "execution_count": 130,
   "metadata": {},
   "outputs": [
    {
     "data": {
      "text/html": [
       "<div>\n",
       "<style scoped>\n",
       "    .dataframe tbody tr th:only-of-type {\n",
       "        vertical-align: middle;\n",
       "    }\n",
       "\n",
       "    .dataframe tbody tr th {\n",
       "        vertical-align: top;\n",
       "    }\n",
       "\n",
       "    .dataframe thead th {\n",
       "        text-align: right;\n",
       "    }\n",
       "</style>\n",
       "<table border=\"1\" class=\"dataframe\">\n",
       "  <thead>\n",
       "    <tr style=\"text-align: right;\">\n",
       "      <th></th>\n",
       "      <th>class</th>\n",
       "      <th>lambda1</th>\n",
       "      <th>lambda2</th>\n",
       "      <th>lambda3</th>\n",
       "      <th>lambda4</th>\n",
       "      <th>lambda5</th>\n",
       "      <th>lambda6</th>\n",
       "      <th>lambda7</th>\n",
       "      <th>lambda8</th>\n",
       "      <th>local_density</th>\n",
       "      <th>relative_height</th>\n",
       "      <th>verticality</th>\n",
       "    </tr>\n",
       "  </thead>\n",
       "  <tbody>\n",
       "    <tr>\n",
       "      <th>0</th>\n",
       "      <td>1.0</td>\n",
       "      <td>0.189010</td>\n",
       "      <td>0.808544</td>\n",
       "      <td>0.002447</td>\n",
       "      <td>0.000028</td>\n",
       "      <td>0.997553</td>\n",
       "      <td>0.003467</td>\n",
       "      <td>0.000408</td>\n",
       "      <td>0.001349</td>\n",
       "      <td>25877.928393</td>\n",
       "      <td>-2.497189</td>\n",
       "      <td>0.000847</td>\n",
       "    </tr>\n",
       "    <tr>\n",
       "      <th>1</th>\n",
       "      <td>1.0</td>\n",
       "      <td>0.189010</td>\n",
       "      <td>0.808544</td>\n",
       "      <td>0.002447</td>\n",
       "      <td>0.000028</td>\n",
       "      <td>0.997553</td>\n",
       "      <td>0.003467</td>\n",
       "      <td>0.000408</td>\n",
       "      <td>0.001349</td>\n",
       "      <td>46635.546755</td>\n",
       "      <td>-2.498982</td>\n",
       "      <td>0.000847</td>\n",
       "    </tr>\n",
       "    <tr>\n",
       "      <th>2</th>\n",
       "      <td>1.0</td>\n",
       "      <td>0.189010</td>\n",
       "      <td>0.808544</td>\n",
       "      <td>0.002447</td>\n",
       "      <td>0.000028</td>\n",
       "      <td>0.997553</td>\n",
       "      <td>0.003467</td>\n",
       "      <td>0.000408</td>\n",
       "      <td>0.001349</td>\n",
       "      <td>75836.463465</td>\n",
       "      <td>-2.498448</td>\n",
       "      <td>0.000847</td>\n",
       "    </tr>\n",
       "    <tr>\n",
       "      <th>3</th>\n",
       "      <td>1.0</td>\n",
       "      <td>0.350668</td>\n",
       "      <td>0.646708</td>\n",
       "      <td>0.002624</td>\n",
       "      <td>0.000033</td>\n",
       "      <td>0.997376</td>\n",
       "      <td>0.003784</td>\n",
       "      <td>0.000451</td>\n",
       "      <td>0.001588</td>\n",
       "      <td>82825.790636</td>\n",
       "      <td>-2.500576</td>\n",
       "      <td>0.000847</td>\n",
       "    </tr>\n",
       "    <tr>\n",
       "      <th>4</th>\n",
       "      <td>1.0</td>\n",
       "      <td>0.391125</td>\n",
       "      <td>0.603946</td>\n",
       "      <td>0.004929</td>\n",
       "      <td>0.000041</td>\n",
       "      <td>0.995071</td>\n",
       "      <td>0.003847</td>\n",
       "      <td>0.000460</td>\n",
       "      <td>0.003054</td>\n",
       "      <td>82835.520399</td>\n",
       "      <td>-2.500191</td>\n",
       "      <td>0.000902</td>\n",
       "    </tr>\n",
       "  </tbody>\n",
       "</table>\n",
       "</div>"
      ],
      "text/plain": [
       "   class   lambda1   lambda2   lambda3   lambda4   lambda5   lambda6  \\\n",
       "0    1.0  0.189010  0.808544  0.002447  0.000028  0.997553  0.003467   \n",
       "1    1.0  0.189010  0.808544  0.002447  0.000028  0.997553  0.003467   \n",
       "2    1.0  0.189010  0.808544  0.002447  0.000028  0.997553  0.003467   \n",
       "3    1.0  0.350668  0.646708  0.002624  0.000033  0.997376  0.003784   \n",
       "4    1.0  0.391125  0.603946  0.004929  0.000041  0.995071  0.003847   \n",
       "\n",
       "    lambda7   lambda8  local_density  relative_height  verticality  \n",
       "0  0.000408  0.001349   25877.928393        -2.497189     0.000847  \n",
       "1  0.000408  0.001349   46635.546755        -2.498982     0.000847  \n",
       "2  0.000408  0.001349   75836.463465        -2.498448     0.000847  \n",
       "3  0.000451  0.001588   82825.790636        -2.500576     0.000847  \n",
       "4  0.000460  0.003054   82835.520399        -2.500191     0.000902  "
      ]
     },
     "execution_count": 130,
     "metadata": {},
     "output_type": "execute_result"
    }
   ],
   "source": [
    "# Convert the two columns ID and CLASS into integer values\n",
    "df_features = df_features.astype({\"class\": 'float64'})\n",
    "df_features.head()"
   ]
  },
  {
   "cell_type": "code",
   "execution_count": 131,
   "metadata": {},
   "outputs": [
    {
     "name": "stdout",
     "output_type": "stream",
     "text": [
      "(11052294, 12)\n",
      "(11052294, 11)\n",
      "(11052294,)\n",
      "[1. 1. 1. 1. 1. 1. 1. 1. 1. 1.]\n"
     ]
    }
   ],
   "source": [
    "data = df_features.values\n",
    "X = data[:,1:]\n",
    "y = data[:,0]\n",
    "print data.shape\n",
    "print X.shape\n",
    "print y.shape\n",
    "print y[:10]"
   ]
  },
  {
   "cell_type": "code",
   "execution_count": 135,
   "metadata": {},
   "outputs": [],
   "source": [
    "split = StratifiedShuffleSplit(n_splits=10, test_size=0.2, random_state=42)\n",
    "for train_index, test_index in split.split(X, y):\n",
    "    # Do that here\n",
    "    X_train, X_test = X[train_index], X[test_index]\n",
    "    y_train, y_test = y[train_index], y[test_index]"
   ]
  },
  {
   "cell_type": "code",
   "execution_count": 136,
   "metadata": {},
   "outputs": [
    {
     "name": "stdout",
     "output_type": "stream",
     "text": [
      "Size X training data (8841835, 11)\n",
      "Size y training data (8841835,)\n",
      "Size X testing data (2210459, 11)\n",
      "Size y testing data (2210459, 11)\n"
     ]
    }
   ],
   "source": [
    "print \"Size X training data\", X_train.shape\n",
    "print \"Size y training data\", y_train.shape\n",
    "print \"Size X testing data\", X_test.shape\n",
    "print \"Size y testing data\", X_test.shape"
   ]
  },
  {
   "cell_type": "code",
   "execution_count": 137,
   "metadata": {},
   "outputs": [],
   "source": [
    "X_train_rand, X_test_rand, y_train_rand, y_test_rand = train_test_split(X, y, test_size=0.2, random_state=42)"
   ]
  },
  {
   "cell_type": "code",
   "execution_count": 138,
   "metadata": {},
   "outputs": [
    {
     "name": "stdout",
     "output_type": "stream",
     "text": [
      "Size X training data (8841835, 11)\n",
      "Size y training data (8841835,)\n",
      "Size X testing data (2210459, 11)\n",
      "Size y testing data (2210459, 11)\n"
     ]
    }
   ],
   "source": [
    "print \"Size X training data\", X_train_rand.shape\n",
    "print \"Size y training data\", y_train_rand.shape\n",
    "print \"Size X testing data\", X_test_rand.shape\n",
    "print \"Size y testing data\", X_test_rand.shape"
   ]
  },
  {
   "cell_type": "code",
   "execution_count": 167,
   "metadata": {},
   "outputs": [
    {
     "data": {
      "text/plain": [
       "class\n",
       "1     0.292304\n",
       "2     0.080002\n",
       "3     0.005416\n",
       "4     0.575428\n",
       "5     0.000348\n",
       "6     0.001631\n",
       "7     0.002087\n",
       "8     0.003601\n",
       "9     0.028853\n",
       "10    0.009519\n",
       "11    0.000812\n",
       "dtype: float64"
      ]
     },
     "execution_count": 167,
     "metadata": {},
     "output_type": "execute_result"
    }
   ],
   "source": [
    "df.groupby('class').size() / X.shape[0]"
   ]
  },
  {
   "cell_type": "code",
   "execution_count": 168,
   "metadata": {},
   "outputs": [
    {
     "name": "stdout",
     "output_type": "stream",
     "text": [
      "[0.29230425584734393, 0.08000171910016417, 0.005415504813197713, 0.5754279513245837, 0.0003476653884629152, 0.001630770083359393, 0.0020873495151176196, 0.0036014017452259627, 0.028853060478961662, 0.009518838566881196, 0.0008114831367018272]\n"
     ]
    }
   ],
   "source": [
    "store1 = []\n",
    "\n",
    "for elem in range(1,12):\n",
    "    temp = np.count_nonzero(y_train == elem)/float((y_train.shape[0]))\n",
    "    store1.append(temp)\n",
    "    \n",
    "print store1"
   ]
  },
  {
   "cell_type": "code",
   "execution_count": 169,
   "metadata": {},
   "outputs": [
    {
     "name": "stdout",
     "output_type": "stream",
     "text": [
      "[0.29225811157977954, 0.07999866543539888, 0.005414373826247606, 0.5754802029216786, 0.00035196313887332213, 0.001641288261995389, 0.0020813552842820523, 0.003609431752571723, 0.028857697525457103, 0.009505492920869933, 0.0008014173528458742]\n"
     ]
    }
   ],
   "source": [
    "store2 = []\n",
    "\n",
    "for elem in range(1,12):\n",
    "    temp = np.count_nonzero(y_train_rand == elem)/float((y_train_rand.shape[0]))\n",
    "    store2.append(temp)\n",
    "    \n",
    "print store2"
   ]
  },
  {
   "cell_type": "code",
   "execution_count": 176,
   "metadata": {},
   "outputs": [],
   "source": [
    "compare_props = pd.DataFrame({\n",
    "    \"Overall\": df.groupby('class').size() / X.shape[0],\n",
    "    \"Stratified\": store1,\n",
    "    \"Random\": store2,\n",
    "}).sort_index()\n",
    "compare_props[\"Rand. %error\"] = 100 * compare_props[\"Random\"] / compare_props[\"Overall\"] - 100\n",
    "compare_props[\"Strat. %error\"] = 100 * compare_props[\"Stratified\"] / compare_props[\"Overall\"] - 100"
   ]
  },
  {
   "cell_type": "code",
   "execution_count": 177,
   "metadata": {},
   "outputs": [
    {
     "data": {
      "text/html": [
       "<div>\n",
       "<style scoped>\n",
       "    .dataframe tbody tr th:only-of-type {\n",
       "        vertical-align: middle;\n",
       "    }\n",
       "\n",
       "    .dataframe tbody tr th {\n",
       "        vertical-align: top;\n",
       "    }\n",
       "\n",
       "    .dataframe thead th {\n",
       "        text-align: right;\n",
       "    }\n",
       "</style>\n",
       "<table border=\"1\" class=\"dataframe\">\n",
       "  <thead>\n",
       "    <tr style=\"text-align: right;\">\n",
       "      <th></th>\n",
       "      <th>Overall</th>\n",
       "      <th>Random</th>\n",
       "      <th>Stratified</th>\n",
       "      <th>Rand. %error</th>\n",
       "      <th>Strat. %error</th>\n",
       "    </tr>\n",
       "    <tr>\n",
       "      <th>class</th>\n",
       "      <th></th>\n",
       "      <th></th>\n",
       "      <th></th>\n",
       "      <th></th>\n",
       "      <th></th>\n",
       "    </tr>\n",
       "  </thead>\n",
       "  <tbody>\n",
       "    <tr>\n",
       "      <th>1</th>\n",
       "      <td>0.292304</td>\n",
       "      <td>0.292258</td>\n",
       "      <td>0.292304</td>\n",
       "      <td>-0.015769</td>\n",
       "      <td>0.000018</td>\n",
       "    </tr>\n",
       "    <tr>\n",
       "      <th>2</th>\n",
       "      <td>0.080002</td>\n",
       "      <td>0.079999</td>\n",
       "      <td>0.080002</td>\n",
       "      <td>-0.003871</td>\n",
       "      <td>-0.000054</td>\n",
       "    </tr>\n",
       "    <tr>\n",
       "      <th>3</th>\n",
       "      <td>0.005416</td>\n",
       "      <td>0.005414</td>\n",
       "      <td>0.005416</td>\n",
       "      <td>-0.021300</td>\n",
       "      <td>-0.000415</td>\n",
       "    </tr>\n",
       "    <tr>\n",
       "      <th>4</th>\n",
       "      <td>0.575428</td>\n",
       "      <td>0.575480</td>\n",
       "      <td>0.575428</td>\n",
       "      <td>0.009079</td>\n",
       "      <td>-0.000002</td>\n",
       "    </tr>\n",
       "    <tr>\n",
       "      <th>5</th>\n",
       "      <td>0.000348</td>\n",
       "      <td>0.000352</td>\n",
       "      <td>0.000348</td>\n",
       "      <td>1.249352</td>\n",
       "      <td>0.013016</td>\n",
       "    </tr>\n",
       "    <tr>\n",
       "      <th>6</th>\n",
       "      <td>0.001631</td>\n",
       "      <td>0.001641</td>\n",
       "      <td>0.001631</td>\n",
       "      <td>0.643589</td>\n",
       "      <td>-0.001385</td>\n",
       "    </tr>\n",
       "    <tr>\n",
       "      <th>7</th>\n",
       "      <td>0.002087</td>\n",
       "      <td>0.002081</td>\n",
       "      <td>0.002087</td>\n",
       "      <td>-0.287167</td>\n",
       "      <td>0.000002</td>\n",
       "    </tr>\n",
       "    <tr>\n",
       "      <th>8</th>\n",
       "      <td>0.003601</td>\n",
       "      <td>0.003609</td>\n",
       "      <td>0.003601</td>\n",
       "      <td>0.224860</td>\n",
       "      <td>0.001887</td>\n",
       "    </tr>\n",
       "    <tr>\n",
       "      <th>9</th>\n",
       "      <td>0.028853</td>\n",
       "      <td>0.028858</td>\n",
       "      <td>0.028853</td>\n",
       "      <td>0.015917</td>\n",
       "      <td>-0.000155</td>\n",
       "    </tr>\n",
       "    <tr>\n",
       "      <th>10</th>\n",
       "      <td>0.009519</td>\n",
       "      <td>0.009505</td>\n",
       "      <td>0.009519</td>\n",
       "      <td>-0.140200</td>\n",
       "      <td>0.000002</td>\n",
       "    </tr>\n",
       "    <tr>\n",
       "      <th>11</th>\n",
       "      <td>0.000812</td>\n",
       "      <td>0.000801</td>\n",
       "      <td>0.000811</td>\n",
       "      <td>-1.243169</td>\n",
       "      <td>-0.002785</td>\n",
       "    </tr>\n",
       "  </tbody>\n",
       "</table>\n",
       "</div>"
      ],
      "text/plain": [
       "        Overall    Random  Stratified  Rand. %error  Strat. %error\n",
       "class                                                             \n",
       "1      0.292304  0.292258    0.292304     -0.015769       0.000018\n",
       "2      0.080002  0.079999    0.080002     -0.003871      -0.000054\n",
       "3      0.005416  0.005414    0.005416     -0.021300      -0.000415\n",
       "4      0.575428  0.575480    0.575428      0.009079      -0.000002\n",
       "5      0.000348  0.000352    0.000348      1.249352       0.013016\n",
       "6      0.001631  0.001641    0.001631      0.643589      -0.001385\n",
       "7      0.002087  0.002081    0.002087     -0.287167       0.000002\n",
       "8      0.003601  0.003609    0.003601      0.224860       0.001887\n",
       "9      0.028853  0.028858    0.028853      0.015917      -0.000155\n",
       "10     0.009519  0.009505    0.009519     -0.140200       0.000002\n",
       "11     0.000812  0.000801    0.000811     -1.243169      -0.002785"
      ]
     },
     "execution_count": 177,
     "metadata": {},
     "output_type": "execute_result"
    }
   ],
   "source": [
    "compare_props"
   ]
  },
  {
   "cell_type": "code",
   "execution_count": 178,
   "metadata": {},
   "outputs": [],
   "source": [
    "compare_props.to_csv(FILE_PATH+'/compare_props_10NN.txt', index= True)"
   ]
  },
  {
   "cell_type": "code",
   "execution_count": null,
   "metadata": {},
   "outputs": [],
   "source": []
  }
 ],
 "metadata": {
  "kernelspec": {
   "display_name": "Python 2",
   "language": "python",
   "name": "python2"
  },
  "language_info": {
   "codemirror_mode": {
    "name": "ipython",
    "version": 2
   },
   "file_extension": ".py",
   "mimetype": "text/x-python",
   "name": "python",
   "nbconvert_exporter": "python",
   "pygments_lexer": "ipython2",
   "version": "2.7.15rc1"
  }
 },
 "nbformat": 4,
 "nbformat_minor": 2
}
