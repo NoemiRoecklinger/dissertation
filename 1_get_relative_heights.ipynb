{
 "cells": [
  {
   "cell_type": "markdown",
   "metadata": {},
   "source": [
    "# File to prepare relative heights \n",
    "Run that later on geobigdata computer \n",
    "\n",
    "This file reads in the whole dataset with all labels and then creates an additional column with nly the relative heights\n",
    "\n",
    "Change to Python 2: All print commands "
   ]
  },
  {
   "cell_type": "code",
   "execution_count": 1,
   "metadata": {},
   "outputs": [],
   "source": [
    "import numpy as np\n",
    "import pandas as pd\n",
    "import os\n",
    "import matplotlib.pyplot as plt"
   ]
  },
  {
   "cell_type": "code",
   "execution_count": 2,
   "metadata": {},
   "outputs": [
    {
     "data": {
      "text/html": [
       "<div>\n",
       "<style scoped>\n",
       "    .dataframe tbody tr th:only-of-type {\n",
       "        vertical-align: middle;\n",
       "    }\n",
       "\n",
       "    .dataframe tbody tr th {\n",
       "        vertical-align: top;\n",
       "    }\n",
       "\n",
       "    .dataframe thead th {\n",
       "        text-align: right;\n",
       "    }\n",
       "</style>\n",
       "<table border=\"1\" class=\"dataframe\">\n",
       "  <thead>\n",
       "    <tr style=\"text-align: right;\">\n",
       "      <th></th>\n",
       "      <th>//X</th>\n",
       "      <th>Y</th>\n",
       "      <th>Z</th>\n",
       "      <th>x_origin</th>\n",
       "      <th>y_origin</th>\n",
       "      <th>z_origin</th>\n",
       "      <th>reflectance</th>\n",
       "      <th>theta</th>\n",
       "      <th>id</th>\n",
       "      <th>class</th>\n",
       "      <th>range</th>\n",
       "    </tr>\n",
       "  </thead>\n",
       "  <tbody>\n",
       "    <tr>\n",
       "      <th>0</th>\n",
       "      <td>1.200000e+07</td>\n",
       "      <td>NaN</td>\n",
       "      <td>NaN</td>\n",
       "      <td>NaN</td>\n",
       "      <td>NaN</td>\n",
       "      <td>NaN</td>\n",
       "      <td>NaN</td>\n",
       "      <td>NaN</td>\n",
       "      <td>NaN</td>\n",
       "      <td>NaN</td>\n",
       "      <td>NaN</td>\n",
       "    </tr>\n",
       "    <tr>\n",
       "      <th>1</th>\n",
       "      <td>1.903383e+03</td>\n",
       "      <td>21122.490234</td>\n",
       "      <td>38.991180</td>\n",
       "      <td>1907.911133</td>\n",
       "      <td>21121.59375</td>\n",
       "      <td>41.325581</td>\n",
       "      <td>-10.139493</td>\n",
       "      <td>-1.063594</td>\n",
       "      <td>0.0</td>\n",
       "      <td>303040192.0</td>\n",
       "      <td>5.17300</td>\n",
       "    </tr>\n",
       "    <tr>\n",
       "      <th>2</th>\n",
       "      <td>1.903405e+03</td>\n",
       "      <td>21122.486328</td>\n",
       "      <td>38.990284</td>\n",
       "      <td>1907.911011</td>\n",
       "      <td>21121.59375</td>\n",
       "      <td>41.325989</td>\n",
       "      <td>-9.909495</td>\n",
       "      <td>-1.061419</td>\n",
       "      <td>0.0</td>\n",
       "      <td>303040192.0</td>\n",
       "      <td>5.15375</td>\n",
       "    </tr>\n",
       "    <tr>\n",
       "      <th>3</th>\n",
       "      <td>1.903428e+03</td>\n",
       "      <td>21122.480469</td>\n",
       "      <td>38.990547</td>\n",
       "      <td>1907.910767</td>\n",
       "      <td>21121.59375</td>\n",
       "      <td>41.326397</td>\n",
       "      <td>-9.559498</td>\n",
       "      <td>-1.059231</td>\n",
       "      <td>0.0</td>\n",
       "      <td>303040192.0</td>\n",
       "      <td>5.13200</td>\n",
       "    </tr>\n",
       "    <tr>\n",
       "      <th>4</th>\n",
       "      <td>1.903452e+03</td>\n",
       "      <td>21122.476562</td>\n",
       "      <td>38.991211</td>\n",
       "      <td>1907.910645</td>\n",
       "      <td>21121.59375</td>\n",
       "      <td>41.326786</td>\n",
       "      <td>-10.209500</td>\n",
       "      <td>-1.057138</td>\n",
       "      <td>0.0</td>\n",
       "      <td>303040192.0</td>\n",
       "      <td>5.11050</td>\n",
       "    </tr>\n",
       "  </tbody>\n",
       "</table>\n",
       "</div>"
      ],
      "text/plain": [
       "            //X             Y          Z     x_origin     y_origin   z_origin  \\\n",
       "0  1.200000e+07           NaN        NaN          NaN          NaN        NaN   \n",
       "1  1.903383e+03  21122.490234  38.991180  1907.911133  21121.59375  41.325581   \n",
       "2  1.903405e+03  21122.486328  38.990284  1907.911011  21121.59375  41.325989   \n",
       "3  1.903428e+03  21122.480469  38.990547  1907.910767  21121.59375  41.326397   \n",
       "4  1.903452e+03  21122.476562  38.991211  1907.910645  21121.59375  41.326786   \n",
       "\n",
       "   reflectance     theta   id        class    range  \n",
       "0          NaN       NaN  NaN          NaN      NaN  \n",
       "1   -10.139493 -1.063594  0.0  303040192.0  5.17300  \n",
       "2    -9.909495 -1.061419  0.0  303040192.0  5.15375  \n",
       "3    -9.559498 -1.059231  0.0  303040192.0  5.13200  \n",
       "4   -10.209500 -1.057138  0.0  303040192.0  5.11050  "
      ]
     },
     "execution_count": 2,
     "metadata": {},
     "output_type": "execute_result"
    }
   ],
   "source": [
    "# Define a data frame with all my data# Define  \n",
    "FILE_PATH = r\"../DATA\"\n",
    "FILE_NAME = r\"/Cassette_GT_allattributes.txt\"\n",
    "df = pd.read_csv(FILE_PATH+FILE_NAME, delimiter=',')\n",
    "df.head()"
   ]
  },
  {
   "cell_type": "code",
   "execution_count": 3,
   "metadata": {},
   "outputs": [],
   "source": [
    "# Rename the column \n",
    "df = df.rename(index=str, columns={\"//X\": \"X\"})\n",
    "# Obtain number of observations\n",
    "n = df.iloc[0,0]\n",
    "# Get rid of first line with number of observations\n",
    "df = df.drop(df.index[0])"
   ]
  },
  {
   "cell_type": "code",
   "execution_count": 4,
   "metadata": {},
   "outputs": [
    {
     "name": "stdout",
     "output_type": "stream",
     "text": [
      "No Nan in this data set\n"
     ]
    }
   ],
   "source": [
    "# Test whether there are any NAN values in the data set \n",
    "if df.isnull().values.any() == False:\n",
    "    print(\"No Nan in this data set\")\n",
    "else:\n",
    "    print(\"There are Nan in this dataset\")"
   ]
  },
  {
   "cell_type": "code",
   "execution_count": 5,
   "metadata": {},
   "outputs": [
    {
     "data": {
      "text/html": [
       "<div>\n",
       "<style scoped>\n",
       "    .dataframe tbody tr th:only-of-type {\n",
       "        vertical-align: middle;\n",
       "    }\n",
       "\n",
       "    .dataframe tbody tr th {\n",
       "        vertical-align: top;\n",
       "    }\n",
       "\n",
       "    .dataframe thead th {\n",
       "        text-align: right;\n",
       "    }\n",
       "</style>\n",
       "<table border=\"1\" class=\"dataframe\">\n",
       "  <thead>\n",
       "    <tr style=\"text-align: right;\">\n",
       "      <th></th>\n",
       "      <th>X</th>\n",
       "      <th>Y</th>\n",
       "      <th>Z</th>\n",
       "      <th>x_origin</th>\n",
       "      <th>y_origin</th>\n",
       "      <th>z_origin</th>\n",
       "      <th>reflectance</th>\n",
       "      <th>theta</th>\n",
       "      <th>id</th>\n",
       "      <th>class</th>\n",
       "      <th>range</th>\n",
       "    </tr>\n",
       "  </thead>\n",
       "  <tbody>\n",
       "    <tr>\n",
       "      <th>1</th>\n",
       "      <td>1903.382935</td>\n",
       "      <td>21122.490234</td>\n",
       "      <td>38.991180</td>\n",
       "      <td>1907.911133</td>\n",
       "      <td>21121.59375</td>\n",
       "      <td>41.325581</td>\n",
       "      <td>-10.139493</td>\n",
       "      <td>-1.063594</td>\n",
       "      <td>0.0</td>\n",
       "      <td>303040192.0</td>\n",
       "      <td>5.17300</td>\n",
       "    </tr>\n",
       "    <tr>\n",
       "      <th>2</th>\n",
       "      <td>1903.404541</td>\n",
       "      <td>21122.486328</td>\n",
       "      <td>38.990284</td>\n",
       "      <td>1907.911011</td>\n",
       "      <td>21121.59375</td>\n",
       "      <td>41.325989</td>\n",
       "      <td>-9.909495</td>\n",
       "      <td>-1.061419</td>\n",
       "      <td>0.0</td>\n",
       "      <td>303040192.0</td>\n",
       "      <td>5.15375</td>\n",
       "    </tr>\n",
       "    <tr>\n",
       "      <th>3</th>\n",
       "      <td>1903.428223</td>\n",
       "      <td>21122.480469</td>\n",
       "      <td>38.990547</td>\n",
       "      <td>1907.910767</td>\n",
       "      <td>21121.59375</td>\n",
       "      <td>41.326397</td>\n",
       "      <td>-9.559498</td>\n",
       "      <td>-1.059231</td>\n",
       "      <td>0.0</td>\n",
       "      <td>303040192.0</td>\n",
       "      <td>5.13200</td>\n",
       "    </tr>\n",
       "    <tr>\n",
       "      <th>4</th>\n",
       "      <td>1903.451538</td>\n",
       "      <td>21122.476562</td>\n",
       "      <td>38.991211</td>\n",
       "      <td>1907.910645</td>\n",
       "      <td>21121.59375</td>\n",
       "      <td>41.326786</td>\n",
       "      <td>-10.209500</td>\n",
       "      <td>-1.057138</td>\n",
       "      <td>0.0</td>\n",
       "      <td>303040192.0</td>\n",
       "      <td>5.11050</td>\n",
       "    </tr>\n",
       "    <tr>\n",
       "      <th>5</th>\n",
       "      <td>1903.474854</td>\n",
       "      <td>21122.470703</td>\n",
       "      <td>38.991467</td>\n",
       "      <td>1907.910400</td>\n",
       "      <td>21121.59375</td>\n",
       "      <td>41.327194</td>\n",
       "      <td>-10.499502</td>\n",
       "      <td>-1.054956</td>\n",
       "      <td>0.0</td>\n",
       "      <td>303040192.0</td>\n",
       "      <td>5.08925</td>\n",
       "    </tr>\n",
       "  </tbody>\n",
       "</table>\n",
       "</div>"
      ],
      "text/plain": [
       "             X             Y          Z     x_origin     y_origin   z_origin  \\\n",
       "1  1903.382935  21122.490234  38.991180  1907.911133  21121.59375  41.325581   \n",
       "2  1903.404541  21122.486328  38.990284  1907.911011  21121.59375  41.325989   \n",
       "3  1903.428223  21122.480469  38.990547  1907.910767  21121.59375  41.326397   \n",
       "4  1903.451538  21122.476562  38.991211  1907.910645  21121.59375  41.326786   \n",
       "5  1903.474854  21122.470703  38.991467  1907.910400  21121.59375  41.327194   \n",
       "\n",
       "   reflectance     theta   id        class    range  \n",
       "1   -10.139493 -1.063594  0.0  303040192.0  5.17300  \n",
       "2    -9.909495 -1.061419  0.0  303040192.0  5.15375  \n",
       "3    -9.559498 -1.059231  0.0  303040192.0  5.13200  \n",
       "4   -10.209500 -1.057138  0.0  303040192.0  5.11050  \n",
       "5   -10.499502 -1.054956  0.0  303040192.0  5.08925  "
      ]
     },
     "execution_count": 5,
     "metadata": {},
     "output_type": "execute_result"
    }
   ],
   "source": [
    "df.head()"
   ]
  },
  {
   "cell_type": "code",
   "execution_count": 6,
   "metadata": {},
   "outputs": [
    {
     "data": {
      "text/html": [
       "<div>\n",
       "<style scoped>\n",
       "    .dataframe tbody tr th:only-of-type {\n",
       "        vertical-align: middle;\n",
       "    }\n",
       "\n",
       "    .dataframe tbody tr th {\n",
       "        vertical-align: top;\n",
       "    }\n",
       "\n",
       "    .dataframe thead th {\n",
       "        text-align: right;\n",
       "    }\n",
       "</style>\n",
       "<table border=\"1\" class=\"dataframe\">\n",
       "  <thead>\n",
       "    <tr style=\"text-align: right;\">\n",
       "      <th></th>\n",
       "      <th>X</th>\n",
       "      <th>Y</th>\n",
       "      <th>Z</th>\n",
       "      <th>x_origin</th>\n",
       "      <th>y_origin</th>\n",
       "      <th>z_origin</th>\n",
       "      <th>reflectance</th>\n",
       "      <th>theta</th>\n",
       "      <th>id</th>\n",
       "      <th>class</th>\n",
       "      <th>range</th>\n",
       "      <th>relative_height</th>\n",
       "    </tr>\n",
       "  </thead>\n",
       "  <tbody>\n",
       "    <tr>\n",
       "      <th>1</th>\n",
       "      <td>1903.382935</td>\n",
       "      <td>21122.490234</td>\n",
       "      <td>38.991180</td>\n",
       "      <td>1907.911133</td>\n",
       "      <td>21121.59375</td>\n",
       "      <td>41.325581</td>\n",
       "      <td>-10.139493</td>\n",
       "      <td>-1.063594</td>\n",
       "      <td>0.0</td>\n",
       "      <td>303040192.0</td>\n",
       "      <td>5.17300</td>\n",
       "      <td>-2.334401</td>\n",
       "    </tr>\n",
       "    <tr>\n",
       "      <th>2</th>\n",
       "      <td>1903.404541</td>\n",
       "      <td>21122.486328</td>\n",
       "      <td>38.990284</td>\n",
       "      <td>1907.911011</td>\n",
       "      <td>21121.59375</td>\n",
       "      <td>41.325989</td>\n",
       "      <td>-9.909495</td>\n",
       "      <td>-1.061419</td>\n",
       "      <td>0.0</td>\n",
       "      <td>303040192.0</td>\n",
       "      <td>5.15375</td>\n",
       "      <td>-2.335705</td>\n",
       "    </tr>\n",
       "    <tr>\n",
       "      <th>3</th>\n",
       "      <td>1903.428223</td>\n",
       "      <td>21122.480469</td>\n",
       "      <td>38.990547</td>\n",
       "      <td>1907.910767</td>\n",
       "      <td>21121.59375</td>\n",
       "      <td>41.326397</td>\n",
       "      <td>-9.559498</td>\n",
       "      <td>-1.059231</td>\n",
       "      <td>0.0</td>\n",
       "      <td>303040192.0</td>\n",
       "      <td>5.13200</td>\n",
       "      <td>-2.335850</td>\n",
       "    </tr>\n",
       "    <tr>\n",
       "      <th>4</th>\n",
       "      <td>1903.451538</td>\n",
       "      <td>21122.476562</td>\n",
       "      <td>38.991211</td>\n",
       "      <td>1907.910645</td>\n",
       "      <td>21121.59375</td>\n",
       "      <td>41.326786</td>\n",
       "      <td>-10.209500</td>\n",
       "      <td>-1.057138</td>\n",
       "      <td>0.0</td>\n",
       "      <td>303040192.0</td>\n",
       "      <td>5.11050</td>\n",
       "      <td>-2.335575</td>\n",
       "    </tr>\n",
       "    <tr>\n",
       "      <th>5</th>\n",
       "      <td>1903.474854</td>\n",
       "      <td>21122.470703</td>\n",
       "      <td>38.991467</td>\n",
       "      <td>1907.910400</td>\n",
       "      <td>21121.59375</td>\n",
       "      <td>41.327194</td>\n",
       "      <td>-10.499502</td>\n",
       "      <td>-1.054956</td>\n",
       "      <td>0.0</td>\n",
       "      <td>303040192.0</td>\n",
       "      <td>5.08925</td>\n",
       "      <td>-2.335727</td>\n",
       "    </tr>\n",
       "  </tbody>\n",
       "</table>\n",
       "</div>"
      ],
      "text/plain": [
       "             X             Y          Z     x_origin     y_origin   z_origin  \\\n",
       "1  1903.382935  21122.490234  38.991180  1907.911133  21121.59375  41.325581   \n",
       "2  1903.404541  21122.486328  38.990284  1907.911011  21121.59375  41.325989   \n",
       "3  1903.428223  21122.480469  38.990547  1907.910767  21121.59375  41.326397   \n",
       "4  1903.451538  21122.476562  38.991211  1907.910645  21121.59375  41.326786   \n",
       "5  1903.474854  21122.470703  38.991467  1907.910400  21121.59375  41.327194   \n",
       "\n",
       "   reflectance     theta   id        class    range  relative_height  \n",
       "1   -10.139493 -1.063594  0.0  303040192.0  5.17300        -2.334401  \n",
       "2    -9.909495 -1.061419  0.0  303040192.0  5.15375        -2.335705  \n",
       "3    -9.559498 -1.059231  0.0  303040192.0  5.13200        -2.335850  \n",
       "4   -10.209500 -1.057138  0.0  303040192.0  5.11050        -2.335575  \n",
       "5   -10.499502 -1.054956  0.0  303040192.0  5.08925        -2.335727  "
      ]
     },
     "execution_count": 6,
     "metadata": {},
     "output_type": "execute_result"
    }
   ],
   "source": [
    "# Create a new column with relative height \n",
    "# This will give us positive rel_height if the point is higher, and negative rel_height if point is lower \n",
    "df['relative_height']=df['Z'] - df['z_origin']\n",
    "df.head()"
   ]
  },
  {
   "cell_type": "code",
   "execution_count": 7,
   "metadata": {},
   "outputs": [],
   "source": [
    "df.to_csv(FILE_PATH+'/Cassette_relativeHeight.csv')"
   ]
  },
  {
   "cell_type": "code",
   "execution_count": 8,
   "metadata": {
    "scrolled": true
   },
   "outputs": [
    {
     "data": {
      "text/plain": [
       "203000000.0    7027016\n",
       "202020000.0    3196982\n",
       "202030000.0     907894\n",
       "303040192.0     368271\n",
       "304020000.0     202728\n",
       "202040000.0      64303\n",
       "202010000.0      60460\n",
       "0.0              52508\n",
       "303030304.0      38330\n",
       "302020288.0      19912\n",
       "302030400.0      18425\n",
       "303020192.0      15051\n",
       "304040000.0       9403\n",
       "303020288.0       4065\n",
       "303020608.0       3848\n",
       "302020416.0       2478\n",
       "301000000.0       2306\n",
       "303030208.0       2001\n",
       "302020608.0       1355\n",
       "302020992.0       1200\n",
       "303020000.0       1035\n",
       "302020896.0        429\n",
       "Name: class, dtype: int64"
      ]
     },
     "execution_count": 8,
     "metadata": {},
     "output_type": "execute_result"
    }
   ],
   "source": [
    "df[\"class\"].value_counts()"
   ]
  },
  {
   "cell_type": "code",
   "execution_count": 10,
   "metadata": {
    "collapsed": true
   },
   "outputs": [],
   "source": [
    "class_column = df[\"class\"].astype(int)"
   ]
  },
  {
   "cell_type": "code",
   "execution_count": 31,
   "metadata": {},
   "outputs": [
    {
     "data": {
      "text/plain": [
       "203000000    7027016\n",
       "202020000    3196982\n",
       "202030000     907894\n",
       "303040192     368271\n",
       "304020000     202728\n",
       "202040000      64303\n",
       "202010000      60460\n",
       "0              52508\n",
       "303030304      38330\n",
       "302020288      19912\n",
       "302030400      18425\n",
       "303020192      15051\n",
       "304040000       9403\n",
       "303020288       4065\n",
       "303020608       3848\n",
       "302020416       2478\n",
       "301000000       2306\n",
       "303030208       2001\n",
       "302020608       1355\n",
       "302020992       1200\n",
       "303020000       1035\n",
       "302020896        429\n",
       "Name: class, dtype: int64"
      ]
     },
     "execution_count": 31,
     "metadata": {},
     "output_type": "execute_result"
    }
   ],
   "source": [
    "class_column.value_counts()"
   ]
  },
  {
   "cell_type": "code",
   "execution_count": 34,
   "metadata": {},
   "outputs": [
    {
     "data": {
      "text/plain": [
       "Int64Index([        0, 202010000, 202020000, 202030000, 202040000, 203000000,\n",
       "            301000000, 302020288, 302020416, 302020608, 302020896, 302020992,\n",
       "            302030400, 303020000, 303020192, 303020288, 303020608, 303030208,\n",
       "            303030304, 303040192, 304020000, 304040000],\n",
       "           dtype='int64')"
      ]
     },
     "execution_count": 34,
     "metadata": {},
     "output_type": "execute_result"
    }
   ],
   "source": [
    "# There are 22 classes in the whole dataset \n",
    "# Save all classes in a numpy array \n",
    "all_values = class_column.value_counts().keys()\n",
    "all_values.values.sort()\n",
    "all_values"
   ]
  },
  {
   "cell_type": "code",
   "execution_count": 18,
   "metadata": {},
   "outputs": [
    {
     "data": {
      "image/png": "[encoded data removed]",
      "text/plain": [
       "<matplotlib.figure.Figure at 0x188034f3e80>"
      ]
     },
     "metadata": {},
     "output_type": "display_data"
    },
    {
     "data": {
      "text/plain": [
       "(<matplotlib.axes._subplots.AxesSubplot at 0x18803569518>, None)"
      ]
     },
     "execution_count": 18,
     "metadata": {},
     "output_type": "execute_result"
    }
   ],
   "source": [
    "class_column.hist(bins=100), plt.show()"
   ]
  },
  {
   "cell_type": "code",
   "execution_count": 48,
   "metadata": {
    "collapsed": true
   },
   "outputs": [],
   "source": [
    "lut_classes = all_values.astype(float)\n",
    "lut_classnames = [\"unclassified\", \"other_ground\", \"road\", \"sidewalk\", \"curb\", \"building\", \"other_object\", \n",
    "                  \"x1\", \"x2\", \"x3\", \"x4\", \"x5\", \"grid\", \"pedestrian\", \"x6\", \"x7\", \"x8\", \"x9\", \"x10\", \n",
    "                  \"x11\", \"tree\", \"potted_plant\"]"
   ]
  },
  {
   "cell_type": "code",
   "execution_count": null,
   "metadata": {
    "collapsed": true
   },
   "outputs": [],
   "source": [
    "302020288\n",
    "302020416\n",
    "302020608\n",
    "302020896\n",
    "302020992\n",
    "\n",
    "303020192\n",
    "303020288\n",
    "303020608\n",
    "303030208\n",
    "\n",
    "303030304\n",
    "303040192"
   ]
  },
  {
   "cell_type": "code",
   "execution_count": 70,
   "metadata": {},
   "outputs": [
    {
     "data": {
      "text/plain": [
       "Float64Index([        0.0, 202010000.0, 202020000.0, 202030000.0, 202040000.0,\n",
       "              203000000.0, 301000000.0, 302020288.0, 302020416.0, 302020608.0,\n",
       "              302020896.0, 302020992.0, 302030400.0, 303020000.0, 303020192.0,\n",
       "              303020288.0, 303020608.0, 303030208.0, 303030304.0, 303040192.0,\n",
       "              304020000.0, 304040000.0],\n",
       "             dtype='float64')"
      ]
     },
     "execution_count": 70,
     "metadata": {},
     "output_type": "execute_result"
    }
   ],
   "source": [
    "lut_classes\n"
   ]
  },
  {
   "cell_type": "code",
   "execution_count": 50,
   "metadata": {},
   "outputs": [
    {
     "data": {
      "text/plain": [
       "numpy.float64"
      ]
     },
     "execution_count": 50,
     "metadata": {},
     "output_type": "execute_result"
    }
   ],
   "source": [
    "type(lut_classes[1])"
   ]
  },
  {
   "cell_type": "code",
   "execution_count": 51,
   "metadata": {},
   "outputs": [
    {
     "data": {
      "text/plain": [
       "1    303040192.0\n",
       "2    303040192.0\n",
       "3    303040192.0\n",
       "4    303040192.0\n",
       "5    303040192.0\n",
       "Name: class, dtype: float64"
      ]
     },
     "execution_count": 51,
     "metadata": {},
     "output_type": "execute_result"
    }
   ],
   "source": [
    "df[\"class\"].head()"
   ]
  },
  {
   "cell_type": "code",
   "execution_count": 53,
   "metadata": {},
   "outputs": [
    {
     "data": {
      "text/plain": [
       "303040192.0"
      ]
     },
     "execution_count": 53,
     "metadata": {},
     "output_type": "execute_result"
    }
   ],
   "source": [
    "df[\"class\"].iloc[1]"
   ]
  },
  {
   "cell_type": "code",
   "execution_count": 71,
   "metadata": {},
   "outputs": [],
   "source": [
    "df[\"class_category\"] = df[\"class\"]"
   ]
  },
  {
   "cell_type": "code",
   "execution_count": 72,
   "metadata": {},
   "outputs": [
    {
     "data": {
      "text/plain": [
       "1    303040192.0\n",
       "2    303040192.0\n",
       "3    303040192.0\n",
       "4    303040192.0\n",
       "5    303040192.0\n",
       "Name: class_category, dtype: float64"
      ]
     },
     "execution_count": 72,
     "metadata": {},
     "output_type": "execute_result"
    }
   ],
   "source": [
    "df[\"class_category\"].head()"
   ]
  },
  {
   "cell_type": "code",
   "execution_count": 73,
   "metadata": {
    "collapsed": true
   },
   "outputs": [],
   "source": [
    "# Label those above 5 as 5\n",
    "# inplace = True is like in C++ where we overwrite an object rather than creating a copy of it\n",
    "# so we dont return anything, but we overwrite the object we operate on \n",
    "# Where smaller than five, do nothing; where this is not true replace with 5.0\n",
    "df[\"class_category\"].where(df[\"class_category\"] != 0.0, \"unclassified\", inplace=True)\n",
    "df[\"class_category\"].where(df[\"class_category\"] != 202010000.0, \"other_ground\", inplace=True)\n",
    "df[\"class_category\"].where(df[\"class_category\"] != 202020000.0, \"road\", inplace=True)"
   ]
  },
  {
   "cell_type": "code",
   "execution_count": 76,
   "metadata": {},
   "outputs": [
    {
     "data": {
      "text/plain": [
       "203000000.0     7027016\n",
       "road            3196982\n",
       "202030000.0      907894\n",
       "303040192.0      368271\n",
       "304020000.0      202728\n",
       "202040000.0       64303\n",
       "other_ground      60460\n",
       "unclassified      52508\n",
       "303030304.0       38330\n",
       "302020288.0       19912\n",
       "302030400.0       18425\n",
       "303020192.0       15051\n",
       "304040000.0        9403\n",
       "303020288.0        4065\n",
       "303020608.0        3848\n",
       "302020416.0        2478\n",
       "301000000.0        2306\n",
       "303030208.0        2001\n",
       "302020608.0        1355\n",
       "302020992.0        1200\n",
       "303020000.0        1035\n",
       "302020896.0         429\n",
       "Name: class_category, dtype: int64"
      ]
     },
     "execution_count": 76,
     "metadata": {},
     "output_type": "execute_result"
    }
   ],
   "source": [
    "df[\"class_category\"].value_counts()"
   ]
  },
  {
   "cell_type": "code",
   "execution_count": 79,
   "metadata": {},
   "outputs": [],
   "source": [
    "# Define LUT\n",
    "lut_classes = all_values.astype(float)\n",
    "lut_classnames = [\"unclassified\", \"other_ground\", \"road\", \"sidewalk\", \"curb\", \"building\", \"other_object\", \n",
    "                  \"x1\", \"x2\", \"x3\", \"x4\", \"x5\", \"grid\", \"pedestrian\", \"x6\", \"x7\", \"x8\", \"x9\", \"x10\", \n",
    "                  \"x11\", \"tree\", \"potted_plant\"]\n",
    "# Create a new column in the df \n",
    "df[\"class_category\"] = df[\"class\"]\n",
    "# Modify that column to visualise it \n",
    "if len(lut_classes) == len(lut_classnames):\n",
    "    for count, elem in enumerate(lut_classes):\n",
    "        df[\"class_category\"].where(df[\"class_category\"] != elem, lut_classnames[count], inplace=True)     \n",
    "else:\n",
    "    print(\"LUT must have same length\")"
   ]
  },
  {
   "cell_type": "code",
   "execution_count": 80,
   "metadata": {},
   "outputs": [
    {
     "data": {
      "text/plain": [
       "building        7027016\n",
       "road            3196982\n",
       "sidewalk         907894\n",
       "x11              368271\n",
       "tree             202728\n",
       "curb              64303\n",
       "other_ground      60460\n",
       "unclassified      52508\n",
       "x10               38330\n",
       "x1                19912\n",
       "grid              18425\n",
       "x6                15051\n",
       "potted_plant       9403\n",
       "x7                 4065\n",
       "x8                 3848\n",
       "x2                 2478\n",
       "other_object       2306\n",
       "x9                 2001\n",
       "x3                 1355\n",
       "x5                 1200\n",
       "pedestrian         1035\n",
       "x4                  429\n",
       "Name: class_category, dtype: int64"
      ]
     },
     "execution_count": 80,
     "metadata": {},
     "output_type": "execute_result"
    }
   ],
   "source": [
    "df[\"class_category\"].value_counts()"
   ]
  },
  {
   "cell_type": "code",
   "execution_count": 92,
   "metadata": {},
   "outputs": [
    {
     "data": {
      "image/png": "[encoded data removed]",
      "text/plain": [
       "<matplotlib.figure.Figure at 0x1898ea3cf60>"
      ]
     },
     "metadata": {},
     "output_type": "display_data"
    }
   ],
   "source": [
    "df['class_category'].value_counts().plot(kind='bar', logy=True, title=\"Histogram of existing classes\"), plt.show();\n"
   ]
  },
  {
   "cell_type": "markdown",
   "metadata": {},
   "source": [
    "# Remove the points with class \"unclassified\" \n",
    "they belong to the class \"not classified yet\" and could therefore be anything \n",
    "I think I would add errors to my classifier if I used that as well "
   ]
  },
  {
   "cell_type": "code",
   "execution_count": 93,
   "metadata": {},
   "outputs": [
    {
     "data": {
      "text/html": [
       "<div>\n",
       "<style>\n",
       "    .dataframe thead tr:only-child th {\n",
       "        text-align: right;\n",
       "    }\n",
       "\n",
       "    .dataframe thead th {\n",
       "        text-align: left;\n",
       "    }\n",
       "\n",
       "    .dataframe tbody tr th {\n",
       "        vertical-align: top;\n",
       "    }\n",
       "</style>\n",
       "<table border=\"1\" class=\"dataframe\">\n",
       "  <thead>\n",
       "    <tr style=\"text-align: right;\">\n",
       "      <th></th>\n",
       "      <th>X</th>\n",
       "      <th>Y</th>\n",
       "      <th>Z</th>\n",
       "      <th>x_origin</th>\n",
       "      <th>y_origin</th>\n",
       "      <th>z_origin</th>\n",
       "      <th>reflectance</th>\n",
       "      <th>theta</th>\n",
       "      <th>id</th>\n",
       "      <th>class</th>\n",
       "      <th>range</th>\n",
       "      <th>relative_height</th>\n",
       "      <th>class_category</th>\n",
       "    </tr>\n",
       "  </thead>\n",
       "  <tbody>\n",
       "    <tr>\n",
       "      <th>1</th>\n",
       "      <td>1903.382935</td>\n",
       "      <td>21122.490234</td>\n",
       "      <td>38.991180</td>\n",
       "      <td>1907.911133</td>\n",
       "      <td>21121.59375</td>\n",
       "      <td>41.325581</td>\n",
       "      <td>-10.139493</td>\n",
       "      <td>-1.063594</td>\n",
       "      <td>0.0</td>\n",
       "      <td>303040192.0</td>\n",
       "      <td>5.17300</td>\n",
       "      <td>-2.334401</td>\n",
       "      <td>x11</td>\n",
       "    </tr>\n",
       "    <tr>\n",
       "      <th>2</th>\n",
       "      <td>1903.404541</td>\n",
       "      <td>21122.486328</td>\n",
       "      <td>38.990284</td>\n",
       "      <td>1907.911011</td>\n",
       "      <td>21121.59375</td>\n",
       "      <td>41.325989</td>\n",
       "      <td>-9.909495</td>\n",
       "      <td>-1.061419</td>\n",
       "      <td>0.0</td>\n",
       "      <td>303040192.0</td>\n",
       "      <td>5.15375</td>\n",
       "      <td>-2.335705</td>\n",
       "      <td>x11</td>\n",
       "    </tr>\n",
       "    <tr>\n",
       "      <th>3</th>\n",
       "      <td>1903.428223</td>\n",
       "      <td>21122.480469</td>\n",
       "      <td>38.990547</td>\n",
       "      <td>1907.910767</td>\n",
       "      <td>21121.59375</td>\n",
       "      <td>41.326397</td>\n",
       "      <td>-9.559498</td>\n",
       "      <td>-1.059231</td>\n",
       "      <td>0.0</td>\n",
       "      <td>303040192.0</td>\n",
       "      <td>5.13200</td>\n",
       "      <td>-2.335850</td>\n",
       "      <td>x11</td>\n",
       "    </tr>\n",
       "    <tr>\n",
       "      <th>4</th>\n",
       "      <td>1903.451538</td>\n",
       "      <td>21122.476562</td>\n",
       "      <td>38.991211</td>\n",
       "      <td>1907.910645</td>\n",
       "      <td>21121.59375</td>\n",
       "      <td>41.326786</td>\n",
       "      <td>-10.209500</td>\n",
       "      <td>-1.057138</td>\n",
       "      <td>0.0</td>\n",
       "      <td>303040192.0</td>\n",
       "      <td>5.11050</td>\n",
       "      <td>-2.335575</td>\n",
       "      <td>x11</td>\n",
       "    </tr>\n",
       "    <tr>\n",
       "      <th>5</th>\n",
       "      <td>1903.474854</td>\n",
       "      <td>21122.470703</td>\n",
       "      <td>38.991467</td>\n",
       "      <td>1907.910400</td>\n",
       "      <td>21121.59375</td>\n",
       "      <td>41.327194</td>\n",
       "      <td>-10.499502</td>\n",
       "      <td>-1.054956</td>\n",
       "      <td>0.0</td>\n",
       "      <td>303040192.0</td>\n",
       "      <td>5.08925</td>\n",
       "      <td>-2.335727</td>\n",
       "      <td>x11</td>\n",
       "    </tr>\n",
       "  </tbody>\n",
       "</table>\n",
       "</div>"
      ],
      "text/plain": [
       "             X             Y          Z     x_origin     y_origin   z_origin  \\\n",
       "1  1903.382935  21122.490234  38.991180  1907.911133  21121.59375  41.325581   \n",
       "2  1903.404541  21122.486328  38.990284  1907.911011  21121.59375  41.325989   \n",
       "3  1903.428223  21122.480469  38.990547  1907.910767  21121.59375  41.326397   \n",
       "4  1903.451538  21122.476562  38.991211  1907.910645  21121.59375  41.326786   \n",
       "5  1903.474854  21122.470703  38.991467  1907.910400  21121.59375  41.327194   \n",
       "\n",
       "   reflectance     theta   id        class    range  relative_height  \\\n",
       "1   -10.139493 -1.063594  0.0  303040192.0  5.17300        -2.334401   \n",
       "2    -9.909495 -1.061419  0.0  303040192.0  5.15375        -2.335705   \n",
       "3    -9.559498 -1.059231  0.0  303040192.0  5.13200        -2.335850   \n",
       "4   -10.209500 -1.057138  0.0  303040192.0  5.11050        -2.335575   \n",
       "5   -10.499502 -1.054956  0.0  303040192.0  5.08925        -2.335727   \n",
       "\n",
       "  class_category  \n",
       "1            x11  \n",
       "2            x11  \n",
       "3            x11  \n",
       "4            x11  \n",
       "5            x11  "
      ]
     },
     "execution_count": 93,
     "metadata": {},
     "output_type": "execute_result"
    }
   ],
   "source": [
    "df.head()"
   ]
  },
  {
   "cell_type": "code",
   "execution_count": 101,
   "metadata": {},
   "outputs": [],
   "source": [
    "df = df[df[\"class\"] != 0.0]"
   ]
  },
  {
   "cell_type": "code",
   "execution_count": 102,
   "metadata": {},
   "outputs": [
    {
     "data": {
      "text/plain": [
       "203000000.0    7027016\n",
       "202020000.0    3196982\n",
       "202030000.0     907894\n",
       "303040192.0     368271\n",
       "304020000.0     202728\n",
       "202040000.0      64303\n",
       "202010000.0      60460\n",
       "303030304.0      38330\n",
       "302020288.0      19912\n",
       "302030400.0      18425\n",
       "303020192.0      15051\n",
       "304040000.0       9403\n",
       "303020288.0       4065\n",
       "303020608.0       3848\n",
       "302020416.0       2478\n",
       "301000000.0       2306\n",
       "303030208.0       2001\n",
       "302020608.0       1355\n",
       "302020992.0       1200\n",
       "303020000.0       1035\n",
       "302020896.0        429\n",
       "Name: class, dtype: int64"
      ]
     },
     "execution_count": 102,
     "metadata": {},
     "output_type": "execute_result"
    }
   ],
   "source": [
    "df[\"class\"].value_counts()"
   ]
  },
  {
   "cell_type": "code",
   "execution_count": 103,
   "metadata": {},
   "outputs": [
    {
     "data": {
      "image/png": "[encoded data removed]",
      "text/plain": [
       "<matplotlib.figure.Figure at 0x18960ea3470>"
      ]
     },
     "metadata": {},
     "output_type": "display_data"
    }
   ],
   "source": [
    "df['class_category'].value_counts().plot(kind='bar', logy=True, title=\"Histogram of existing classes\"), plt.show();"
   ]
  },
  {
   "cell_type": "code",
   "execution_count": null,
   "metadata": {
    "collapsed": true
   },
   "outputs": [],
   "source": []
  }
 ],
 "metadata": {
  "kernelspec": {
   "display_name": "Python 2",
   "language": "python",
   "name": "python2"
  },
  "language_info": {
   "codemirror_mode": {
    "name": "ipython",
    "version": 2
   },
   "file_extension": ".py",
   "mimetype": "text/x-python",
   "name": "python",
   "nbconvert_exporter": "python",
   "pygments_lexer": "ipython2",
   "version": "2.7.15rc1"
  }
 },
 "nbformat": 4,
 "nbformat_minor": 2
}
